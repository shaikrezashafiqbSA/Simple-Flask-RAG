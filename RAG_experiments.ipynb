{
 "cells": [
  {
   "cell_type": "code",
   "execution_count": 13,
   "metadata": {},
   "outputs": [
    {
     "name": "stdout",
     "output_type": "stream",
     "text": [
      "models/gemini-1.0-pro\n",
      "models/gemini-1.0-pro-001\n",
      "models/gemini-1.0-pro-latest\n",
      "models/gemini-1.0-pro-vision-latest\n",
      "models/gemini-1.5-flash-001\n",
      "models/gemini-1.5-flash-latest\n",
      "models/gemini-1.5-pro-001\n",
      "models/gemini-1.5-pro-latest\n",
      "models/gemini-pro\n",
      "models/gemini-pro-vision\n"
     ]
    },
    {
     "data": {
      "text/plain": [
       "total_tokens: 10"
      ]
     },
     "execution_count": 13,
     "metadata": {},
     "output_type": "execute_result"
    }
   ],
   "source": [
    "from settings import GEMINI_API_KEY\n",
    "import google.generativeai as genai\n",
    "genai.configure(api_key = GEMINI_API_KEY)\n",
    "\n",
    "for m in genai.list_models():\n",
    "    if 'generateContent' in m.supported_generation_methods:\n",
    "        print(m.name)\n",
    "\n",
    "model = genai.GenerativeModel('models/gemini-1.0-pro-latest')\n",
    "model.count_tokens(\"The quick brown fox jumps over the lazy dog.\")\n"
   ]
  },
  {
   "cell_type": "code",
   "execution_count": 12,
   "metadata": {},
   "outputs": [
    {
     "ename": "NotFound",
     "evalue": "404 models/text-embedding-001 is not found for API version v1beta, or is not supported for embedContent. Call ListModels to see the list of available models and their supported methods.",
     "output_type": "error",
     "traceback": [
      "\u001b[1;31m---------------------------------------------------------------------------\u001b[0m",
      "\u001b[1;31mNotFound\u001b[0m                                  Traceback (most recent call last)",
      "Cell \u001b[1;32mIn[12], line 3\u001b[0m\n\u001b[0;32m      1\u001b[0m text\u001b[38;5;241m=\u001b[39m \u001b[38;5;124m\"\u001b[39m\u001b[38;5;124mtestsetsetset\u001b[39m\u001b[38;5;124m\"\u001b[39m\n\u001b[0;32m      2\u001b[0m title \u001b[38;5;241m=\u001b[39m \u001b[38;5;124m\"\u001b[39m\u001b[38;5;124mtest\u001b[39m\u001b[38;5;124m\"\u001b[39m\n\u001b[1;32m----> 3\u001b[0m test \u001b[38;5;241m=\u001b[39m \u001b[43mgenai\u001b[49m\u001b[38;5;241;43m.\u001b[39;49m\u001b[43membed_content\u001b[49m\u001b[43m(\u001b[49m\u001b[43mmodel\u001b[49m\u001b[38;5;241;43m=\u001b[39;49m\u001b[38;5;124;43m'\u001b[39;49m\u001b[38;5;124;43mmodels/text-embedding-001\u001b[39;49m\u001b[38;5;124;43m'\u001b[39;49m\u001b[43m,\u001b[49m\u001b[43m \u001b[49m\n\u001b[0;32m      4\u001b[0m \u001b[43m                    \u001b[49m\u001b[43mcontent\u001b[49m\u001b[38;5;241;43m=\u001b[39;49m\u001b[43mtext\u001b[49m\u001b[43m,\u001b[49m\n\u001b[0;32m      5\u001b[0m \u001b[43m                    \u001b[49m\u001b[43mtask_type\u001b[49m\u001b[43m \u001b[49m\u001b[38;5;241;43m=\u001b[39;49m\u001b[43m \u001b[49m\u001b[38;5;124;43m\"\u001b[39;49m\u001b[38;5;124;43mretrieval_document\u001b[39;49m\u001b[38;5;124;43m\"\u001b[39;49m\u001b[43m,\u001b[49m\n\u001b[0;32m      6\u001b[0m \u001b[43m                    \u001b[49m\u001b[43mtitle\u001b[49m\u001b[43m \u001b[49m\u001b[38;5;241;43m=\u001b[39;49m\u001b[43m \u001b[49m\u001b[43mtitle\u001b[49m\u001b[43m)\u001b[49m\n",
      "File \u001b[1;32md:\\PycharmProjects\\smart-travels\\.venv\\Lib\\site-packages\\google\\generativeai\\embedding.py:182\u001b[0m, in \u001b[0;36membed_content\u001b[1;34m(model, content, task_type, title, client, request_options)\u001b[0m\n\u001b[0;32m    178\u001b[0m \u001b[38;5;28;01melse\u001b[39;00m:\n\u001b[0;32m    179\u001b[0m     embedding_request \u001b[38;5;241m=\u001b[39m glm\u001b[38;5;241m.\u001b[39mEmbedContentRequest(\n\u001b[0;32m    180\u001b[0m         model\u001b[38;5;241m=\u001b[39mmodel, content\u001b[38;5;241m=\u001b[39mcontent_types\u001b[38;5;241m.\u001b[39mto_content(content), task_type\u001b[38;5;241m=\u001b[39mtask_type, title\u001b[38;5;241m=\u001b[39mtitle\n\u001b[0;32m    181\u001b[0m     )\n\u001b[1;32m--> 182\u001b[0m     embedding_response \u001b[38;5;241m=\u001b[39m \u001b[43mclient\u001b[49m\u001b[38;5;241;43m.\u001b[39;49m\u001b[43membed_content\u001b[49m\u001b[43m(\u001b[49m\n\u001b[0;32m    183\u001b[0m \u001b[43m        \u001b[49m\u001b[43membedding_request\u001b[49m\u001b[43m,\u001b[49m\n\u001b[0;32m    184\u001b[0m \u001b[43m        \u001b[49m\u001b[38;5;241;43m*\u001b[39;49m\u001b[38;5;241;43m*\u001b[39;49m\u001b[43mrequest_options\u001b[49m\u001b[43m,\u001b[49m\n\u001b[0;32m    185\u001b[0m \u001b[43m    \u001b[49m\u001b[43m)\u001b[49m\n\u001b[0;32m    186\u001b[0m     embedding_dict \u001b[38;5;241m=\u001b[39m \u001b[38;5;28mtype\u001b[39m(embedding_response)\u001b[38;5;241m.\u001b[39mto_dict(embedding_response)\n\u001b[0;32m    187\u001b[0m     embedding_dict[\u001b[38;5;124m\"\u001b[39m\u001b[38;5;124membedding\u001b[39m\u001b[38;5;124m\"\u001b[39m] \u001b[38;5;241m=\u001b[39m embedding_dict[\u001b[38;5;124m\"\u001b[39m\u001b[38;5;124membedding\u001b[39m\u001b[38;5;124m\"\u001b[39m][\u001b[38;5;124m\"\u001b[39m\u001b[38;5;124mvalues\u001b[39m\u001b[38;5;124m\"\u001b[39m]\n",
      "File \u001b[1;32md:\\PycharmProjects\\smart-travels\\.venv\\Lib\\site-packages\\google\\ai\\generativelanguage_v1beta\\services\\generative_service\\client.py:1209\u001b[0m, in \u001b[0;36mGenerativeServiceClient.embed_content\u001b[1;34m(self, request, model, content, retry, timeout, metadata)\u001b[0m\n\u001b[0;32m   1206\u001b[0m \u001b[38;5;28mself\u001b[39m\u001b[38;5;241m.\u001b[39m_validate_universe_domain()\n\u001b[0;32m   1208\u001b[0m \u001b[38;5;66;03m# Send the request.\u001b[39;00m\n\u001b[1;32m-> 1209\u001b[0m response \u001b[38;5;241m=\u001b[39m \u001b[43mrpc\u001b[49m\u001b[43m(\u001b[49m\n\u001b[0;32m   1210\u001b[0m \u001b[43m    \u001b[49m\u001b[43mrequest\u001b[49m\u001b[43m,\u001b[49m\n\u001b[0;32m   1211\u001b[0m \u001b[43m    \u001b[49m\u001b[43mretry\u001b[49m\u001b[38;5;241;43m=\u001b[39;49m\u001b[43mretry\u001b[49m\u001b[43m,\u001b[49m\n\u001b[0;32m   1212\u001b[0m \u001b[43m    \u001b[49m\u001b[43mtimeout\u001b[49m\u001b[38;5;241;43m=\u001b[39;49m\u001b[43mtimeout\u001b[49m\u001b[43m,\u001b[49m\n\u001b[0;32m   1213\u001b[0m \u001b[43m    \u001b[49m\u001b[43mmetadata\u001b[49m\u001b[38;5;241;43m=\u001b[39;49m\u001b[43mmetadata\u001b[49m\u001b[43m,\u001b[49m\n\u001b[0;32m   1214\u001b[0m \u001b[43m\u001b[49m\u001b[43m)\u001b[49m\n\u001b[0;32m   1216\u001b[0m \u001b[38;5;66;03m# Done; return the response.\u001b[39;00m\n\u001b[0;32m   1217\u001b[0m \u001b[38;5;28;01mreturn\u001b[39;00m response\n",
      "File \u001b[1;32md:\\PycharmProjects\\smart-travels\\.venv\\Lib\\site-packages\\google\\api_core\\gapic_v1\\method.py:131\u001b[0m, in \u001b[0;36m_GapicCallable.__call__\u001b[1;34m(self, timeout, retry, compression, *args, **kwargs)\u001b[0m\n\u001b[0;32m    128\u001b[0m \u001b[38;5;28;01mif\u001b[39;00m \u001b[38;5;28mself\u001b[39m\u001b[38;5;241m.\u001b[39m_compression \u001b[38;5;129;01mis\u001b[39;00m \u001b[38;5;129;01mnot\u001b[39;00m \u001b[38;5;28;01mNone\u001b[39;00m:\n\u001b[0;32m    129\u001b[0m     kwargs[\u001b[38;5;124m\"\u001b[39m\u001b[38;5;124mcompression\u001b[39m\u001b[38;5;124m\"\u001b[39m] \u001b[38;5;241m=\u001b[39m compression\n\u001b[1;32m--> 131\u001b[0m \u001b[38;5;28;01mreturn\u001b[39;00m \u001b[43mwrapped_func\u001b[49m\u001b[43m(\u001b[49m\u001b[38;5;241;43m*\u001b[39;49m\u001b[43margs\u001b[49m\u001b[43m,\u001b[49m\u001b[43m \u001b[49m\u001b[38;5;241;43m*\u001b[39;49m\u001b[38;5;241;43m*\u001b[39;49m\u001b[43mkwargs\u001b[49m\u001b[43m)\u001b[49m\n",
      "File \u001b[1;32md:\\PycharmProjects\\smart-travels\\.venv\\Lib\\site-packages\\google\\api_core\\retry\\retry_unary.py:293\u001b[0m, in \u001b[0;36mRetry.__call__.<locals>.retry_wrapped_func\u001b[1;34m(*args, **kwargs)\u001b[0m\n\u001b[0;32m    289\u001b[0m target \u001b[38;5;241m=\u001b[39m functools\u001b[38;5;241m.\u001b[39mpartial(func, \u001b[38;5;241m*\u001b[39margs, \u001b[38;5;241m*\u001b[39m\u001b[38;5;241m*\u001b[39mkwargs)\n\u001b[0;32m    290\u001b[0m sleep_generator \u001b[38;5;241m=\u001b[39m exponential_sleep_generator(\n\u001b[0;32m    291\u001b[0m     \u001b[38;5;28mself\u001b[39m\u001b[38;5;241m.\u001b[39m_initial, \u001b[38;5;28mself\u001b[39m\u001b[38;5;241m.\u001b[39m_maximum, multiplier\u001b[38;5;241m=\u001b[39m\u001b[38;5;28mself\u001b[39m\u001b[38;5;241m.\u001b[39m_multiplier\n\u001b[0;32m    292\u001b[0m )\n\u001b[1;32m--> 293\u001b[0m \u001b[38;5;28;01mreturn\u001b[39;00m \u001b[43mretry_target\u001b[49m\u001b[43m(\u001b[49m\n\u001b[0;32m    294\u001b[0m \u001b[43m    \u001b[49m\u001b[43mtarget\u001b[49m\u001b[43m,\u001b[49m\n\u001b[0;32m    295\u001b[0m \u001b[43m    \u001b[49m\u001b[38;5;28;43mself\u001b[39;49m\u001b[38;5;241;43m.\u001b[39;49m\u001b[43m_predicate\u001b[49m\u001b[43m,\u001b[49m\n\u001b[0;32m    296\u001b[0m \u001b[43m    \u001b[49m\u001b[43msleep_generator\u001b[49m\u001b[43m,\u001b[49m\n\u001b[0;32m    297\u001b[0m \u001b[43m    \u001b[49m\u001b[43mtimeout\u001b[49m\u001b[38;5;241;43m=\u001b[39;49m\u001b[38;5;28;43mself\u001b[39;49m\u001b[38;5;241;43m.\u001b[39;49m\u001b[43m_timeout\u001b[49m\u001b[43m,\u001b[49m\n\u001b[0;32m    298\u001b[0m \u001b[43m    \u001b[49m\u001b[43mon_error\u001b[49m\u001b[38;5;241;43m=\u001b[39;49m\u001b[43mon_error\u001b[49m\u001b[43m,\u001b[49m\n\u001b[0;32m    299\u001b[0m \u001b[43m\u001b[49m\u001b[43m)\u001b[49m\n",
      "File \u001b[1;32md:\\PycharmProjects\\smart-travels\\.venv\\Lib\\site-packages\\google\\api_core\\retry\\retry_unary.py:153\u001b[0m, in \u001b[0;36mretry_target\u001b[1;34m(target, predicate, sleep_generator, timeout, on_error, exception_factory, **kwargs)\u001b[0m\n\u001b[0;32m    149\u001b[0m \u001b[38;5;66;03m# pylint: disable=broad-except\u001b[39;00m\n\u001b[0;32m    150\u001b[0m \u001b[38;5;66;03m# This function explicitly must deal with broad exceptions.\u001b[39;00m\n\u001b[0;32m    151\u001b[0m \u001b[38;5;28;01mexcept\u001b[39;00m \u001b[38;5;167;01mException\u001b[39;00m \u001b[38;5;28;01mas\u001b[39;00m exc:\n\u001b[0;32m    152\u001b[0m     \u001b[38;5;66;03m# defer to shared logic for handling errors\u001b[39;00m\n\u001b[1;32m--> 153\u001b[0m     \u001b[43m_retry_error_helper\u001b[49m\u001b[43m(\u001b[49m\n\u001b[0;32m    154\u001b[0m \u001b[43m        \u001b[49m\u001b[43mexc\u001b[49m\u001b[43m,\u001b[49m\n\u001b[0;32m    155\u001b[0m \u001b[43m        \u001b[49m\u001b[43mdeadline\u001b[49m\u001b[43m,\u001b[49m\n\u001b[0;32m    156\u001b[0m \u001b[43m        \u001b[49m\u001b[43msleep\u001b[49m\u001b[43m,\u001b[49m\n\u001b[0;32m    157\u001b[0m \u001b[43m        \u001b[49m\u001b[43merror_list\u001b[49m\u001b[43m,\u001b[49m\n\u001b[0;32m    158\u001b[0m \u001b[43m        \u001b[49m\u001b[43mpredicate\u001b[49m\u001b[43m,\u001b[49m\n\u001b[0;32m    159\u001b[0m \u001b[43m        \u001b[49m\u001b[43mon_error\u001b[49m\u001b[43m,\u001b[49m\n\u001b[0;32m    160\u001b[0m \u001b[43m        \u001b[49m\u001b[43mexception_factory\u001b[49m\u001b[43m,\u001b[49m\n\u001b[0;32m    161\u001b[0m \u001b[43m        \u001b[49m\u001b[43mtimeout\u001b[49m\u001b[43m,\u001b[49m\n\u001b[0;32m    162\u001b[0m \u001b[43m    \u001b[49m\u001b[43m)\u001b[49m\n\u001b[0;32m    163\u001b[0m     \u001b[38;5;66;03m# if exception not raised, sleep before next attempt\u001b[39;00m\n\u001b[0;32m    164\u001b[0m     time\u001b[38;5;241m.\u001b[39msleep(sleep)\n",
      "File \u001b[1;32md:\\PycharmProjects\\smart-travels\\.venv\\Lib\\site-packages\\google\\api_core\\retry\\retry_base.py:212\u001b[0m, in \u001b[0;36m_retry_error_helper\u001b[1;34m(exc, deadline, next_sleep, error_list, predicate_fn, on_error_fn, exc_factory_fn, original_timeout)\u001b[0m\n\u001b[0;32m    206\u001b[0m \u001b[38;5;28;01mif\u001b[39;00m \u001b[38;5;129;01mnot\u001b[39;00m predicate_fn(exc):\n\u001b[0;32m    207\u001b[0m     final_exc, source_exc \u001b[38;5;241m=\u001b[39m exc_factory_fn(\n\u001b[0;32m    208\u001b[0m         error_list,\n\u001b[0;32m    209\u001b[0m         RetryFailureReason\u001b[38;5;241m.\u001b[39mNON_RETRYABLE_ERROR,\n\u001b[0;32m    210\u001b[0m         original_timeout,\n\u001b[0;32m    211\u001b[0m     )\n\u001b[1;32m--> 212\u001b[0m     \u001b[38;5;28;01mraise\u001b[39;00m final_exc \u001b[38;5;28;01mfrom\u001b[39;00m \u001b[38;5;21;01msource_exc\u001b[39;00m\n\u001b[0;32m    213\u001b[0m \u001b[38;5;28;01mif\u001b[39;00m on_error_fn \u001b[38;5;129;01mis\u001b[39;00m \u001b[38;5;129;01mnot\u001b[39;00m \u001b[38;5;28;01mNone\u001b[39;00m:\n\u001b[0;32m    214\u001b[0m     on_error_fn(exc)\n",
      "File \u001b[1;32md:\\PycharmProjects\\smart-travels\\.venv\\Lib\\site-packages\\google\\api_core\\retry\\retry_unary.py:144\u001b[0m, in \u001b[0;36mretry_target\u001b[1;34m(target, predicate, sleep_generator, timeout, on_error, exception_factory, **kwargs)\u001b[0m\n\u001b[0;32m    142\u001b[0m \u001b[38;5;28;01mfor\u001b[39;00m sleep \u001b[38;5;129;01min\u001b[39;00m sleep_generator:\n\u001b[0;32m    143\u001b[0m     \u001b[38;5;28;01mtry\u001b[39;00m:\n\u001b[1;32m--> 144\u001b[0m         result \u001b[38;5;241m=\u001b[39m \u001b[43mtarget\u001b[49m\u001b[43m(\u001b[49m\u001b[43m)\u001b[49m\n\u001b[0;32m    145\u001b[0m         \u001b[38;5;28;01mif\u001b[39;00m inspect\u001b[38;5;241m.\u001b[39misawaitable(result):\n\u001b[0;32m    146\u001b[0m             warnings\u001b[38;5;241m.\u001b[39mwarn(_ASYNC_RETRY_WARNING)\n",
      "File \u001b[1;32md:\\PycharmProjects\\smart-travels\\.venv\\Lib\\site-packages\\google\\api_core\\timeout.py:120\u001b[0m, in \u001b[0;36mTimeToDeadlineTimeout.__call__.<locals>.func_with_timeout\u001b[1;34m(*args, **kwargs)\u001b[0m\n\u001b[0;32m    117\u001b[0m     \u001b[38;5;66;03m# Avoid setting negative timeout\u001b[39;00m\n\u001b[0;32m    118\u001b[0m     kwargs[\u001b[38;5;124m\"\u001b[39m\u001b[38;5;124mtimeout\u001b[39m\u001b[38;5;124m\"\u001b[39m] \u001b[38;5;241m=\u001b[39m \u001b[38;5;28mmax\u001b[39m(\u001b[38;5;241m0\u001b[39m, \u001b[38;5;28mself\u001b[39m\u001b[38;5;241m.\u001b[39m_timeout \u001b[38;5;241m-\u001b[39m time_since_first_attempt)\n\u001b[1;32m--> 120\u001b[0m \u001b[38;5;28;01mreturn\u001b[39;00m \u001b[43mfunc\u001b[49m\u001b[43m(\u001b[49m\u001b[38;5;241;43m*\u001b[39;49m\u001b[43margs\u001b[49m\u001b[43m,\u001b[49m\u001b[43m \u001b[49m\u001b[38;5;241;43m*\u001b[39;49m\u001b[38;5;241;43m*\u001b[39;49m\u001b[43mkwargs\u001b[49m\u001b[43m)\u001b[49m\n",
      "File \u001b[1;32md:\\PycharmProjects\\smart-travels\\.venv\\Lib\\site-packages\\google\\api_core\\grpc_helpers.py:78\u001b[0m, in \u001b[0;36m_wrap_unary_errors.<locals>.error_remapped_callable\u001b[1;34m(*args, **kwargs)\u001b[0m\n\u001b[0;32m     76\u001b[0m     \u001b[38;5;28;01mreturn\u001b[39;00m callable_(\u001b[38;5;241m*\u001b[39margs, \u001b[38;5;241m*\u001b[39m\u001b[38;5;241m*\u001b[39mkwargs)\n\u001b[0;32m     77\u001b[0m \u001b[38;5;28;01mexcept\u001b[39;00m grpc\u001b[38;5;241m.\u001b[39mRpcError \u001b[38;5;28;01mas\u001b[39;00m exc:\n\u001b[1;32m---> 78\u001b[0m     \u001b[38;5;28;01mraise\u001b[39;00m exceptions\u001b[38;5;241m.\u001b[39mfrom_grpc_error(exc) \u001b[38;5;28;01mfrom\u001b[39;00m \u001b[38;5;21;01mexc\u001b[39;00m\n",
      "\u001b[1;31mNotFound\u001b[0m: 404 models/text-embedding-001 is not found for API version v1beta, or is not supported for embedContent. Call ListModels to see the list of available models and their supported methods."
     ]
    }
   ],
   "source": [
    "text= \"testsetsetset\"\n",
    "title = \"test\"\n",
    "test = genai.embed_content(model='models/text-embedding-004', \n",
    "                    content=text,\n",
    "                    task_type = \"retrieval_document\",\n",
    "                    title = title)"
   ]
  },
  {
   "cell_type": "markdown",
   "metadata": {},
   "source": [
    "# 1) RAG outline:\n"
   ]
  },
  {
   "cell_type": "code",
   "execution_count": null,
   "metadata": {},
   "outputs": [],
   "source": []
  },
  {
   "cell_type": "code",
   "execution_count": 10,
   "metadata": {},
   "outputs": [
    {
     "name": "stderr",
     "output_type": "stream",
     "text": [
      "d:\\PycharmProjects\\smart-travels\\.venv\\Lib\\site-packages\\tqdm\\auto.py:21: TqdmWarning: IProgress not found. Please update jupyter and ipywidgets. See https://ipywidgets.readthedocs.io/en/stable/user_install.html\n",
      "  from .autonotebook import tqdm as notebook_tqdm\n"
     ]
    }
   ],
   "source": [
    "from RAG.traveller import RAG\n",
    "rag = RAG()\n",
    "\n",
    "SHEET_NAME = \"Master Database\" \n",
    "WORKSHEET_NAME = \"inventory_processed\"\n",
    "df = rag.get_df(sheet_name = SHEET_NAME, worksheet_name = WORKSHEET_NAME)"
   ]
  },
  {
   "cell_type": "code",
   "execution_count": 2,
   "metadata": {},
   "outputs": [],
   "source": [
    "df1 = rag.embed_df(df, title=\"Title\", text=\"Text\")"
   ]
  },
  {
   "cell_type": "code",
   "execution_count": 3,
   "metadata": {},
   "outputs": [
    {
     "data": {
      "text/html": [
       "<div>\n",
       "<style scoped>\n",
       "    .dataframe tbody tr th:only-of-type {\n",
       "        vertical-align: middle;\n",
       "    }\n",
       "\n",
       "    .dataframe tbody tr th {\n",
       "        vertical-align: top;\n",
       "    }\n",
       "\n",
       "    .dataframe thead th {\n",
       "        text-align: right;\n",
       "    }\n",
       "</style>\n",
       "<table border=\"1\" class=\"dataframe\">\n",
       "  <thead>\n",
       "    <tr style=\"text-align: right;\">\n",
       "      <th></th>\n",
       "      <th>Destination</th>\n",
       "      <th>Title</th>\n",
       "      <th>Text</th>\n",
       "      <th>Embeddings</th>\n",
       "    </tr>\n",
       "  </thead>\n",
       "  <tbody>\n",
       "    <tr>\n",
       "      <th>0</th>\n",
       "      <td>partners - putrajaya - cruise</td>\n",
       "      <td>cruise tasik putrajaya</td>\n",
       "      <td>Cruise Tasik Putrajaya\\nCruise beyond your im...</td>\n",
       "      <td>[0.02785702, 0.04049749, -0.038079727, -0.0661...</td>\n",
       "    </tr>\n",
       "    <tr>\n",
       "      <th>1</th>\n",
       "      <td>partners - malacca - attractions</td>\n",
       "      <td>menara taming sari</td>\n",
       "      <td>MENARA TAMING SARI\\nMELAKA\\n\\nTaming Sari Tow...</td>\n",
       "      <td>[0.04842721, 0.06566964, -0.001694597, -0.0012...</td>\n",
       "    </tr>\n",
       "    <tr>\n",
       "      <th>2</th>\n",
       "      <td>partners - malacca - attractions</td>\n",
       "      <td>melaka river cruise</td>\n",
       "      <td>MELAKA RIVER CRUISE\\nS.M.A. MELAKA\\n\\nwww.mel...</td>\n",
       "      <td>[0.060001522, 0.05154308, -0.019224696, -0.050...</td>\n",
       "    </tr>\n",
       "    <tr>\n",
       "      <th>3</th>\n",
       "      <td>partners - terengganu - accommodation</td>\n",
       "      <td>perhentian island resort</td>\n",
       "      <td>**Perhentian Island Resort**\\n\\nPulau Perhent...</td>\n",
       "      <td>[0.04545973, -0.003452046, -0.0065804133, -0.0...</td>\n",
       "    </tr>\n",
       "    <tr>\n",
       "      <th>4</th>\n",
       "      <td>partner - terengganu - tour package</td>\n",
       "      <td>ag holidays</td>\n",
       "      <td>Pakej Aktiviti\\nKem Pelajar &amp; IPT\\nSetu Adven...</td>\n",
       "      <td>[-0.002626957, -0.0129379155, -0.025428655, -0...</td>\n",
       "    </tr>\n",
       "    <tr>\n",
       "      <th>5</th>\n",
       "      <td>partners - terengganu - tour package</td>\n",
       "      <td>tenggol coral beach resort</td>\n",
       "      <td>Tenggol \\nCoral Beach \\nResort\\n\\n浮潜配套\\n配套包括：...</td>\n",
       "      <td>[0.057933476, 0.010546263, -0.009384707, -0.00...</td>\n",
       "    </tr>\n",
       "    <tr>\n",
       "      <th>6</th>\n",
       "      <td>partners - terengganu - accommodation</td>\n",
       "      <td>ag holidays</td>\n",
       "      <td>AG SUITES\\nKETENANGAN ITU MEMBAHAGIAKAN\\n011-...</td>\n",
       "      <td>[0.04481308, -0.001814087, 0.036361963, -0.020...</td>\n",
       "    </tr>\n",
       "    <tr>\n",
       "      <th>7</th>\n",
       "      <td>partners - johor - theme park</td>\n",
       "      <td>legoland</td>\n",
       "      <td>MATTA FAIR EXCLUSIVE \\nMitec 2C01\\n\\nPAY FOR ...</td>\n",
       "      <td>[0.019847477, 0.0076364363, 0.002201427, -0.03...</td>\n",
       "    </tr>\n",
       "    <tr>\n",
       "      <th>8</th>\n",
       "      <td>partners - johor - theme park</td>\n",
       "      <td>legoland</td>\n",
       "      <td>MATTA FAIR EXCLUSIVE \\nMitec 2C01\\n\\nPAY FOR ...</td>\n",
       "      <td>[0.01988468, 0.0057520024, 0.0025358577, -0.03...</td>\n",
       "    </tr>\n",
       "    <tr>\n",
       "      <th>9</th>\n",
       "      <td>partners - negeri sembilan - leisure</td>\n",
       "      <td>sky ladder pineapple farm</td>\n",
       "      <td>SkyLadder\\nPineapple Farm\\nNature. Explore. R...</td>\n",
       "      <td>[0.021492492, 0.026504407, -0.028603036, -0.00...</td>\n",
       "    </tr>\n",
       "    <tr>\n",
       "      <th>10</th>\n",
       "      <td>partners - negeri sembilan - accomodation &amp; re...</td>\n",
       "      <td>dataran segar city</td>\n",
       "      <td>WONDROUS\\nSTAY PACKAGE\\n\\nTasik Villa\\nIntern...</td>\n",
       "      <td>[0.014910541, -0.023930734, 0.014321615, -0.03...</td>\n",
       "    </tr>\n",
       "    <tr>\n",
       "      <th>11</th>\n",
       "      <td>partners - negeri sembilan - accomodation</td>\n",
       "      <td>tasik villa international resort port dickson</td>\n",
       "      <td>Tasiik Villa\\nInternational Resort\\nPort Dick...</td>\n",
       "      <td>[0.035173576, -0.0016962138, 0.020557813, -0.0...</td>\n",
       "    </tr>\n",
       "    <tr>\n",
       "      <th>12</th>\n",
       "      <td>partners - penang - museum</td>\n",
       "      <td>ghost museum</td>\n",
       "      <td>幽灵博物馆\\nCOOL GHOST MUSEUM\\n1ST AND ONLY IN MAL...</td>\n",
       "      <td>[-0.005583892, 0.054594845, -0.020913493, -0.0...</td>\n",
       "    </tr>\n",
       "    <tr>\n",
       "      <th>13</th>\n",
       "      <td>partners - penang - entertainment</td>\n",
       "      <td>the top penang</td>\n",
       "      <td>ARCH 2024 MITEC, KL\\n\\nThe TOP \\nPENANG\\nHigh...</td>\n",
       "      <td>[0.06559584, 0.023456864, -0.033938594, -0.029...</td>\n",
       "    </tr>\n",
       "    <tr>\n",
       "      <th>14</th>\n",
       "      <td>partners - penang - entertainment</td>\n",
       "      <td>magic world penang</td>\n",
       "      <td>[Image of a Magic World Penang sign with a ma...</td>\n",
       "      <td>[-0.0018990301, 0.030383885, -0.03832716, -0.0...</td>\n",
       "    </tr>\n",
       "    <tr>\n",
       "      <th>15</th>\n",
       "      <td>partners - penang - f&amp;b</td>\n",
       "      <td>de' 8000 mini golf cafe</td>\n",
       "      <td>De' 8000\\nMini Golf Cafe\\n1st in Malaysia\\n\\n...</td>\n",
       "      <td>[0.017887617, -0.010630016, 0.00758781, -0.075...</td>\n",
       "    </tr>\n",
       "    <tr>\n",
       "      <th>16</th>\n",
       "      <td>partners - penang - accomodation</td>\n",
       "      <td>raia inn penang</td>\n",
       "      <td>Raia Inn Penang\\n\\nJom Cuti Raia\\n\\nSpacious ...</td>\n",
       "      <td>[0.02844026, -0.011136843, 0.0031094996, -0.03...</td>\n",
       "    </tr>\n",
       "  </tbody>\n",
       "</table>\n",
       "</div>"
      ],
      "text/plain": [
       "                                          Destination  \\\n",
       "0                       partners - putrajaya - cruise   \n",
       "1                    partners - malacca - attractions   \n",
       "2                    partners - malacca - attractions   \n",
       "3               partners - terengganu - accommodation   \n",
       "4                 partner - terengganu - tour package   \n",
       "5                partners - terengganu - tour package   \n",
       "6               partners - terengganu - accommodation   \n",
       "7                       partners - johor - theme park   \n",
       "8                       partners - johor - theme park   \n",
       "9                partners - negeri sembilan - leisure   \n",
       "10  partners - negeri sembilan - accomodation & re...   \n",
       "11          partners - negeri sembilan - accomodation   \n",
       "12                         partners - penang - museum   \n",
       "13                  partners - penang - entertainment   \n",
       "14                  partners - penang - entertainment   \n",
       "15                            partners - penang - f&b   \n",
       "16                   partners - penang - accomodation   \n",
       "\n",
       "                                            Title  \\\n",
       "0                          cruise tasik putrajaya   \n",
       "1                              menara taming sari   \n",
       "2                             melaka river cruise   \n",
       "3                        perhentian island resort   \n",
       "4                                     ag holidays   \n",
       "5                      tenggol coral beach resort   \n",
       "6                                     ag holidays   \n",
       "7                                        legoland   \n",
       "8                                        legoland   \n",
       "9                       sky ladder pineapple farm   \n",
       "10                             dataran segar city   \n",
       "11  tasik villa international resort port dickson   \n",
       "12                                   ghost museum   \n",
       "13                                 the top penang   \n",
       "14                             magic world penang   \n",
       "15                        de' 8000 mini golf cafe   \n",
       "16                                raia inn penang   \n",
       "\n",
       "                                                 Text  \\\n",
       "0    Cruise Tasik Putrajaya\\nCruise beyond your im...   \n",
       "1    MENARA TAMING SARI\\nMELAKA\\n\\nTaming Sari Tow...   \n",
       "2    MELAKA RIVER CRUISE\\nS.M.A. MELAKA\\n\\nwww.mel...   \n",
       "3    **Perhentian Island Resort**\\n\\nPulau Perhent...   \n",
       "4    Pakej Aktiviti\\nKem Pelajar & IPT\\nSetu Adven...   \n",
       "5    Tenggol \\nCoral Beach \\nResort\\n\\n浮潜配套\\n配套包括：...   \n",
       "6    AG SUITES\\nKETENANGAN ITU MEMBAHAGIAKAN\\n011-...   \n",
       "7    MATTA FAIR EXCLUSIVE \\nMitec 2C01\\n\\nPAY FOR ...   \n",
       "8    MATTA FAIR EXCLUSIVE \\nMitec 2C01\\n\\nPAY FOR ...   \n",
       "9    SkyLadder\\nPineapple Farm\\nNature. Explore. R...   \n",
       "10   WONDROUS\\nSTAY PACKAGE\\n\\nTasik Villa\\nIntern...   \n",
       "11   Tasiik Villa\\nInternational Resort\\nPort Dick...   \n",
       "12   幽灵博物馆\\nCOOL GHOST MUSEUM\\n1ST AND ONLY IN MAL...   \n",
       "13   ARCH 2024 MITEC, KL\\n\\nThe TOP \\nPENANG\\nHigh...   \n",
       "14   [Image of a Magic World Penang sign with a ma...   \n",
       "15   De' 8000\\nMini Golf Cafe\\n1st in Malaysia\\n\\n...   \n",
       "16   Raia Inn Penang\\n\\nJom Cuti Raia\\n\\nSpacious ...   \n",
       "\n",
       "                                           Embeddings  \n",
       "0   [0.02785702, 0.04049749, -0.038079727, -0.0661...  \n",
       "1   [0.04842721, 0.06566964, -0.001694597, -0.0012...  \n",
       "2   [0.060001522, 0.05154308, -0.019224696, -0.050...  \n",
       "3   [0.04545973, -0.003452046, -0.0065804133, -0.0...  \n",
       "4   [-0.002626957, -0.0129379155, -0.025428655, -0...  \n",
       "5   [0.057933476, 0.010546263, -0.009384707, -0.00...  \n",
       "6   [0.04481308, -0.001814087, 0.036361963, -0.020...  \n",
       "7   [0.019847477, 0.0076364363, 0.002201427, -0.03...  \n",
       "8   [0.01988468, 0.0057520024, 0.0025358577, -0.03...  \n",
       "9   [0.021492492, 0.026504407, -0.028603036, -0.00...  \n",
       "10  [0.014910541, -0.023930734, 0.014321615, -0.03...  \n",
       "11  [0.035173576, -0.0016962138, 0.020557813, -0.0...  \n",
       "12  [-0.005583892, 0.054594845, -0.020913493, -0.0...  \n",
       "13  [0.06559584, 0.023456864, -0.033938594, -0.029...  \n",
       "14  [-0.0018990301, 0.030383885, -0.03832716, -0.0...  \n",
       "15  [0.017887617, -0.010630016, 0.00758781, -0.075...  \n",
       "16  [0.02844026, -0.011136843, 0.0031094996, -0.03...  "
      ]
     },
     "execution_count": 3,
     "metadata": {},
     "output_type": "execute_result"
    }
   ],
   "source": [
    "df1"
   ]
  },
  {
   "cell_type": "code",
   "execution_count": 5,
   "metadata": {},
   "outputs": [],
   "source": [
    "query_embedding = rag.embed_text(\"penang exciting place to visit\", task_type=\"retrieval_query\")"
   ]
  },
  {
   "cell_type": "code",
   "execution_count": 9,
   "metadata": {},
   "outputs": [],
   "source": [
    "import numpy as np\n",
    "import pandas as pd\n",
    "dataframe = df1\n",
    "topN = 2\n",
    "\n",
    "dot_products = np.dot(np.stack(dataframe['Embeddings']), query_embedding)\n",
    "idx = np.argsort(dot_products)[-topN:][::-1]\n",
    "\n",
    "# Create a DataFrame with passages and scores\n",
    "top_passages = pd.DataFrame({'Text': dataframe.iloc[idx]['Text'], 'Score': dot_products[idx]})"
   ]
  },
  {
   "cell_type": "code",
   "execution_count": null,
   "metadata": {},
   "outputs": [],
   "source": []
  },
  {
   "cell_type": "code",
   "execution_count": null,
   "metadata": {},
   "outputs": [],
   "source": []
  },
  {
   "cell_type": "code",
   "execution_count": 10,
   "metadata": {},
   "outputs": [
    {
     "data": {
      "text/html": [
       "<div>\n",
       "<style scoped>\n",
       "    .dataframe tbody tr th:only-of-type {\n",
       "        vertical-align: middle;\n",
       "    }\n",
       "\n",
       "    .dataframe tbody tr th {\n",
       "        vertical-align: top;\n",
       "    }\n",
       "\n",
       "    .dataframe thead th {\n",
       "        text-align: right;\n",
       "    }\n",
       "</style>\n",
       "<table border=\"1\" class=\"dataframe\">\n",
       "  <thead>\n",
       "    <tr style=\"text-align: right;\">\n",
       "      <th></th>\n",
       "      <th>Passage</th>\n",
       "      <th>Similarity Score</th>\n",
       "    </tr>\n",
       "  </thead>\n",
       "  <tbody>\n",
       "    <tr>\n",
       "      <th>0</th>\n",
       "      <td>AG SUITES\\nKETENANGAN ITU MEMBAHAGIAKAN\\n011-...</td>\n",
       "      <td>-0.024121</td>\n",
       "    </tr>\n",
       "    <tr>\n",
       "      <th>1</th>\n",
       "      <td>Tasiik Villa\\nInternational Resort\\nPort Dick...</td>\n",
       "      <td>-0.041005</td>\n",
       "    </tr>\n",
       "  </tbody>\n",
       "</table>\n",
       "</div>"
      ],
      "text/plain": [
       "                                             Passage  Similarity Score\n",
       "0   AG SUITES\\nKETENANGAN ITU MEMBAHAGIAKAN\\n011-...         -0.024121\n",
       "1   Tasiik Villa\\nInternational Resort\\nPort Dick...         -0.041005"
      ]
     },
     "execution_count": 10,
     "metadata": {},
     "output_type": "execute_result"
    }
   ],
   "source": [
    "top_passages.reset_index(drop=True).rename(columns={'Text': 'Passage', 'Score': 'Similarity Score'})"
   ]
  },
  {
   "cell_type": "code",
   "execution_count": 11,
   "metadata": {},
   "outputs": [
    {
     "data": {
      "text/html": [
       "<div>\n",
       "<style scoped>\n",
       "    .dataframe tbody tr th:only-of-type {\n",
       "        vertical-align: middle;\n",
       "    }\n",
       "\n",
       "    .dataframe tbody tr th {\n",
       "        vertical-align: top;\n",
       "    }\n",
       "\n",
       "    .dataframe thead th {\n",
       "        text-align: right;\n",
       "    }\n",
       "</style>\n",
       "<table border=\"1\" class=\"dataframe\">\n",
       "  <thead>\n",
       "    <tr style=\"text-align: right;\">\n",
       "      <th></th>\n",
       "      <th>Text</th>\n",
       "      <th>Score</th>\n",
       "    </tr>\n",
       "  </thead>\n",
       "  <tbody>\n",
       "    <tr>\n",
       "      <th>6</th>\n",
       "      <td>AG SUITES\\nKETENANGAN ITU MEMBAHAGIAKAN\\n011-...</td>\n",
       "      <td>-0.024121</td>\n",
       "    </tr>\n",
       "    <tr>\n",
       "      <th>11</th>\n",
       "      <td>Tasiik Villa\\nInternational Resort\\nPort Dick...</td>\n",
       "      <td>-0.041005</td>\n",
       "    </tr>\n",
       "  </tbody>\n",
       "</table>\n",
       "</div>"
      ],
      "text/plain": [
       "                                                 Text     Score\n",
       "6    AG SUITES\\nKETENANGAN ITU MEMBAHAGIAKAN\\n011-... -0.024121\n",
       "11   Tasiik Villa\\nInternational Resort\\nPort Dick... -0.041005"
      ]
     },
     "execution_count": 11,
     "metadata": {},
     "output_type": "execute_result"
    }
   ],
   "source": [
    "top_passages"
   ]
  },
  {
   "cell_type": "code",
   "execution_count": null,
   "metadata": {},
   "outputs": [],
   "source": []
  },
  {
   "cell_type": "code",
   "execution_count": null,
   "metadata": {},
   "outputs": [],
   "source": []
  },
  {
   "cell_type": "code",
   "execution_count": null,
   "metadata": {},
   "outputs": [],
   "source": []
  },
  {
   "cell_type": "markdown",
   "metadata": {},
   "source": [
    "## 2) Cohere RAG test"
   ]
  },
  {
   "cell_type": "code",
   "execution_count": 1,
   "metadata": {},
   "outputs": [],
   "source": [
    "from RAG.cohere_RAG import RAG\n",
    "query = \"Penang, 2 days, foodie\"\n",
    "rag = RAG()\n",
    "result, recommendations = rag.rag_pipeline(query = query, sheet_name = \"Master Database\", worksheet_name=\"inventory_processed\", reembed= False)"
   ]
  },
  {
   "cell_type": "code",
   "execution_count": 27,
   "metadata": {},
   "outputs": [
    {
     "name": "stdout",
     "output_type": "stream",
     "text": [
      "**Activities Description:**\n",
      "\n",
      "Enjoy a spacious room suitable for families. Immerse yourself in the local delights of Penang. Take a refreshing dip in the new splash pool.\n",
      "\n",
      "**Highlights:**\n",
      "\n",
      "* Spacious family-friendly rooms\n",
      "* Local culinary experiences\n",
      "* New splash pool\n",
      "\n",
      "**Timings:**\n",
      "\n",
      "NA\n",
      "\n",
      "**Pricings:**\n",
      "\n",
      "* RM158nett per night\n",
      "\n",
      "**Contact Information:**\n",
      "\n",
      "* Phone: 011-1739 8714\n",
      "* Website: www.raiahotels.com.my\n",
      "\n",
      "**Terms and Conditions:**\n",
      "\n",
      "* Prices include 8% service charge and 6% SST.\n",
      "* Buy now, stay later until 30th September 2024.\n",
      "* Surcharge of RM50 applicable for eve of public holidays and public holidays.\n"
     ]
    }
   ],
   "source": [
    "print(recommendations[0])"
   ]
  },
  {
   "cell_type": "code",
   "execution_count": null,
   "metadata": {},
   "outputs": [],
   "source": []
  },
  {
   "cell_type": "markdown",
   "metadata": {},
   "source": [
    "# 2) Traveller 2"
   ]
  },
  {
   "cell_type": "code",
   "execution_count": 1,
   "metadata": {},
   "outputs": [
    {
     "name": "stderr",
     "output_type": "stream",
     "text": [
      "d:\\PycharmProjects\\smart-travels\\.venv\\Lib\\site-packages\\tqdm\\auto.py:21: TqdmWarning: IProgress not found. Please update jupyter and ipywidgets. See https://ipywidgets.readthedocs.io/en/stable/user_install.html\n",
      "  from .autonotebook import tqdm as notebook_tqdm\n"
     ]
    }
   ],
   "source": [
    "import importlib\n",
    "\n",
    "from RAG import traveller\n",
    "importlib.reload(traveller)\n",
    "\n",
    "from RAG.traveller import traveller\n",
    "rag = traveller()\n",
    "# df_raw = rag.get_df(sheet_name = \"Master Database\", worksheet_name = \"inventory\")\n",
    "# df_raw\n",
    "\n",
    "# df = rag.get_df(sheet_name = \"Master Database\", worksheet_name = \"inventory_processed\")\n"
   ]
  },
  {
   "cell_type": "code",
   "execution_count": null,
   "metadata": {},
   "outputs": [],
   "source": [
    "# pip install requirements.txt\n"
   ]
  },
  {
   "cell_type": "code",
   "execution_count": 2,
   "metadata": {},
   "outputs": [],
   "source": [
    "message = {\"destination\":\"terengganu\",\n",
    "           \"dates\":\"August\",\n",
    "           \"duration\":\"2 days\",\n",
    "           \"number_of_pax\":\"2\",\n",
    "           \"filter\":\"foodie, attractions, magical\",\n",
    "           \"budget\":\"$2000\",\n",
    "           \"prompt\":\"\"}\n",
    "# columns_to_embed = [\"Country\", \"Location\"]\n",
    "# column_title=\"Title\"\n",
    "# top_inventories = rag.filter_destinations(message[\"destination\"],df, columns_to_embed = columns_to_embed, column_title=column_title, top_N = 5)\n",
    "# top_inventories = top_inventories[[\"Type\", \"Tags\", \"Title\", \"Description\"]]\n",
    "# top_inventories_json = top_inventories.to_json(orient='records')\n",
    "# print(top_inventories_json)\n"
   ]
  },
  {
   "cell_type": "code",
   "execution_count": 3,
   "metadata": {},
   "outputs": [
    {
     "name": "stdout",
     "output_type": "stream",
     "text": [
      "Loading inventory...\n",
      "Filtering inventory...\n",
      "[{\"Type\":\" accommodation, activity\",\"Tags\":\"\",\"Title\":\"perhentian island resort\",\"Description\":\"**Activities**\\n\\n* Snorkeling\\n* Diving\\n* Island hopping\\n* Relaxing on the beach\\n* Hiking\\n\\n**Timings**\\n\\n* Free scheduled boat transfer to Coral Beach: 11:00am & 4:00pm\\n\\n**Pricings**\\n\\n**Perhentian Island Resort Room Rates**\\n\\n* **Deluxe Room:** RM350.00nett per room per night\\n* **Superior Room:** RM450.00nett per room per night\\n* **Family Room:** RM550.00nett per room per night\\n* **Suite Room:** RM650.00nett per room per night\\n* **Honeymoon Suite:** RM750.00nett per room per night\\n* **Presidential Suite:** RM850.00nett per room per night\\n\\n**Perhentian Discovery Package**\\n\\n* **3 Days 2 Nights Discovery Full Board Package**\\n    * **Low Season:**\\n        * Single: RM680\\n        * Double: RM545\\n        * Triple: RM530\\n    * **Mid Season:**\\n        * Single: RM785\\n        * Double: RM605\\n        * Triple: RM545\\n    * **Peak Season:**\\n        * Single: RM1000\\n        * Double: RM865\\n        * Triple: RM780\\n\\n**Perhentian Snorkeling Package**\\n\\n* **3 Days 2 Nights**\\n    * **Low Season:**\\n        * Single: RM905\\n        * Double: RM685\\n        * Triple: RM600\\n    * **Mid Season:**\\n        * Single: RM960\\n        * Double: RM760\\n        * Triple: RM615\\n    * **Peak Season:**\\n        * Single: RM1070\\n        * Double: RM795\\n        * Triple: RM750\\n\\n**Perhentian Diving Packages**\\n\\n* **3 Days 2 Nights Diving Half Board Package**\\n    * **Mid Season:**\\n        * Single: RM1105\\n        * Double: RM765\\n        * Triple: RM690\\n    * **Peak Season:**\\n        * Single: RM1225\\n        * Double: RM880\\n        * Triple: RM795\\n\\n**Contact Information**\\n\\n**Perhentian Island Resort**\\n* Address: Pulau Perhentian Besar, 22300 Kuala Besut, Terengganu, Malaysia\\n* Tel: +609-699 1199\\n* Email: reservations@perhentianislandresort.com.my\\n* Website: www.perhentianislandresort.com.my\\n\\n**Kuala Lumpur Sales Office**\\n* Address: 26TH FLOOR MENARA KH, JALAN SULTAN ISMAIL, 50250 KUALA LUMPUR, MALAYSIA\\n* Tel: +603-2148530\\/ +603-21448531\\/ +603-21448532\\n* Email: enquiry@perhentianislandresort.net\\n* Website: www.perhentianislandsresort.net\\n\\n**Terms and Conditions**\\n\\n**Perhentian Island Resort**\\n\\n* All rates are inclusive of:\\n    * 10% Government Tax\\n    * 6% Service Tax\\n    * Daily Buffet Breakfast\\n    * 2 Bottles of Mineral Water\\n    * Free Wi-Fi in Room\\n    * Free Scheduled Boat Transfer to Coral Beach (11:00am & 4:00pm)\\n* Check In: 2:00pm\\n* Check Out: 12:00pm\\n* Cancellation Policy:\\n    * Full refund for cancellations made 14 days prior to arrival date\\n    * 50% refund for cancellations made 7 days prior to arrival date\\n    * No refund for cancellations made within 7 days of arrival date\\n\\n**Perhentian Discovery Package**\\n\\n* Terms & Conditions\\n    * Published rates valid from 1st February - 31st October 2025.\\n    * Surcharge: RM40 net per person per night will be imposed on selected dates and every Malaysia Public Holiday (except State Public Holiday)\\n    * All rates are inclusive of 6% SST.\\n    * Child Rate aged 4 - 12 years old (sharing room with parents without extra bed) RM103 per person per night (extension night).\\n    * All rates are based on per person basis.\\n    * For triple sharing, extra bed will be provided.\\n    * Foreign tourists are subjected to additional Tourism Tax payable upon check-in.\\n    * All rates exclude compulsory Marine Park Fee, payable at Marine Park Kiosk, Kuala Besut Jetty.\\n\\n**Perhentian Snorkeling Package**\\n\\n* Terms & Conditions\\n    * Published rates valid from 1st February - 31st October 2024\\/2025\\n    * Surcharge: RM40 nett per person per night will be imposed on selected dates and public holidays (exclude State Public Holiday)\\n    * All rates are inclusive of 6% SST\\n    * Child Rate aged 4 - 12 years old (sharing room with parents without extra bed): RM123 per person per night (inclusive of meals) and 1 snorkeling package.\\n    * Extension of night includes 2 meals\\n    * Extension stay rates are based on per person per night\\n\\n**Perhentian Diving Packages**\\n\\n* Terms & Conditions\\n    * Package is only applicable for \\\"CERTIFIED DIVERS ONLY\\\".\\n    * Published rates valid from 1st April - 30th September 2024\\/2025.\\n    * Surcharge: RM40 nett per person per night will be imposed on selected dates and every Malaysia Public Holiday (except State Public Holiday)\\n    * Additional nights consists half board meals and 2 fun dives only.\\n    * Extension stay rates are based on per person per night.\\n    * All rates are inclusive of 6% SST.\"},{\"Type\":\" activity, accomodation\",\"Tags\":\"\",\"Title\":\"ag holidays\",\"Description\":\"**Activities:**\\n\\n**Daytrip (8 AM - 5 PM)**\\n\\n* **Kem Pelajar & IPT:** RM35 - RM60\\/pax\\n* **Family Day:** RM80\\/pax (adult), RM50\\/pax (child)\\n* **Team Building:** RM120 - RM150\\/pax\\n\\n**2 Hari 1 Malam (Camping)**\\n\\n* **Kem Pelajar & IPT:** RM100 - RM185\\/pax\\n* **Family Day:** RM180\\/pax (adult), RM150\\/pax (child)\\n* **Team Building:** RM120 - RM150\\/pax\\n\\n**3 Hari 2 Malam (Camping)**\\n\\n* **Kem Pelajar & IPT:** RM200 - RM280\\/pax\\n* **Family Day:** RM280\\/pax (adult), RM240\\/pax (child)\\n* **Team Building:** RM120 - RM150\\/pax\\n\\n**Individual Activities:**\\n\\n* **Flying Fox:** RM25\\n* **River Tubing:** RM35\\n* **Kembara Hutan:** RM35\\n* **Khemah Halangan:** RM15\\n* **Abseiling (trial):** RM15\\n* **X'pdc Kayak 8km:** RM160\\n* **Cub cross Kg Style:** RM60\\n\\n**Highlights:**\\n\\n* **Kem Pelajar & IPT:**\\n    * Jungle trekking\\n    * Indoor games\\n    * Jungle kicthcen\\n    * Flying Fox\\n    * Basic Survival\\n    * Food Hunting\\n    * Fishing\\n    * Religious classes\\n\\n* **Family Day:**\\n    * Village activities\\n    * Treasure hunt\\n    * Cooking competitions\\n    * Flying Fox\\n    * Stargazing\\n    * Tubing\\n    * Kayaking\\n\\n* **Team Building:**\\n    * Jungle trekking\\n    * Flying Fox\\n    * River Tubing\\n    * Exploration\\n    * Obstacle course\\n    * Abseiling\\n    * Indoor games\\n\\n**Inclusions:**\\n\\n* **All packages:**\\n    * Instructors and facilitators\\n    * Tent and facilities (if required)\\n    * Meals throughout the program\\n\\n**Contact Information:**\\n\\n* Bert: 015-331 7070\\n* Eg: 013-488 5805\\n* Deen: 019-2827465\\n\\n**Terms and Conditions:**\\n\\n* Prices may vary depending on the number of participants and choice of activities.\\n* Minimum number of participants required for certain packages (see listing above).\\n* Bookings are subject to availability.\\n* Cancellation policy may apply.\"},{\"Type\":\" activity, accomodation\",\"Tags\":\"\",\"Title\":\"tenggol coral beach resort\",\"Description\":\"**Tenggol Coral Beach Resort Snorkeling Package**\\n\\n**Description:**\\n\\n* Includes round-trip boat transfer from Kuala Terengganu Jetty to Pulau Perhentian\\n* Accommodation in an air-conditioned double room for one night\\n* Full board meals (three meals per day)\\n* Snorkeling activities (snorkeling gear, life jacket, boat, captain)\\n* Travel insurance\\n\\n**Exclusions:**\\n\\n* Personal expenses\\n* Island tax (RM5\\/person)\\n* Snorkeling gear rental (RM15\\/day)\\n\\n**Prices:**\\n\\n* Adults: RM238\\n* Children (4-12 years): RM188\\n\\n**Terms and Conditions:**\\n\\n* Minimum of 2 people required for the package\\n* Booking must be made at least 3 days in advance\\n* No cancellations or refunds allowed\\n* Package is available from Monday to Friday only\\n* Not applicable during Chinese New Year, Hari Raya Aidilfitri, and Hari Raya Haji\\n\\n**Contact Information:**\\n\\n* Hotline: 013-368 6898 (Jennifer)\\n* Email: terenggol@gmail.com\\n* Website: www.terenggol.com.my\\n\\n**PADI Diving Courses**\\n\\n**4D3N PADI Open Water Course**\\n\\n* Price:\\n    * Dormitory room: RM 1,388\\/person\\n    * Quad\\/triple sharing: RM 1,600\\/person\\n    * Twin sharing: RM 1,688\\/person\\n* Includes:\\n    * E-learning\\n    * Free 1-year equipment usage\\n* Weekends only; additional RM100\\/person for weekdays\\n\\n**3D2N + FREE 1 NIGHT PADI Advanced Open Water Course**\\n\\n* Price:\\n    * Dormitory room: RM 1,450\\/person\\n    * Quad\\/triple sharing: RM 1,540\\/person\\n    * Twin sharing: RM 1,650\\/person\\n* Includes:\\n    * E-learning\\n    * Free 1-year equipment usage\\n* Weekends only; additional RM100\\/person for weekdays\\n\\n**4D3N PADI EFR & Rescue Course**\\n\\n* Price:\\n    * Dormitory room: RM 1,600\\/person\\n    * Quad\\/triple sharing: RM 1,800\\/person\\n    * Twin sharing: RM 1,900\\/person\\n* Includes:\\n    * E-learning\\n    * Free 1-year equipment usage\\n* Weekends only; additional RM100\\/person for weekdays\\n\\n**Additional Try Scuba Diving (DSD):**\\n\\n* RM 150\\/person on a basis\\n\\n**Diving Package**\\n\\n* Prices vary depending on the duration and room type\\n* Please contact the resort for further pricing inquiries\\n\\n**Snorkeling Packages**\\n\\n* Prices vary depending on the duration and room type\\n* Please contact the resort for further pricing inquiries\"}]\n",
      "Generating itinerary...\n",
      "{\"summary\": \"Escape to the enchanting state of Terengganu, Malaysia, a foodie's paradise renowned for its magical attractions. Indulge in a culinary journey through bustling markets and charming local eateries, savoring the authentic flavors of traditional dishes. Immerse yourselves in the vibrant culture as you explore historical landmarks, discovering the rich heritage and captivating stories of this captivating destination. Prepare to be mesmerized by the natural beauty of Terengganu's coastline, where pristine beaches and crystal-clear waters beckon you to unwind and create unforgettable memories.\", \"itinerary\": {\"day1_summary\": \"Welcome to Terengganu! Your foodie adventure begins with a delightful exploration of local flavors and cultural treasures. Start your day with a traditional Malaysian breakfast, savoring the aromatic flavors of nasi lemak or roti canai. Next, embark on a journey to the iconic Crystal Mosque, a masterpiece of Islamic architecture. Immerse yourselves in the tranquility of this sacred place before indulging in a delicious lunch at a local restaurant, where you can sample the region's specialties. Afterward, discover the vibrant underwater world with a snorkeling excursion at Pulau Redang, known for its crystal-clear waters and colorful marine life. As the sun begins its descent, head to Pasar Payang, a bustling market offering an array of local crafts, souvenirs, and street food. Treat your taste buds to a delightful dinner at one of the many food stalls, experiencing the true essence of Terengganu's culinary scene.\", \"day1_itinerary\": [{\"title\": \"Traditional Malaysian Breakfast\", \"text\": \"Indulge in a delightful breakfast experience at a local eatery, where you'll be greeted with the tantalizing aromas of traditional Malaysian cuisine. Savor the rich flavors of nasi lemak, a fragrant rice dish cooked in coconut milk and served with spicy sambal, fried anchovies, peanuts, and a boiled egg. Alternatively, opt for roti canai, a flaky and crispy flatbread served with a flavorful curry dip. Accompany your meal with a cup of teh tarik, a local tea beverage renowned for its sweet and creamy taste, or enjoy a refreshing glass of freshly squeezed fruit juice.\", \"inventory\": \"unavailable\", \"price\": null}, {\"title\": \"Crystal Mosque\", \"text\": \"Embark on a captivating journey to the iconic Crystal Mosque, a masterpiece of Islamic architecture that shimmers under the Terengganu sun. Admire its stunning facade, adorned with intricate glasswork and shimmering crystal embellishments, reflecting the turquoise waters of the surrounding sea. Step inside to discover a serene and spacious prayer hall, where the soft glow of sunlight through the stained-glass windows creates an ethereal ambiance. Take a moment to appreciate the mosque's grandeur and soak in the spiritual atmosphere, a true testament to Terengganu's rich Islamic heritage.\", \"inventory\": \"unavailable\", \"price\": null}, {\"title\": \"Local Restaurant Lunch\", \"text\": \"Embark on a culinary adventure at a local restaurant, where you'll be treated to an array of Terengganu's culinary delights. Sample the region's specialties, such as nasi dagang, a flavorful rice dish cooked in coconut milk, fish curry, and pickled vegetables. Alternatively, indulge in laksa Terengganu, a spicy and sour fish-based noodle soup. Don't miss the opportunity to try keropok lekor, a popular snack made from fish paste and sago flour, deep-fried to perfection. Accompany your meal with a refreshing glass of iced tea or a traditional Malaysian coffee.\", \"inventory\": \"unavailable\", \"price\": null}, {\"title\": \"Snorkeling at Pulau Redang\", \"text\": \"Dive into the crystal-clear waters of Pulau Redang, a tropical paradise renowned for its vibrant marine life and pristine coral reefs. Embark on a snorkeling adventure, gliding through the turquoise depths as you encounter an abundance of colorful fish, graceful sea turtles, and fascinating coral formations. The warm waters and excellent visibility make Pulau Redang an ideal destination for snorkelers of all levels, offering a glimpse into a mesmerizing underwater world teeming with life. Afterward, relax on the soft, powdery sands of the beach, soaking up the tropical sun and enjoying the tranquility of this idyllic island getaway.\", \"inventory\": \"unavailable\", \"price\": null}, {\"title\": \"Pasar Payang\", \"text\": \"Step into the vibrant heart of Terengganu's culture at Pasar Payang, a bustling market teeming with local crafts, souvenirs, and tantalizing street food. Wander through the maze of stalls, browsing through an array of colorful batik fabrics, intricate wood carvings, and traditional Malay accessories. Engage with friendly vendors, practicing your bargaining skills as you search for unique treasures to take home. As you explore the market, tantalize your taste buds with the enticing aromas of street food, sampling local delicacies such as keropok lekor, nasi kerabu, and refreshing cendol.\", \"inventory\": \"unavailable\", \"price\": null}], \"day2_summary\": \"As your unforgettable Terengganu escapade draws to a close, immerse yourselves in the region's rich heritage and natural wonders. Start your day with a hearty breakfast at your hotel, fueling up for a day of exploration. Embark on a scenic journey to Tasik Kenyir, a sprawling lake renowned for its breathtaking beauty. Take a boat trip across the tranquil waters, surrounded by lush rainforests and towering limestone formations. Indulge in a delightful lunch at a lakeside restaurant, savoring the fresh flavors of local cuisine. Afterward, delve into the captivating world of marine conservation at the Terengganu Turtle Centre. Witness these magnificent creatures up close and learn about the importance of protecting their natural habitat. As the day winds down, savor a farewell dinner at a restaurant overlooking the South China Sea, reflecting on the incredible memories made during your Terengganu adventure.\", \"day2_itinerary\": [{\"title\": \"Hotel Breakfast\", \"text\": \"Start your day with a delightful breakfast at your hotel, fueling up for another day of exploration in Terengganu. Enjoy a diverse spread of local and international breakfast favorites, including fresh fruits, pastries, cereals, and made-to-order egg dishes. Savor your meal while enjoying the comfortable ambiance of your hotel's dining area, preparing for the day's adventures ahead.\", \"inventory\": \"unavailable\", \"price\": null}, {\"title\": \"Tasik Kenyir Boat Trip\", \"text\": \"Embark on a scenic boat trip across the sprawling waters of Tasik Kenyir, Malaysia's largest man-made lake, renowned for its breathtaking natural beauty and tranquil ambiance. As you cruise through the emerald-green waters, marvel at the lush rainforest-clad hills and towering limestone formations that rise dramatically from the lake's edge. Keep an eye out for diverse wildlife, including monkeys, birds, and exotic fish, inhabiting this pristine ecosystem. Enjoy the tranquility of the surroundings, breathing in the fresh air, and capturing the beauty of Tasik Kenyir's landscapes.\", \"inventory\": \"unavailable\", \"price\": null}, {\"title\": \"Lakeside Restaurant Lunch\", \"text\": \"Indulge in a delightful lunch at a charming lakeside restaurant, where you can savor the fresh flavors of local Terengganu cuisine while enjoying picturesque views of Tasik Kenyir. Sample regional specialties, such as ikan bakar, grilled fish marinated in aromatic spices, or nasi lemak, a fragrant rice dish served with a variety of accompaniments. As you dine, soak in the tranquil ambiance of the surroundings, surrounded by lush greenery and the gentle lapping of the lake's waters, creating a truly memorable dining experience.\", \"inventory\": \"unavailable\", \"price\": null}, {\"title\": \"Terengganu Turtle Centre\", \"text\": \"Delve into the fascinating world of marine conservation at the Terengganu Turtle Centre, located on the picturesque beaches of Chagar Hutang. Witness these magnificent creatures up close as you learn about the different species of sea turtles, their life cycle, and the challenges they face in the wild. Observe hatchlings taking their first steps towards the ocean and gain insights into the center's efforts to protect and conserve these endangered animals. The Terengganu Turtle Centre offers a unique opportunity to connect with nature and contribute to the preservation of these incredible marine creatures.\", \"inventory\": \"unavailable\", \"price\": null}, {\"title\": \"Farewell Dinner\", \"text\": \"As your unforgettable Terengganu adventure draws to a close, savor a memorable farewell dinner at a restaurant overlooking the glistening waters of the South China Sea. Indulge in a delectable seafood feast, savoring the freshest catches of the day, from succulent prawns to grilled fish and flavorful crab dishes. As you dine, reminisce about the incredible experiences and breathtaking sights that have made your trip so special. Enjoy the warm sea breeze, the sound of waves crashing against the shore, and the company of your loved ones as you bid farewell to this enchanting destination.\", \"inventory\": \"unavailable\", \"price\": null}]}, \"pricing\": {\"total_cost\": \"unavailable\", \"per_day_cost\": \"unavailable\", \"per_activity_cost\": \"unavailable\"}}\n",
      "\n"
     ]
    }
   ],
   "source": [
    "itinerary_payload = rag.generate_travel_itinerary(message=   message)"
   ]
  },
  {
   "cell_type": "code",
   "execution_count": 6,
   "metadata": {},
   "outputs": [
    {
     "data": {
      "text/plain": [
       "{'summary': \"Escape to the enchanting state of Terengganu, Malaysia, a foodie's paradise renowned for its magical attractions. Indulge in a culinary journey through bustling markets and charming local eateries, savoring the authentic flavors of traditional dishes. Immerse yourselves in the vibrant culture as you explore historical landmarks, discovering the rich heritage and captivating stories of this captivating destination. Prepare to be mesmerized by the natural beauty of Terengganu's coastline, where pristine beaches and crystal-clear waters beckon you to unwind and create unforgettable memories.\",\n",
       " 'itinerary': {'day1_summary': \"Welcome to Terengganu! Your foodie adventure begins with a delightful exploration of local flavors and cultural treasures. Start your day with a traditional Malaysian breakfast, savoring the aromatic flavors of nasi lemak or roti canai. Next, embark on a journey to the iconic Crystal Mosque, a masterpiece of Islamic architecture. Immerse yourselves in the tranquility of this sacred place before indulging in a delicious lunch at a local restaurant, where you can sample the region's specialties. Afterward, discover the vibrant underwater world with a snorkeling excursion at Pulau Redang, known for its crystal-clear waters and colorful marine life. As the sun begins its descent, head to Pasar Payang, a bustling market offering an array of local crafts, souvenirs, and street food. Treat your taste buds to a delightful dinner at one of the many food stalls, experiencing the true essence of Terengganu's culinary scene.\",\n",
       "  'day1_itinerary': [{'title': 'Traditional Malaysian Breakfast',\n",
       "    'text': \"Indulge in a delightful breakfast experience at a local eatery, where you'll be greeted with the tantalizing aromas of traditional Malaysian cuisine. Savor the rich flavors of nasi lemak, a fragrant rice dish cooked in coconut milk and served with spicy sambal, fried anchovies, peanuts, and a boiled egg. Alternatively, opt for roti canai, a flaky and crispy flatbread served with a flavorful curry dip. Accompany your meal with a cup of teh tarik, a local tea beverage renowned for its sweet and creamy taste, or enjoy a refreshing glass of freshly squeezed fruit juice.\",\n",
       "    'inventory': 'unavailable',\n",
       "    'price': None},\n",
       "   {'title': 'Crystal Mosque',\n",
       "    'text': \"Embark on a captivating journey to the iconic Crystal Mosque, a masterpiece of Islamic architecture that shimmers under the Terengganu sun. Admire its stunning facade, adorned with intricate glasswork and shimmering crystal embellishments, reflecting the turquoise waters of the surrounding sea. Step inside to discover a serene and spacious prayer hall, where the soft glow of sunlight through the stained-glass windows creates an ethereal ambiance. Take a moment to appreciate the mosque's grandeur and soak in the spiritual atmosphere, a true testament to Terengganu's rich Islamic heritage.\",\n",
       "    'inventory': 'unavailable',\n",
       "    'price': None},\n",
       "   {'title': 'Local Restaurant Lunch',\n",
       "    'text': \"Embark on a culinary adventure at a local restaurant, where you'll be treated to an array of Terengganu's culinary delights. Sample the region's specialties, such as nasi dagang, a flavorful rice dish cooked in coconut milk, fish curry, and pickled vegetables. Alternatively, indulge in laksa Terengganu, a spicy and sour fish-based noodle soup. Don't miss the opportunity to try keropok lekor, a popular snack made from fish paste and sago flour, deep-fried to perfection. Accompany your meal with a refreshing glass of iced tea or a traditional Malaysian coffee.\",\n",
       "    'inventory': 'unavailable',\n",
       "    'price': None},\n",
       "   {'title': 'Snorkeling at Pulau Redang',\n",
       "    'text': 'Dive into the crystal-clear waters of Pulau Redang, a tropical paradise renowned for its vibrant marine life and pristine coral reefs. Embark on a snorkeling adventure, gliding through the turquoise depths as you encounter an abundance of colorful fish, graceful sea turtles, and fascinating coral formations. The warm waters and excellent visibility make Pulau Redang an ideal destination for snorkelers of all levels, offering a glimpse into a mesmerizing underwater world teeming with life. Afterward, relax on the soft, powdery sands of the beach, soaking up the tropical sun and enjoying the tranquility of this idyllic island getaway.',\n",
       "    'inventory': 'unavailable',\n",
       "    'price': None},\n",
       "   {'title': 'Pasar Payang',\n",
       "    'text': \"Step into the vibrant heart of Terengganu's culture at Pasar Payang, a bustling market teeming with local crafts, souvenirs, and tantalizing street food. Wander through the maze of stalls, browsing through an array of colorful batik fabrics, intricate wood carvings, and traditional Malay accessories. Engage with friendly vendors, practicing your bargaining skills as you search for unique treasures to take home. As you explore the market, tantalize your taste buds with the enticing aromas of street food, sampling local delicacies such as keropok lekor, nasi kerabu, and refreshing cendol.\",\n",
       "    'inventory': 'unavailable',\n",
       "    'price': None}],\n",
       "  'day2_summary': \"As your unforgettable Terengganu escapade draws to a close, immerse yourselves in the region's rich heritage and natural wonders. Start your day with a hearty breakfast at your hotel, fueling up for a day of exploration. Embark on a scenic journey to Tasik Kenyir, a sprawling lake renowned for its breathtaking beauty. Take a boat trip across the tranquil waters, surrounded by lush rainforests and towering limestone formations. Indulge in a delightful lunch at a lakeside restaurant, savoring the fresh flavors of local cuisine. Afterward, delve into the captivating world of marine conservation at the Terengganu Turtle Centre. Witness these magnificent creatures up close and learn about the importance of protecting their natural habitat. As the day winds down, savor a farewell dinner at a restaurant overlooking the South China Sea, reflecting on the incredible memories made during your Terengganu adventure.\",\n",
       "  'day2_itinerary': [{'title': 'Hotel Breakfast',\n",
       "    'text': \"Start your day with a delightful breakfast at your hotel, fueling up for another day of exploration in Terengganu. Enjoy a diverse spread of local and international breakfast favorites, including fresh fruits, pastries, cereals, and made-to-order egg dishes. Savor your meal while enjoying the comfortable ambiance of your hotel's dining area, preparing for the day's adventures ahead.\",\n",
       "    'inventory': 'unavailable',\n",
       "    'price': None},\n",
       "   {'title': 'Tasik Kenyir Boat Trip',\n",
       "    'text': \"Embark on a scenic boat trip across the sprawling waters of Tasik Kenyir, Malaysia's largest man-made lake, renowned for its breathtaking natural beauty and tranquil ambiance. As you cruise through the emerald-green waters, marvel at the lush rainforest-clad hills and towering limestone formations that rise dramatically from the lake's edge. Keep an eye out for diverse wildlife, including monkeys, birds, and exotic fish, inhabiting this pristine ecosystem. Enjoy the tranquility of the surroundings, breathing in the fresh air, and capturing the beauty of Tasik Kenyir's landscapes.\",\n",
       "    'inventory': 'unavailable',\n",
       "    'price': None},\n",
       "   {'title': 'Lakeside Restaurant Lunch',\n",
       "    'text': \"Indulge in a delightful lunch at a charming lakeside restaurant, where you can savor the fresh flavors of local Terengganu cuisine while enjoying picturesque views of Tasik Kenyir. Sample regional specialties, such as ikan bakar, grilled fish marinated in aromatic spices, or nasi lemak, a fragrant rice dish served with a variety of accompaniments. As you dine, soak in the tranquil ambiance of the surroundings, surrounded by lush greenery and the gentle lapping of the lake's waters, creating a truly memorable dining experience.\",\n",
       "    'inventory': 'unavailable',\n",
       "    'price': None},\n",
       "   {'title': 'Terengganu Turtle Centre',\n",
       "    'text': \"Delve into the fascinating world of marine conservation at the Terengganu Turtle Centre, located on the picturesque beaches of Chagar Hutang. Witness these magnificent creatures up close as you learn about the different species of sea turtles, their life cycle, and the challenges they face in the wild. Observe hatchlings taking their first steps towards the ocean and gain insights into the center's efforts to protect and conserve these endangered animals. The Terengganu Turtle Centre offers a unique opportunity to connect with nature and contribute to the preservation of these incredible marine creatures.\",\n",
       "    'inventory': 'unavailable',\n",
       "    'price': None},\n",
       "   {'title': 'Farewell Dinner',\n",
       "    'text': 'As your unforgettable Terengganu adventure draws to a close, savor a memorable farewell dinner at a restaurant overlooking the glistening waters of the South China Sea. Indulge in a delectable seafood feast, savoring the freshest catches of the day, from succulent prawns to grilled fish and flavorful crab dishes. As you dine, reminisce about the incredible experiences and breathtaking sights that have made your trip so special. Enjoy the warm sea breeze, the sound of waves crashing against the shore, and the company of your loved ones as you bid farewell to this enchanting destination.',\n",
       "    'inventory': 'unavailable',\n",
       "    'price': None}]},\n",
       " 'pricing': {'total_cost': 'unavailable',\n",
       "  'per_day_cost': 'unavailable',\n",
       "  'per_activity_cost': 'unavailable'}}"
      ]
     },
     "execution_count": 6,
     "metadata": {},
     "output_type": "execute_result"
    }
   ],
   "source": [
    "import json\n",
    "output = json.loads(itinerary_payload[\"response\"].text)\n",
    "output"
   ]
  },
  {
   "cell_type": "code",
   "execution_count": 5,
   "metadata": {},
   "outputs": [
    {
     "name": "stdout",
     "output_type": "stream",
     "text": [
      "input token: total_tokens: 4346\n",
      "\n",
      "response token: total_tokens: 1886\n",
      "\n"
     ]
    }
   ],
   "source": [
    "# count number of tokens:\n",
    "print(f\"input token: {rag.model.count_tokens(itinerary[\"prompt\"])}\")\n",
    "print(f\"response token: {rag.model.count_tokens(itinerary[\"response\"].text)}\")"
   ]
  },
  {
   "cell_type": "markdown",
   "metadata": {},
   "source": [
    "# Bearer token"
   ]
  },
  {
   "cell_type": "code",
   "execution_count": 7,
   "metadata": {},
   "outputs": [
    {
     "name": "stdout",
     "output_type": "stream",
     "text": [
      "Collecting PyJWT\n",
      "  Downloading PyJWT-2.8.0-py3-none-any.whl.metadata (4.2 kB)\n",
      "Downloading PyJWT-2.8.0-py3-none-any.whl (22 kB)\n",
      "Installing collected packages: PyJWT\n",
      "Successfully installed PyJWT-2.8.0\n",
      "Note: you may need to restart the kernel to use updated packages.\n"
     ]
    }
   ],
   "source": [
    "pip install PyJWT\n"
   ]
  },
  {
   "cell_type": "code",
   "execution_count": 1,
   "metadata": {},
   "outputs": [],
   "source": [
    "import jwt\n",
    "\n",
    "def generate_token():\n",
    "    payload = {\"user_id\": 123}  # Customize this payload as needed\n",
    "    secret_key = \"your-secret-key\"  # Replace with your actual secret key\n",
    "    token = jwt.encode(payload, secret_key, algorithm=\"HS256\")\n",
    "    return token\n"
   ]
  },
  {
   "cell_type": "code",
   "execution_count": null,
   "metadata": {},
   "outputs": [],
   "source": []
  },
  {
   "cell_type": "markdown",
   "metadata": {},
   "source": []
  }
 ],
 "metadata": {
  "kernelspec": {
   "display_name": ".venv",
   "language": "python",
   "name": "python3"
  },
  "language_info": {
   "codemirror_mode": {
    "name": "ipython",
    "version": 3
   },
   "file_extension": ".py",
   "mimetype": "text/x-python",
   "name": "python",
   "nbconvert_exporter": "python",
   "pygments_lexer": "ipython3",
   "version": "3.12.2"
  }
 },
 "nbformat": 4,
 "nbformat_minor": 2
}
