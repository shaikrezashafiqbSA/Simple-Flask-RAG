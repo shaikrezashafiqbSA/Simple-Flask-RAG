{
 "cells": [
  {
   "cell_type": "code",
   "execution_count": 13,
   "metadata": {},
   "outputs": [
    {
     "name": "stdout",
     "output_type": "stream",
     "text": [
      "models/gemini-1.0-pro\n",
      "models/gemini-1.0-pro-001\n",
      "models/gemini-1.0-pro-latest\n",
      "models/gemini-1.0-pro-vision-latest\n",
      "models/gemini-1.5-flash-001\n",
      "models/gemini-1.5-flash-latest\n",
      "models/gemini-1.5-pro-001\n",
      "models/gemini-1.5-pro-latest\n",
      "models/gemini-pro\n",
      "models/gemini-pro-vision\n"
     ]
    },
    {
     "data": {
      "text/plain": [
       "total_tokens: 10"
      ]
     },
     "execution_count": 13,
     "metadata": {},
     "output_type": "execute_result"
    }
   ],
   "source": [
    "from settings import GEMINI_API_KEY\n",
    "import google.generativeai as genai\n",
    "genai.configure(api_key = GEMINI_API_KEY)\n",
    "\n",
    "for m in genai.list_models():\n",
    "    if 'generateContent' in m.supported_generation_methods:\n",
    "        print(m.name)\n",
    "\n",
    "model = genai.GenerativeModel('models/gemini-1.0-pro-latest')\n",
    "model.count_tokens(\"The quick brown fox jumps over the lazy dog.\")\n"
   ]
  },
  {
   "cell_type": "code",
   "execution_count": 12,
   "metadata": {},
   "outputs": [
    {
     "ename": "NotFound",
     "evalue": "404 models/text-embedding-001 is not found for API version v1beta, or is not supported for embedContent. Call ListModels to see the list of available models and their supported methods.",
     "output_type": "error",
     "traceback": [
      "\u001b[1;31m---------------------------------------------------------------------------\u001b[0m",
      "\u001b[1;31mNotFound\u001b[0m                                  Traceback (most recent call last)",
      "Cell \u001b[1;32mIn[12], line 3\u001b[0m\n\u001b[0;32m      1\u001b[0m text\u001b[38;5;241m=\u001b[39m \u001b[38;5;124m\"\u001b[39m\u001b[38;5;124mtestsetsetset\u001b[39m\u001b[38;5;124m\"\u001b[39m\n\u001b[0;32m      2\u001b[0m title \u001b[38;5;241m=\u001b[39m \u001b[38;5;124m\"\u001b[39m\u001b[38;5;124mtest\u001b[39m\u001b[38;5;124m\"\u001b[39m\n\u001b[1;32m----> 3\u001b[0m test \u001b[38;5;241m=\u001b[39m \u001b[43mgenai\u001b[49m\u001b[38;5;241;43m.\u001b[39;49m\u001b[43membed_content\u001b[49m\u001b[43m(\u001b[49m\u001b[43mmodel\u001b[49m\u001b[38;5;241;43m=\u001b[39;49m\u001b[38;5;124;43m'\u001b[39;49m\u001b[38;5;124;43mmodels/text-embedding-001\u001b[39;49m\u001b[38;5;124;43m'\u001b[39;49m\u001b[43m,\u001b[49m\u001b[43m \u001b[49m\n\u001b[0;32m      4\u001b[0m \u001b[43m                    \u001b[49m\u001b[43mcontent\u001b[49m\u001b[38;5;241;43m=\u001b[39;49m\u001b[43mtext\u001b[49m\u001b[43m,\u001b[49m\n\u001b[0;32m      5\u001b[0m \u001b[43m                    \u001b[49m\u001b[43mtask_type\u001b[49m\u001b[43m \u001b[49m\u001b[38;5;241;43m=\u001b[39;49m\u001b[43m \u001b[49m\u001b[38;5;124;43m\"\u001b[39;49m\u001b[38;5;124;43mretrieval_document\u001b[39;49m\u001b[38;5;124;43m\"\u001b[39;49m\u001b[43m,\u001b[49m\n\u001b[0;32m      6\u001b[0m \u001b[43m                    \u001b[49m\u001b[43mtitle\u001b[49m\u001b[43m \u001b[49m\u001b[38;5;241;43m=\u001b[39;49m\u001b[43m \u001b[49m\u001b[43mtitle\u001b[49m\u001b[43m)\u001b[49m\n",
      "File \u001b[1;32md:\\PycharmProjects\\smart-travels\\.venv\\Lib\\site-packages\\google\\generativeai\\embedding.py:182\u001b[0m, in \u001b[0;36membed_content\u001b[1;34m(model, content, task_type, title, client, request_options)\u001b[0m\n\u001b[0;32m    178\u001b[0m \u001b[38;5;28;01melse\u001b[39;00m:\n\u001b[0;32m    179\u001b[0m     embedding_request \u001b[38;5;241m=\u001b[39m glm\u001b[38;5;241m.\u001b[39mEmbedContentRequest(\n\u001b[0;32m    180\u001b[0m         model\u001b[38;5;241m=\u001b[39mmodel, content\u001b[38;5;241m=\u001b[39mcontent_types\u001b[38;5;241m.\u001b[39mto_content(content), task_type\u001b[38;5;241m=\u001b[39mtask_type, title\u001b[38;5;241m=\u001b[39mtitle\n\u001b[0;32m    181\u001b[0m     )\n\u001b[1;32m--> 182\u001b[0m     embedding_response \u001b[38;5;241m=\u001b[39m \u001b[43mclient\u001b[49m\u001b[38;5;241;43m.\u001b[39;49m\u001b[43membed_content\u001b[49m\u001b[43m(\u001b[49m\n\u001b[0;32m    183\u001b[0m \u001b[43m        \u001b[49m\u001b[43membedding_request\u001b[49m\u001b[43m,\u001b[49m\n\u001b[0;32m    184\u001b[0m \u001b[43m        \u001b[49m\u001b[38;5;241;43m*\u001b[39;49m\u001b[38;5;241;43m*\u001b[39;49m\u001b[43mrequest_options\u001b[49m\u001b[43m,\u001b[49m\n\u001b[0;32m    185\u001b[0m \u001b[43m    \u001b[49m\u001b[43m)\u001b[49m\n\u001b[0;32m    186\u001b[0m     embedding_dict \u001b[38;5;241m=\u001b[39m \u001b[38;5;28mtype\u001b[39m(embedding_response)\u001b[38;5;241m.\u001b[39mto_dict(embedding_response)\n\u001b[0;32m    187\u001b[0m     embedding_dict[\u001b[38;5;124m\"\u001b[39m\u001b[38;5;124membedding\u001b[39m\u001b[38;5;124m\"\u001b[39m] \u001b[38;5;241m=\u001b[39m embedding_dict[\u001b[38;5;124m\"\u001b[39m\u001b[38;5;124membedding\u001b[39m\u001b[38;5;124m\"\u001b[39m][\u001b[38;5;124m\"\u001b[39m\u001b[38;5;124mvalues\u001b[39m\u001b[38;5;124m\"\u001b[39m]\n",
      "File \u001b[1;32md:\\PycharmProjects\\smart-travels\\.venv\\Lib\\site-packages\\google\\ai\\generativelanguage_v1beta\\services\\generative_service\\client.py:1209\u001b[0m, in \u001b[0;36mGenerativeServiceClient.embed_content\u001b[1;34m(self, request, model, content, retry, timeout, metadata)\u001b[0m\n\u001b[0;32m   1206\u001b[0m \u001b[38;5;28mself\u001b[39m\u001b[38;5;241m.\u001b[39m_validate_universe_domain()\n\u001b[0;32m   1208\u001b[0m \u001b[38;5;66;03m# Send the request.\u001b[39;00m\n\u001b[1;32m-> 1209\u001b[0m response \u001b[38;5;241m=\u001b[39m \u001b[43mrpc\u001b[49m\u001b[43m(\u001b[49m\n\u001b[0;32m   1210\u001b[0m \u001b[43m    \u001b[49m\u001b[43mrequest\u001b[49m\u001b[43m,\u001b[49m\n\u001b[0;32m   1211\u001b[0m \u001b[43m    \u001b[49m\u001b[43mretry\u001b[49m\u001b[38;5;241;43m=\u001b[39;49m\u001b[43mretry\u001b[49m\u001b[43m,\u001b[49m\n\u001b[0;32m   1212\u001b[0m \u001b[43m    \u001b[49m\u001b[43mtimeout\u001b[49m\u001b[38;5;241;43m=\u001b[39;49m\u001b[43mtimeout\u001b[49m\u001b[43m,\u001b[49m\n\u001b[0;32m   1213\u001b[0m \u001b[43m    \u001b[49m\u001b[43mmetadata\u001b[49m\u001b[38;5;241;43m=\u001b[39;49m\u001b[43mmetadata\u001b[49m\u001b[43m,\u001b[49m\n\u001b[0;32m   1214\u001b[0m \u001b[43m\u001b[49m\u001b[43m)\u001b[49m\n\u001b[0;32m   1216\u001b[0m \u001b[38;5;66;03m# Done; return the response.\u001b[39;00m\n\u001b[0;32m   1217\u001b[0m \u001b[38;5;28;01mreturn\u001b[39;00m response\n",
      "File \u001b[1;32md:\\PycharmProjects\\smart-travels\\.venv\\Lib\\site-packages\\google\\api_core\\gapic_v1\\method.py:131\u001b[0m, in \u001b[0;36m_GapicCallable.__call__\u001b[1;34m(self, timeout, retry, compression, *args, **kwargs)\u001b[0m\n\u001b[0;32m    128\u001b[0m \u001b[38;5;28;01mif\u001b[39;00m \u001b[38;5;28mself\u001b[39m\u001b[38;5;241m.\u001b[39m_compression \u001b[38;5;129;01mis\u001b[39;00m \u001b[38;5;129;01mnot\u001b[39;00m \u001b[38;5;28;01mNone\u001b[39;00m:\n\u001b[0;32m    129\u001b[0m     kwargs[\u001b[38;5;124m\"\u001b[39m\u001b[38;5;124mcompression\u001b[39m\u001b[38;5;124m\"\u001b[39m] \u001b[38;5;241m=\u001b[39m compression\n\u001b[1;32m--> 131\u001b[0m \u001b[38;5;28;01mreturn\u001b[39;00m \u001b[43mwrapped_func\u001b[49m\u001b[43m(\u001b[49m\u001b[38;5;241;43m*\u001b[39;49m\u001b[43margs\u001b[49m\u001b[43m,\u001b[49m\u001b[43m \u001b[49m\u001b[38;5;241;43m*\u001b[39;49m\u001b[38;5;241;43m*\u001b[39;49m\u001b[43mkwargs\u001b[49m\u001b[43m)\u001b[49m\n",
      "File \u001b[1;32md:\\PycharmProjects\\smart-travels\\.venv\\Lib\\site-packages\\google\\api_core\\retry\\retry_unary.py:293\u001b[0m, in \u001b[0;36mRetry.__call__.<locals>.retry_wrapped_func\u001b[1;34m(*args, **kwargs)\u001b[0m\n\u001b[0;32m    289\u001b[0m target \u001b[38;5;241m=\u001b[39m functools\u001b[38;5;241m.\u001b[39mpartial(func, \u001b[38;5;241m*\u001b[39margs, \u001b[38;5;241m*\u001b[39m\u001b[38;5;241m*\u001b[39mkwargs)\n\u001b[0;32m    290\u001b[0m sleep_generator \u001b[38;5;241m=\u001b[39m exponential_sleep_generator(\n\u001b[0;32m    291\u001b[0m     \u001b[38;5;28mself\u001b[39m\u001b[38;5;241m.\u001b[39m_initial, \u001b[38;5;28mself\u001b[39m\u001b[38;5;241m.\u001b[39m_maximum, multiplier\u001b[38;5;241m=\u001b[39m\u001b[38;5;28mself\u001b[39m\u001b[38;5;241m.\u001b[39m_multiplier\n\u001b[0;32m    292\u001b[0m )\n\u001b[1;32m--> 293\u001b[0m \u001b[38;5;28;01mreturn\u001b[39;00m \u001b[43mretry_target\u001b[49m\u001b[43m(\u001b[49m\n\u001b[0;32m    294\u001b[0m \u001b[43m    \u001b[49m\u001b[43mtarget\u001b[49m\u001b[43m,\u001b[49m\n\u001b[0;32m    295\u001b[0m \u001b[43m    \u001b[49m\u001b[38;5;28;43mself\u001b[39;49m\u001b[38;5;241;43m.\u001b[39;49m\u001b[43m_predicate\u001b[49m\u001b[43m,\u001b[49m\n\u001b[0;32m    296\u001b[0m \u001b[43m    \u001b[49m\u001b[43msleep_generator\u001b[49m\u001b[43m,\u001b[49m\n\u001b[0;32m    297\u001b[0m \u001b[43m    \u001b[49m\u001b[43mtimeout\u001b[49m\u001b[38;5;241;43m=\u001b[39;49m\u001b[38;5;28;43mself\u001b[39;49m\u001b[38;5;241;43m.\u001b[39;49m\u001b[43m_timeout\u001b[49m\u001b[43m,\u001b[49m\n\u001b[0;32m    298\u001b[0m \u001b[43m    \u001b[49m\u001b[43mon_error\u001b[49m\u001b[38;5;241;43m=\u001b[39;49m\u001b[43mon_error\u001b[49m\u001b[43m,\u001b[49m\n\u001b[0;32m    299\u001b[0m \u001b[43m\u001b[49m\u001b[43m)\u001b[49m\n",
      "File \u001b[1;32md:\\PycharmProjects\\smart-travels\\.venv\\Lib\\site-packages\\google\\api_core\\retry\\retry_unary.py:153\u001b[0m, in \u001b[0;36mretry_target\u001b[1;34m(target, predicate, sleep_generator, timeout, on_error, exception_factory, **kwargs)\u001b[0m\n\u001b[0;32m    149\u001b[0m \u001b[38;5;66;03m# pylint: disable=broad-except\u001b[39;00m\n\u001b[0;32m    150\u001b[0m \u001b[38;5;66;03m# This function explicitly must deal with broad exceptions.\u001b[39;00m\n\u001b[0;32m    151\u001b[0m \u001b[38;5;28;01mexcept\u001b[39;00m \u001b[38;5;167;01mException\u001b[39;00m \u001b[38;5;28;01mas\u001b[39;00m exc:\n\u001b[0;32m    152\u001b[0m     \u001b[38;5;66;03m# defer to shared logic for handling errors\u001b[39;00m\n\u001b[1;32m--> 153\u001b[0m     \u001b[43m_retry_error_helper\u001b[49m\u001b[43m(\u001b[49m\n\u001b[0;32m    154\u001b[0m \u001b[43m        \u001b[49m\u001b[43mexc\u001b[49m\u001b[43m,\u001b[49m\n\u001b[0;32m    155\u001b[0m \u001b[43m        \u001b[49m\u001b[43mdeadline\u001b[49m\u001b[43m,\u001b[49m\n\u001b[0;32m    156\u001b[0m \u001b[43m        \u001b[49m\u001b[43msleep\u001b[49m\u001b[43m,\u001b[49m\n\u001b[0;32m    157\u001b[0m \u001b[43m        \u001b[49m\u001b[43merror_list\u001b[49m\u001b[43m,\u001b[49m\n\u001b[0;32m    158\u001b[0m \u001b[43m        \u001b[49m\u001b[43mpredicate\u001b[49m\u001b[43m,\u001b[49m\n\u001b[0;32m    159\u001b[0m \u001b[43m        \u001b[49m\u001b[43mon_error\u001b[49m\u001b[43m,\u001b[49m\n\u001b[0;32m    160\u001b[0m \u001b[43m        \u001b[49m\u001b[43mexception_factory\u001b[49m\u001b[43m,\u001b[49m\n\u001b[0;32m    161\u001b[0m \u001b[43m        \u001b[49m\u001b[43mtimeout\u001b[49m\u001b[43m,\u001b[49m\n\u001b[0;32m    162\u001b[0m \u001b[43m    \u001b[49m\u001b[43m)\u001b[49m\n\u001b[0;32m    163\u001b[0m     \u001b[38;5;66;03m# if exception not raised, sleep before next attempt\u001b[39;00m\n\u001b[0;32m    164\u001b[0m     time\u001b[38;5;241m.\u001b[39msleep(sleep)\n",
      "File \u001b[1;32md:\\PycharmProjects\\smart-travels\\.venv\\Lib\\site-packages\\google\\api_core\\retry\\retry_base.py:212\u001b[0m, in \u001b[0;36m_retry_error_helper\u001b[1;34m(exc, deadline, next_sleep, error_list, predicate_fn, on_error_fn, exc_factory_fn, original_timeout)\u001b[0m\n\u001b[0;32m    206\u001b[0m \u001b[38;5;28;01mif\u001b[39;00m \u001b[38;5;129;01mnot\u001b[39;00m predicate_fn(exc):\n\u001b[0;32m    207\u001b[0m     final_exc, source_exc \u001b[38;5;241m=\u001b[39m exc_factory_fn(\n\u001b[0;32m    208\u001b[0m         error_list,\n\u001b[0;32m    209\u001b[0m         RetryFailureReason\u001b[38;5;241m.\u001b[39mNON_RETRYABLE_ERROR,\n\u001b[0;32m    210\u001b[0m         original_timeout,\n\u001b[0;32m    211\u001b[0m     )\n\u001b[1;32m--> 212\u001b[0m     \u001b[38;5;28;01mraise\u001b[39;00m final_exc \u001b[38;5;28;01mfrom\u001b[39;00m \u001b[38;5;21;01msource_exc\u001b[39;00m\n\u001b[0;32m    213\u001b[0m \u001b[38;5;28;01mif\u001b[39;00m on_error_fn \u001b[38;5;129;01mis\u001b[39;00m \u001b[38;5;129;01mnot\u001b[39;00m \u001b[38;5;28;01mNone\u001b[39;00m:\n\u001b[0;32m    214\u001b[0m     on_error_fn(exc)\n",
      "File \u001b[1;32md:\\PycharmProjects\\smart-travels\\.venv\\Lib\\site-packages\\google\\api_core\\retry\\retry_unary.py:144\u001b[0m, in \u001b[0;36mretry_target\u001b[1;34m(target, predicate, sleep_generator, timeout, on_error, exception_factory, **kwargs)\u001b[0m\n\u001b[0;32m    142\u001b[0m \u001b[38;5;28;01mfor\u001b[39;00m sleep \u001b[38;5;129;01min\u001b[39;00m sleep_generator:\n\u001b[0;32m    143\u001b[0m     \u001b[38;5;28;01mtry\u001b[39;00m:\n\u001b[1;32m--> 144\u001b[0m         result \u001b[38;5;241m=\u001b[39m \u001b[43mtarget\u001b[49m\u001b[43m(\u001b[49m\u001b[43m)\u001b[49m\n\u001b[0;32m    145\u001b[0m         \u001b[38;5;28;01mif\u001b[39;00m inspect\u001b[38;5;241m.\u001b[39misawaitable(result):\n\u001b[0;32m    146\u001b[0m             warnings\u001b[38;5;241m.\u001b[39mwarn(_ASYNC_RETRY_WARNING)\n",
      "File \u001b[1;32md:\\PycharmProjects\\smart-travels\\.venv\\Lib\\site-packages\\google\\api_core\\timeout.py:120\u001b[0m, in \u001b[0;36mTimeToDeadlineTimeout.__call__.<locals>.func_with_timeout\u001b[1;34m(*args, **kwargs)\u001b[0m\n\u001b[0;32m    117\u001b[0m     \u001b[38;5;66;03m# Avoid setting negative timeout\u001b[39;00m\n\u001b[0;32m    118\u001b[0m     kwargs[\u001b[38;5;124m\"\u001b[39m\u001b[38;5;124mtimeout\u001b[39m\u001b[38;5;124m\"\u001b[39m] \u001b[38;5;241m=\u001b[39m \u001b[38;5;28mmax\u001b[39m(\u001b[38;5;241m0\u001b[39m, \u001b[38;5;28mself\u001b[39m\u001b[38;5;241m.\u001b[39m_timeout \u001b[38;5;241m-\u001b[39m time_since_first_attempt)\n\u001b[1;32m--> 120\u001b[0m \u001b[38;5;28;01mreturn\u001b[39;00m \u001b[43mfunc\u001b[49m\u001b[43m(\u001b[49m\u001b[38;5;241;43m*\u001b[39;49m\u001b[43margs\u001b[49m\u001b[43m,\u001b[49m\u001b[43m \u001b[49m\u001b[38;5;241;43m*\u001b[39;49m\u001b[38;5;241;43m*\u001b[39;49m\u001b[43mkwargs\u001b[49m\u001b[43m)\u001b[49m\n",
      "File \u001b[1;32md:\\PycharmProjects\\smart-travels\\.venv\\Lib\\site-packages\\google\\api_core\\grpc_helpers.py:78\u001b[0m, in \u001b[0;36m_wrap_unary_errors.<locals>.error_remapped_callable\u001b[1;34m(*args, **kwargs)\u001b[0m\n\u001b[0;32m     76\u001b[0m     \u001b[38;5;28;01mreturn\u001b[39;00m callable_(\u001b[38;5;241m*\u001b[39margs, \u001b[38;5;241m*\u001b[39m\u001b[38;5;241m*\u001b[39mkwargs)\n\u001b[0;32m     77\u001b[0m \u001b[38;5;28;01mexcept\u001b[39;00m grpc\u001b[38;5;241m.\u001b[39mRpcError \u001b[38;5;28;01mas\u001b[39;00m exc:\n\u001b[1;32m---> 78\u001b[0m     \u001b[38;5;28;01mraise\u001b[39;00m exceptions\u001b[38;5;241m.\u001b[39mfrom_grpc_error(exc) \u001b[38;5;28;01mfrom\u001b[39;00m \u001b[38;5;21;01mexc\u001b[39;00m\n",
      "\u001b[1;31mNotFound\u001b[0m: 404 models/text-embedding-001 is not found for API version v1beta, or is not supported for embedContent. Call ListModels to see the list of available models and their supported methods."
     ]
    }
   ],
   "source": [
    "text= \"testsetsetset\"\n",
    "title = \"test\"\n",
    "test = genai.embed_content(model='models/text-embedding-004', \n",
    "                    content=text,\n",
    "                    task_type = \"retrieval_document\",\n",
    "                    title = title)"
   ]
  },
  {
   "cell_type": "markdown",
   "metadata": {},
   "source": [
    "# 1) RAG outline:\n"
   ]
  },
  {
   "cell_type": "code",
   "execution_count": null,
   "metadata": {},
   "outputs": [],
   "source": []
  },
  {
   "cell_type": "code",
   "execution_count": 10,
   "metadata": {},
   "outputs": [
    {
     "name": "stderr",
     "output_type": "stream",
     "text": [
      "d:\\PycharmProjects\\smart-travels\\.venv\\Lib\\site-packages\\tqdm\\auto.py:21: TqdmWarning: IProgress not found. Please update jupyter and ipywidgets. See https://ipywidgets.readthedocs.io/en/stable/user_install.html\n",
      "  from .autonotebook import tqdm as notebook_tqdm\n"
     ]
    }
   ],
   "source": [
    "from RAG.traveller import RAG\n",
    "rag = RAG()\n",
    "\n",
    "SHEET_NAME = \"Master Database\" \n",
    "WORKSHEET_NAME = \"inventory_processed\"\n",
    "df = rag.get_df(sheet_name = SHEET_NAME, worksheet_name = WORKSHEET_NAME)"
   ]
  },
  {
   "cell_type": "code",
   "execution_count": 2,
   "metadata": {},
   "outputs": [],
   "source": [
    "df1 = rag.embed_df(df, title=\"Title\", text=\"Text\")"
   ]
  },
  {
   "cell_type": "code",
   "execution_count": 3,
   "metadata": {},
   "outputs": [
    {
     "data": {
      "text/html": [
       "<div>\n",
       "<style scoped>\n",
       "    .dataframe tbody tr th:only-of-type {\n",
       "        vertical-align: middle;\n",
       "    }\n",
       "\n",
       "    .dataframe tbody tr th {\n",
       "        vertical-align: top;\n",
       "    }\n",
       "\n",
       "    .dataframe thead th {\n",
       "        text-align: right;\n",
       "    }\n",
       "</style>\n",
       "<table border=\"1\" class=\"dataframe\">\n",
       "  <thead>\n",
       "    <tr style=\"text-align: right;\">\n",
       "      <th></th>\n",
       "      <th>Destination</th>\n",
       "      <th>Title</th>\n",
       "      <th>Text</th>\n",
       "      <th>Embeddings</th>\n",
       "    </tr>\n",
       "  </thead>\n",
       "  <tbody>\n",
       "    <tr>\n",
       "      <th>0</th>\n",
       "      <td>partners - putrajaya - cruise</td>\n",
       "      <td>cruise tasik putrajaya</td>\n",
       "      <td>Cruise Tasik Putrajaya\\nCruise beyond your im...</td>\n",
       "      <td>[0.02785702, 0.04049749, -0.038079727, -0.0661...</td>\n",
       "    </tr>\n",
       "    <tr>\n",
       "      <th>1</th>\n",
       "      <td>partners - malacca - attractions</td>\n",
       "      <td>menara taming sari</td>\n",
       "      <td>MENARA TAMING SARI\\nMELAKA\\n\\nTaming Sari Tow...</td>\n",
       "      <td>[0.04842721, 0.06566964, -0.001694597, -0.0012...</td>\n",
       "    </tr>\n",
       "    <tr>\n",
       "      <th>2</th>\n",
       "      <td>partners - malacca - attractions</td>\n",
       "      <td>melaka river cruise</td>\n",
       "      <td>MELAKA RIVER CRUISE\\nS.M.A. MELAKA\\n\\nwww.mel...</td>\n",
       "      <td>[0.060001522, 0.05154308, -0.019224696, -0.050...</td>\n",
       "    </tr>\n",
       "    <tr>\n",
       "      <th>3</th>\n",
       "      <td>partners - terengganu - accommodation</td>\n",
       "      <td>perhentian island resort</td>\n",
       "      <td>**Perhentian Island Resort**\\n\\nPulau Perhent...</td>\n",
       "      <td>[0.04545973, -0.003452046, -0.0065804133, -0.0...</td>\n",
       "    </tr>\n",
       "    <tr>\n",
       "      <th>4</th>\n",
       "      <td>partner - terengganu - tour package</td>\n",
       "      <td>ag holidays</td>\n",
       "      <td>Pakej Aktiviti\\nKem Pelajar &amp; IPT\\nSetu Adven...</td>\n",
       "      <td>[-0.002626957, -0.0129379155, -0.025428655, -0...</td>\n",
       "    </tr>\n",
       "    <tr>\n",
       "      <th>5</th>\n",
       "      <td>partners - terengganu - tour package</td>\n",
       "      <td>tenggol coral beach resort</td>\n",
       "      <td>Tenggol \\nCoral Beach \\nResort\\n\\n浮潜配套\\n配套包括：...</td>\n",
       "      <td>[0.057933476, 0.010546263, -0.009384707, -0.00...</td>\n",
       "    </tr>\n",
       "    <tr>\n",
       "      <th>6</th>\n",
       "      <td>partners - terengganu - accommodation</td>\n",
       "      <td>ag holidays</td>\n",
       "      <td>AG SUITES\\nKETENANGAN ITU MEMBAHAGIAKAN\\n011-...</td>\n",
       "      <td>[0.04481308, -0.001814087, 0.036361963, -0.020...</td>\n",
       "    </tr>\n",
       "    <tr>\n",
       "      <th>7</th>\n",
       "      <td>partners - johor - theme park</td>\n",
       "      <td>legoland</td>\n",
       "      <td>MATTA FAIR EXCLUSIVE \\nMitec 2C01\\n\\nPAY FOR ...</td>\n",
       "      <td>[0.019847477, 0.0076364363, 0.002201427, -0.03...</td>\n",
       "    </tr>\n",
       "    <tr>\n",
       "      <th>8</th>\n",
       "      <td>partners - johor - theme park</td>\n",
       "      <td>legoland</td>\n",
       "      <td>MATTA FAIR EXCLUSIVE \\nMitec 2C01\\n\\nPAY FOR ...</td>\n",
       "      <td>[0.01988468, 0.0057520024, 0.0025358577, -0.03...</td>\n",
       "    </tr>\n",
       "    <tr>\n",
       "      <th>9</th>\n",
       "      <td>partners - negeri sembilan - leisure</td>\n",
       "      <td>sky ladder pineapple farm</td>\n",
       "      <td>SkyLadder\\nPineapple Farm\\nNature. Explore. R...</td>\n",
       "      <td>[0.021492492, 0.026504407, -0.028603036, -0.00...</td>\n",
       "    </tr>\n",
       "    <tr>\n",
       "      <th>10</th>\n",
       "      <td>partners - negeri sembilan - accomodation &amp; re...</td>\n",
       "      <td>dataran segar city</td>\n",
       "      <td>WONDROUS\\nSTAY PACKAGE\\n\\nTasik Villa\\nIntern...</td>\n",
       "      <td>[0.014910541, -0.023930734, 0.014321615, -0.03...</td>\n",
       "    </tr>\n",
       "    <tr>\n",
       "      <th>11</th>\n",
       "      <td>partners - negeri sembilan - accomodation</td>\n",
       "      <td>tasik villa international resort port dickson</td>\n",
       "      <td>Tasiik Villa\\nInternational Resort\\nPort Dick...</td>\n",
       "      <td>[0.035173576, -0.0016962138, 0.020557813, -0.0...</td>\n",
       "    </tr>\n",
       "    <tr>\n",
       "      <th>12</th>\n",
       "      <td>partners - penang - museum</td>\n",
       "      <td>ghost museum</td>\n",
       "      <td>幽灵博物馆\\nCOOL GHOST MUSEUM\\n1ST AND ONLY IN MAL...</td>\n",
       "      <td>[-0.005583892, 0.054594845, -0.020913493, -0.0...</td>\n",
       "    </tr>\n",
       "    <tr>\n",
       "      <th>13</th>\n",
       "      <td>partners - penang - entertainment</td>\n",
       "      <td>the top penang</td>\n",
       "      <td>ARCH 2024 MITEC, KL\\n\\nThe TOP \\nPENANG\\nHigh...</td>\n",
       "      <td>[0.06559584, 0.023456864, -0.033938594, -0.029...</td>\n",
       "    </tr>\n",
       "    <tr>\n",
       "      <th>14</th>\n",
       "      <td>partners - penang - entertainment</td>\n",
       "      <td>magic world penang</td>\n",
       "      <td>[Image of a Magic World Penang sign with a ma...</td>\n",
       "      <td>[-0.0018990301, 0.030383885, -0.03832716, -0.0...</td>\n",
       "    </tr>\n",
       "    <tr>\n",
       "      <th>15</th>\n",
       "      <td>partners - penang - f&amp;b</td>\n",
       "      <td>de' 8000 mini golf cafe</td>\n",
       "      <td>De' 8000\\nMini Golf Cafe\\n1st in Malaysia\\n\\n...</td>\n",
       "      <td>[0.017887617, -0.010630016, 0.00758781, -0.075...</td>\n",
       "    </tr>\n",
       "    <tr>\n",
       "      <th>16</th>\n",
       "      <td>partners - penang - accomodation</td>\n",
       "      <td>raia inn penang</td>\n",
       "      <td>Raia Inn Penang\\n\\nJom Cuti Raia\\n\\nSpacious ...</td>\n",
       "      <td>[0.02844026, -0.011136843, 0.0031094996, -0.03...</td>\n",
       "    </tr>\n",
       "  </tbody>\n",
       "</table>\n",
       "</div>"
      ],
      "text/plain": [
       "                                          Destination  \\\n",
       "0                       partners - putrajaya - cruise   \n",
       "1                    partners - malacca - attractions   \n",
       "2                    partners - malacca - attractions   \n",
       "3               partners - terengganu - accommodation   \n",
       "4                 partner - terengganu - tour package   \n",
       "5                partners - terengganu - tour package   \n",
       "6               partners - terengganu - accommodation   \n",
       "7                       partners - johor - theme park   \n",
       "8                       partners - johor - theme park   \n",
       "9                partners - negeri sembilan - leisure   \n",
       "10  partners - negeri sembilan - accomodation & re...   \n",
       "11          partners - negeri sembilan - accomodation   \n",
       "12                         partners - penang - museum   \n",
       "13                  partners - penang - entertainment   \n",
       "14                  partners - penang - entertainment   \n",
       "15                            partners - penang - f&b   \n",
       "16                   partners - penang - accomodation   \n",
       "\n",
       "                                            Title  \\\n",
       "0                          cruise tasik putrajaya   \n",
       "1                              menara taming sari   \n",
       "2                             melaka river cruise   \n",
       "3                        perhentian island resort   \n",
       "4                                     ag holidays   \n",
       "5                      tenggol coral beach resort   \n",
       "6                                     ag holidays   \n",
       "7                                        legoland   \n",
       "8                                        legoland   \n",
       "9                       sky ladder pineapple farm   \n",
       "10                             dataran segar city   \n",
       "11  tasik villa international resort port dickson   \n",
       "12                                   ghost museum   \n",
       "13                                 the top penang   \n",
       "14                             magic world penang   \n",
       "15                        de' 8000 mini golf cafe   \n",
       "16                                raia inn penang   \n",
       "\n",
       "                                                 Text  \\\n",
       "0    Cruise Tasik Putrajaya\\nCruise beyond your im...   \n",
       "1    MENARA TAMING SARI\\nMELAKA\\n\\nTaming Sari Tow...   \n",
       "2    MELAKA RIVER CRUISE\\nS.M.A. MELAKA\\n\\nwww.mel...   \n",
       "3    **Perhentian Island Resort**\\n\\nPulau Perhent...   \n",
       "4    Pakej Aktiviti\\nKem Pelajar & IPT\\nSetu Adven...   \n",
       "5    Tenggol \\nCoral Beach \\nResort\\n\\n浮潜配套\\n配套包括：...   \n",
       "6    AG SUITES\\nKETENANGAN ITU MEMBAHAGIAKAN\\n011-...   \n",
       "7    MATTA FAIR EXCLUSIVE \\nMitec 2C01\\n\\nPAY FOR ...   \n",
       "8    MATTA FAIR EXCLUSIVE \\nMitec 2C01\\n\\nPAY FOR ...   \n",
       "9    SkyLadder\\nPineapple Farm\\nNature. Explore. R...   \n",
       "10   WONDROUS\\nSTAY PACKAGE\\n\\nTasik Villa\\nIntern...   \n",
       "11   Tasiik Villa\\nInternational Resort\\nPort Dick...   \n",
       "12   幽灵博物馆\\nCOOL GHOST MUSEUM\\n1ST AND ONLY IN MAL...   \n",
       "13   ARCH 2024 MITEC, KL\\n\\nThe TOP \\nPENANG\\nHigh...   \n",
       "14   [Image of a Magic World Penang sign with a ma...   \n",
       "15   De' 8000\\nMini Golf Cafe\\n1st in Malaysia\\n\\n...   \n",
       "16   Raia Inn Penang\\n\\nJom Cuti Raia\\n\\nSpacious ...   \n",
       "\n",
       "                                           Embeddings  \n",
       "0   [0.02785702, 0.04049749, -0.038079727, -0.0661...  \n",
       "1   [0.04842721, 0.06566964, -0.001694597, -0.0012...  \n",
       "2   [0.060001522, 0.05154308, -0.019224696, -0.050...  \n",
       "3   [0.04545973, -0.003452046, -0.0065804133, -0.0...  \n",
       "4   [-0.002626957, -0.0129379155, -0.025428655, -0...  \n",
       "5   [0.057933476, 0.010546263, -0.009384707, -0.00...  \n",
       "6   [0.04481308, -0.001814087, 0.036361963, -0.020...  \n",
       "7   [0.019847477, 0.0076364363, 0.002201427, -0.03...  \n",
       "8   [0.01988468, 0.0057520024, 0.0025358577, -0.03...  \n",
       "9   [0.021492492, 0.026504407, -0.028603036, -0.00...  \n",
       "10  [0.014910541, -0.023930734, 0.014321615, -0.03...  \n",
       "11  [0.035173576, -0.0016962138, 0.020557813, -0.0...  \n",
       "12  [-0.005583892, 0.054594845, -0.020913493, -0.0...  \n",
       "13  [0.06559584, 0.023456864, -0.033938594, -0.029...  \n",
       "14  [-0.0018990301, 0.030383885, -0.03832716, -0.0...  \n",
       "15  [0.017887617, -0.010630016, 0.00758781, -0.075...  \n",
       "16  [0.02844026, -0.011136843, 0.0031094996, -0.03...  "
      ]
     },
     "execution_count": 3,
     "metadata": {},
     "output_type": "execute_result"
    }
   ],
   "source": [
    "df1"
   ]
  },
  {
   "cell_type": "code",
   "execution_count": 5,
   "metadata": {},
   "outputs": [],
   "source": [
    "query_embedding = rag.embed_text(\"penang exciting place to visit\", task_type=\"retrieval_query\")"
   ]
  },
  {
   "cell_type": "code",
   "execution_count": 9,
   "metadata": {},
   "outputs": [],
   "source": [
    "import numpy as np\n",
    "import pandas as pd\n",
    "dataframe = df1\n",
    "topN = 2\n",
    "\n",
    "dot_products = np.dot(np.stack(dataframe['Embeddings']), query_embedding)\n",
    "idx = np.argsort(dot_products)[-topN:][::-1]\n",
    "\n",
    "# Create a DataFrame with passages and scores\n",
    "top_passages = pd.DataFrame({'Text': dataframe.iloc[idx]['Text'], 'Score': dot_products[idx]})"
   ]
  },
  {
   "cell_type": "code",
   "execution_count": null,
   "metadata": {},
   "outputs": [],
   "source": []
  },
  {
   "cell_type": "code",
   "execution_count": null,
   "metadata": {},
   "outputs": [],
   "source": []
  },
  {
   "cell_type": "code",
   "execution_count": 10,
   "metadata": {},
   "outputs": [
    {
     "data": {
      "text/html": [
       "<div>\n",
       "<style scoped>\n",
       "    .dataframe tbody tr th:only-of-type {\n",
       "        vertical-align: middle;\n",
       "    }\n",
       "\n",
       "    .dataframe tbody tr th {\n",
       "        vertical-align: top;\n",
       "    }\n",
       "\n",
       "    .dataframe thead th {\n",
       "        text-align: right;\n",
       "    }\n",
       "</style>\n",
       "<table border=\"1\" class=\"dataframe\">\n",
       "  <thead>\n",
       "    <tr style=\"text-align: right;\">\n",
       "      <th></th>\n",
       "      <th>Passage</th>\n",
       "      <th>Similarity Score</th>\n",
       "    </tr>\n",
       "  </thead>\n",
       "  <tbody>\n",
       "    <tr>\n",
       "      <th>0</th>\n",
       "      <td>AG SUITES\\nKETENANGAN ITU MEMBAHAGIAKAN\\n011-...</td>\n",
       "      <td>-0.024121</td>\n",
       "    </tr>\n",
       "    <tr>\n",
       "      <th>1</th>\n",
       "      <td>Tasiik Villa\\nInternational Resort\\nPort Dick...</td>\n",
       "      <td>-0.041005</td>\n",
       "    </tr>\n",
       "  </tbody>\n",
       "</table>\n",
       "</div>"
      ],
      "text/plain": [
       "                                             Passage  Similarity Score\n",
       "0   AG SUITES\\nKETENANGAN ITU MEMBAHAGIAKAN\\n011-...         -0.024121\n",
       "1   Tasiik Villa\\nInternational Resort\\nPort Dick...         -0.041005"
      ]
     },
     "execution_count": 10,
     "metadata": {},
     "output_type": "execute_result"
    }
   ],
   "source": [
    "top_passages.reset_index(drop=True).rename(columns={'Text': 'Passage', 'Score': 'Similarity Score'})"
   ]
  },
  {
   "cell_type": "code",
   "execution_count": 11,
   "metadata": {},
   "outputs": [
    {
     "data": {
      "text/html": [
       "<div>\n",
       "<style scoped>\n",
       "    .dataframe tbody tr th:only-of-type {\n",
       "        vertical-align: middle;\n",
       "    }\n",
       "\n",
       "    .dataframe tbody tr th {\n",
       "        vertical-align: top;\n",
       "    }\n",
       "\n",
       "    .dataframe thead th {\n",
       "        text-align: right;\n",
       "    }\n",
       "</style>\n",
       "<table border=\"1\" class=\"dataframe\">\n",
       "  <thead>\n",
       "    <tr style=\"text-align: right;\">\n",
       "      <th></th>\n",
       "      <th>Text</th>\n",
       "      <th>Score</th>\n",
       "    </tr>\n",
       "  </thead>\n",
       "  <tbody>\n",
       "    <tr>\n",
       "      <th>6</th>\n",
       "      <td>AG SUITES\\nKETENANGAN ITU MEMBAHAGIAKAN\\n011-...</td>\n",
       "      <td>-0.024121</td>\n",
       "    </tr>\n",
       "    <tr>\n",
       "      <th>11</th>\n",
       "      <td>Tasiik Villa\\nInternational Resort\\nPort Dick...</td>\n",
       "      <td>-0.041005</td>\n",
       "    </tr>\n",
       "  </tbody>\n",
       "</table>\n",
       "</div>"
      ],
      "text/plain": [
       "                                                 Text     Score\n",
       "6    AG SUITES\\nKETENANGAN ITU MEMBAHAGIAKAN\\n011-... -0.024121\n",
       "11   Tasiik Villa\\nInternational Resort\\nPort Dick... -0.041005"
      ]
     },
     "execution_count": 11,
     "metadata": {},
     "output_type": "execute_result"
    }
   ],
   "source": [
    "top_passages"
   ]
  },
  {
   "cell_type": "code",
   "execution_count": null,
   "metadata": {},
   "outputs": [],
   "source": []
  },
  {
   "cell_type": "code",
   "execution_count": null,
   "metadata": {},
   "outputs": [],
   "source": []
  },
  {
   "cell_type": "code",
   "execution_count": null,
   "metadata": {},
   "outputs": [],
   "source": []
  },
  {
   "cell_type": "markdown",
   "metadata": {},
   "source": [
    "## 2) Cohere RAG test"
   ]
  },
  {
   "cell_type": "code",
   "execution_count": 1,
   "metadata": {},
   "outputs": [],
   "source": [
    "from RAG.cohere_RAG import RAG\n",
    "query = \"Penang, 2 days, foodie\"\n",
    "rag = RAG()\n",
    "result, recommendations = rag.rag_pipeline(query = query, sheet_name = \"Master Database\", worksheet_name=\"inventory_processed\", reembed= False)"
   ]
  },
  {
   "cell_type": "code",
   "execution_count": 27,
   "metadata": {},
   "outputs": [
    {
     "name": "stdout",
     "output_type": "stream",
     "text": [
      "**Activities Description:**\n",
      "\n",
      "Enjoy a spacious room suitable for families. Immerse yourself in the local delights of Penang. Take a refreshing dip in the new splash pool.\n",
      "\n",
      "**Highlights:**\n",
      "\n",
      "* Spacious family-friendly rooms\n",
      "* Local culinary experiences\n",
      "* New splash pool\n",
      "\n",
      "**Timings:**\n",
      "\n",
      "NA\n",
      "\n",
      "**Pricings:**\n",
      "\n",
      "* RM158nett per night\n",
      "\n",
      "**Contact Information:**\n",
      "\n",
      "* Phone: 011-1739 8714\n",
      "* Website: www.raiahotels.com.my\n",
      "\n",
      "**Terms and Conditions:**\n",
      "\n",
      "* Prices include 8% service charge and 6% SST.\n",
      "* Buy now, stay later until 30th September 2024.\n",
      "* Surcharge of RM50 applicable for eve of public holidays and public holidays.\n"
     ]
    }
   ],
   "source": [
    "print(recommendations[0])"
   ]
  },
  {
   "cell_type": "code",
   "execution_count": null,
   "metadata": {},
   "outputs": [],
   "source": []
  },
  {
   "cell_type": "markdown",
   "metadata": {},
   "source": [
    "# 2) Traveller 2"
   ]
  },
  {
   "cell_type": "code",
   "execution_count": 1,
   "metadata": {},
   "outputs": [
    {
     "name": "stderr",
     "output_type": "stream",
     "text": [
      "d:\\PycharmProjects\\smart-travels\\.venv\\Lib\\site-packages\\tqdm\\auto.py:21: TqdmWarning: IProgress not found. Please update jupyter and ipywidgets. See https://ipywidgets.readthedocs.io/en/stable/user_install.html\n",
      "  from .autonotebook import tqdm as notebook_tqdm\n"
     ]
    }
   ],
   "source": [
    "import importlib\n",
    "\n",
    "from RAG import traveller\n",
    "importlib.reload(traveller)\n",
    "\n",
    "from RAG.traveller import traveller\n",
    "rag = traveller()\n",
    "# df_raw = rag.get_df(sheet_name = \"Master Database\", worksheet_name = \"inventory\")\n",
    "# df_raw\n",
    "\n",
    "# df = rag.get_df(sheet_name = \"Master Database\", worksheet_name = \"inventory_processed\")\n"
   ]
  },
  {
   "cell_type": "code",
   "execution_count": null,
   "metadata": {},
   "outputs": [],
   "source": [
    "# pip install requirements.txt\n"
   ]
  },
  {
   "cell_type": "code",
   "execution_count": 5,
   "metadata": {},
   "outputs": [],
   "source": [
    "message = {\"destination\":\"penang\",\n",
    "           \"dates\":\"August\",\n",
    "           \"duration\":\"2 days\",\n",
    "           \"number_of_pax\":\"2\",\n",
    "           \"filter\":\"foodie, attractions, magical\",\n",
    "           \"budget\":\"$2000\",\n",
    "           \"prompt\":\"\"}\n",
    "# columns_to_embed = [\"Country\", \"Location\"]\n",
    "# column_title=\"Title\"\n",
    "# top_inventories = rag.filter_destinations(message[\"destination\"],df, columns_to_embed = columns_to_embed, column_title=column_title, top_N = 5)\n",
    "# top_inventories = top_inventories[[\"Type\", \"Tags\", \"Title\", \"Description\"]]\n",
    "# top_inventories_json = top_inventories.to_json(orient='records')\n",
    "# print(top_inventories_json)\n"
   ]
  },
  {
   "cell_type": "code",
   "execution_count": 6,
   "metadata": {},
   "outputs": [
    {
     "name": "stdout",
     "output_type": "stream",
     "text": [
      "Loading inventory...\n",
      "Filtering inventory...\n",
      "[{\"Type\":\"activity\",\"Tags\":\"\",\"Title\":\"ghost museum\",\"Description\":\"**Activities Description:**\\n\\n* **Ghost Museum:** Explore a 3-storey museum featuring ghosts from around the world.\\n* **Zombie Attack:** Experience the thrill of a zombie attack (specifics not provided).\\n* **Witch House:** Enter a haunted witch's dwelling.\\n* **Halloween:** Immerse yourself in a Halloween-themed exhibit.\\n* **Japan:** Learn about Japanese ghosts.\\n* **Dracula:** Encounter the legendary vampire.\\n* **Pirate:** Witness the horrors of pirate hauntings.\\n* **Malaysia:** Discover local ghost stories.\\n* **China:** Explore Chinese ghost folklore.\\n* **Egypt:** Uncover ancient Egyptian spirits.\\n\\n**Highlights:**\\n\\n* Free costumes and props for photo opportunities.\\n* Free guided tours.\\n* Realistic scenes for an immersive experience.\\n* Educational journey into the history of ghosts.\\n\\n**Timings:**\\n\\n* Open Daily (10am - 7pm)\\n* Last Admission: 6.30pm\\n\\n**Pricings:**\\n\\n* Adult: RM18\\n* Child\\/OKU: RM12\\n* Student: RM15 (not specified if this includes OKU)\\n* Senior Citizen: RM12\\n* Child (under 12): RM10\\n* Combo Ticket (any 3 attractions): RM45\\n\\n**Contact Information:**\\n\\n* Address: 57, Lebuh Melayu, 10100 Georgetown, Pulau Pinang\\n* Tel: 04 - 261 2352\\n* Email: [email protected]\\n* Website: www.coolghostmuseum.com\\n* Social Media: @Ghost Museum Penang (Facebook and Instagram)\\n\\n**Terms and Conditions:**\\n\\n* Adult ticket includes 1 free beverage.\\n* Offer cannot be combined with other promotions.\"},{\"Type\":\"activity\",\"Tags\":\"\",\"Title\":\"the top penang\",\"Description\":\"**Activities:**\\n\\n**TOP BIG 5**\\n\\n* Rainbow Skywalk\\n* Observatory Deck\\n* Sky Bridge\\n* Jurassic Research Centre\\n* 4D Adventure\\n\\n**TOP SUPER SAVER**\\n\\n* Rainbow Skywalk\\n* Observatory Deck\\n* Sky Bridge\\n* Jurassic Research Centre\\n* 4D Adventure\\n* Entopia by Penang Butterfly Farm\\n* Penang State Gallery & Museum\\n* Zip Zone Adventure Park\\n* TeddyVille Museum\\n* Upside Down Penang\\n* UFO-X\\n* Tech Dome\\n\\n**TOP FAMILY SUPER SAVER**\\n\\n* Rainbow Skywalk\\n* Observatory Deck\\n* Sky Bridge\\n* Jurassic Research Centre\\n* 4D Adventure\\n* Entopia by Penang Butterfly Farm\\n* Penang State Gallery & Museum\\n* Zip Zone Adventure Park\\n* TeddyVille Museum\\n* Upside Down Penang\\n* UFO-X\\n* Tech Dome\\n* Top Glove Gallery\\n\\n**Timings:**\\n\\nNA\\n\\n**Pricings:**\\n\\n**TOP BIG 5**\\n\\n* Adult: RM66\\n* Child: RM51\\n\\n**TOP SUPER SAVER**\\n\\n* Adult: RM88\\n* Child: RM58\\n\\n**TOP FAMILY SUPER SAVER**\\n\\n* Adult: RM128\\n* Child: RM118\\n\\n**Contact Information:**\\n\\n017-289 0366\\n\\n**Terms and Conditions:**\\n\\n* Valid until 30th September 2024\\n* Excludes Jungle Gym & GP Meta Kart (for TOP SUPER SAVER)\\n* Excludes GP Meta Kart (for TOP FAMILY SUPER SAVER)\"},{\"Type\":\" entertainment\",\"Tags\":\"\",\"Title\":\"magic world penang\",\"Description\":\"**Magic World Penang**\\n\\n**Activities:**\\n\\n* 3D Upside Down Museum\\n* 3D Interactive Art Gallery\\n* 3D Glow Museum\\n* 9D VR Theater\\n* Love Lock Bridge\\n* Bubble Museum\\n* Jurassic Alive Interactive Dinosaur Museum\\n* Selfie With Celebrities @ Hologram Museum\\n* Dino Park Interactive Dinosaurs\\n* Time Travel Interactive Museum\\n* Zombie Outbreak Interactive Museum\\n* Ice Age Interactive Museum\\n* Safari Interactive Museum\\n* Marine Life Interactive Museum\\n* Egyptian Interactive Museum\\n* Glow In The Dark Interactive Museum\\n* Space Interactive Museum\\n* Miniatures Interactive Museum\\n* Dream World Interactive Museum\\n* Fun House Interactive Museum\\n* Horror House Interactive Museum\\n* Ocean Explorer Interactive Museum\\n* Rainbow Interactive Museum\\n* Upside Down Interactive Museum\\n\\n**Highlights:**\\n\\n* Full of mystery and magic\\n* Experience Augmented Reality (AR)\\n\\n**Pricing:**\\n\\n* NA\\n\\n**Timings:**\\n\\n* NA\\n\\n**Contact Information:**\\n\\n* +6-04-263 3193\\n* +6016-474 9152\\n* info.magicworldpg@gmail.com\\n\\n**Terms and Conditions:**\\n\\n* NA\\n\\n**Ice Cafe Penang**\\n\\n**Activities:**\\n\\n* Instagrammable cafe with cooling temperature\\n* Provides variety of food, drinks, desserts\\n\\n**Highlights:**\\n\\n* Cooling temperature\\n* Instagrammable\\n\\n**Pricing:**\\n\\n* NA\\n\\n**Timings:**\\n\\n* Mon - Sun: 10am - 7pm\\n* Last admission: 6.30pm\\n\\n**Contact Information:**\\n\\n* +6-042-262-1193\\n* info.icecafepeg@gmail.com\\n* 193 Lebuh Victoria, 10300 Georgetown, Penang\\n\\n**Terms and Conditions:**\\n\\n* NA\\n\\n**Trick Eye Museum Singapore**\\n\\n**Activities:**\\n\\n* Trick Eye Gallery\\n* 3D Live Art Gallery\\n* Hologram Gallery\\n* Augmented Reality (AR) Gallery\\n* Freezing Experience\\n* Love Gallery\\n* Safari Kingdom\\n* Upside Down Gallery\\n* Super Heroes Gallery\\n\\n**Highlights:**\\n\\n* Entrance to various interactive galleries with optical illusions and immersive experiences\\n\\n**Pricing:**\\n\\n* Adult: $28\\n* Child (3-12 years old): $20\\n* Senior (60 years old and above): $20\\n* Family Package (2 adults, 2 children): $98\\n\\n**Timings:**\\n\\n* Daily: 10:00 AM - 9:00 PM\\n\\n**Contact Information:**\\n\\n* Address: 7 Raffles Avenue, #01-09 Millenia Walk, Singapore 039802\\n* Phone: +65 6338 8887\\n* Email: [email protected]\\n\\n**Website:**\\n\\n* www.trickeyemuseum.com.sg\\n\\n**Terms and Conditions:**\\n\\n* NA\"},{\"Type\":\" dining, activity\",\"Tags\":\"\",\"Title\":\"de' 8000 mini golf cafe\",\"Description\":\"**Activities Descriptions and Highlights:**\\n\\n* 18-hole mini golf course with various obstacles\\n* Cafe offering halal food and groceries\\n* Groceria with various items\\n* Corporate team building activities\\n* Par-tee time for group fun\\n* Mini golf challenge for friendly competition\\n\\n**Timings:**\\n\\n* Monday - Sunday: 11:00am - 10:00pm\\n* Cafe: Daily 10:00am - 10:00pm (last order for dine-in at 9:30pm)\\n\\n**Pricings:**\\n\\n* Not provided in the text\\n\\n**Contact Information:**\\n\\n* Email: de8000minigolfcafe@gmail.com\\n* Phone: 012-555 8000\\n* Location: No. 8, Jalan Dr. Lim Chwee Leong, 11600 Jelutong, Penang\\n* Website: NA\\n* Social Media:\\n    * Facebook: D8 - De' 8000\\n    * Instagram: de_8000_\\n\\n**Terms and Conditions:**\\n\\n* Pay one price for access with no time limit for playing\\n* Contact the counter for information on gold membership benefits\"},{\"Type\":\" accomodation\",\"Tags\":\"\",\"Title\":\"raia inn penang\",\"Description\":\"**Activities Description:**\\n\\nEnjoy a spacious room suitable for families. Immerse yourself in the local delights of Penang. Take a refreshing dip in the new splash pool.\\n\\n**Highlights:**\\n\\n* Spacious family-friendly rooms\\n* Local culinary experiences\\n* New splash pool\\n\\n**Timings:**\\n\\nNA\\n\\n**Pricings:**\\n\\n* RM158nett per night\\n\\n**Contact Information:**\\n\\n* Phone: 011-1739 8714\\n* Website: www.raiahotels.com.my\\n\\n**Terms and Conditions:**\\n\\n* Prices include 8% service charge and 6% SST.\\n* Buy now, stay later until 30th September 2024.\\n* Surcharge of RM50 applicable for eve of public holidays and public holidays.\"}]\n",
      "Generating itinerary...\n",
      "{\"summary\": \"Discover the magic of Penang, a foodie paradise with captivating attractions! Indulge in a culinary adventure, savoring diverse flavors from street food stalls to upscale restaurants. Explore enchanting attractions like mystical temples and vibrant street art, each telling a unique story. Immerse yourselves in the island's rich culture and create unforgettable memories.\", \"itinerary\": {\"day1_summary\": \"Welcome to Penang, Malaysia! Your foodie adventure begins with a taste of local delights at the famous hawker stalls. After satisfying your taste buds, prepare to be amazed by the captivating Ghost Museum, where you'll encounter spooky tales and eerie exhibits. End your day with a delightful dinner at De' 8000 Mini Golf Cafe, enjoying a delicious meal followed by a round of mini golf.\", \"day1_itinerary\": [{\"title\": \"Penang Hawker Stalls\", \"text\": \"Embark on a culinary journey through Penang's vibrant hawker scene. Explore bustling street stalls and immerse yourselves in a symphony of aromas and flavors. From savory Char Koay Teow to spicy Assam Laksa, each dish is a testament to Penang's rich culinary heritage. Indulge in local favorites like Nasi Kandar and savor the unique blend of spices that tantalize your taste buds.\", \"inventory\": \"unavailable\", \"price\": 20}, {\"title\": \"Ghost Museum\", \"text\": \"Prepare for a spine-chilling adventure at the Ghost Museum, where spooky tales and eerie exhibits await. Step into a world of haunted lore as you encounter ghosts from around the world. Explore the museum's three floors, each with its own theme, and learn about the history and folklore behind these supernatural beings. With realistic scenes and immersive experiences, the Ghost Museum is sure to leave you with goosebumps.\", \"inventory\": \"{\\\"Type\\\":\\\"activity\\\",\\\"Tags\\\":\\\"\\\",\\\"Title\\\":\\\"ghost museum\\\",\\\"Description\\\":\\\"**Activities Description:**\\\\n\\\\n* **Ghost Museum:** Explore a 3-storey museum featuring ghosts from around the world.\\\\n* **Zombie Attack:** Experience the thrill of a zombie attack (specifics not provided).\\\\n* **Witch House:** Enter a haunted witch's dwelling.\\\\n* **Halloween:** Immerse yourself in a Halloween-themed exhibit.\\\\n* **Japan:** Learn about Japanese ghosts.\\\\n* **Dracula:** Encounter the legendary vampire.\\\\n* **Pirate:** Witness the horrors of pirate hauntings.\\\\n* **Malaysia:** Discover local ghost stories.\\\\n* **China:** Explore Chinese ghost folklore.\\\\n* **Egypt:** Uncover ancient Egyptian spirits.\\\\n\\\\n**Highlights:**\\\\n\\\\n* Free costumes and props for photo opportunities.\\\\n* Free guided tours.\\\\n* Realistic scenes for an immersive experience.\\\\n* Educational journey into the history of ghosts.\\\\n\\\\n**Timings:**\\\\n\\\\n* Open Daily (10am - 7pm)\\\\n* Last Admission: 6.30pm\\\\n\\\\n**Pricings:**\\\\n\\\\n* Adult: RM18\\\\n* Child\\\\/OKU: RM12\\\\n* Student: RM15 (not specified if this includes OKU)\\\\n* Senior Citizen: RM12\\\\n* Child (under 12): RM10\\\\n* Combo Ticket (any 3 attractions): RM45\\\\n\\\\n**Contact Information:**\\\\n\\\\n* Address: 57, Lebuh Melayu, 10100 Georgetown, Pulau Pinang\\\\n* Tel: 04 - 261 2352\\\\n* Email: [email protected]\\\\n* Website: www.coolghostmuseum.com\\\\n* Social Media: @Ghost Museum Penang (Facebook and Instagram)\\\\n\\\\n**Terms and Conditions:**\\\\n\\\\n* Adult ticket includes 1 free beverage.\\\\n* Offer cannot be combined with other promotions.\\\"}\", \"price\": 18}, {\"title\": \"De' 8000 Mini Golf Cafe\", \"text\": \"End your day with a unique dining and entertainment experience at De' 8000 Mini Golf Cafe. Indulge in a delightful meal from their halal menu, offering a variety of local and international dishes. Afterward, challenge yourselves to a round of mini golf on their 18-hole course. With various obstacles and challenges, it's the perfect way to unwind and have some fun after a day of exploring.\", \"inventory\": \"{\\\"Type\\\":\\\" dining, activity\\\",\\\"Tags\\\":\\\"\\\",\\\"Title\\\":\\\"de' 8000 mini golf cafe\\\",\\\"Description\\\":\\\"**Activities Descriptions and Highlights:**\\\\n\\\\n* 18-hole mini golf course with various obstacles\\\\n* Cafe offering halal food and groceries\\\\n* Groceria with various items\\\\n* Corporate team building activities\\\\n* Par-tee time for group fun\\\\n* Mini golf challenge for friendly competition\\\\n\\\\n**Timings:**\\\\n\\\\n* Monday - Sunday: 11:00am - 10:00pm\\\\n* Cafe: Daily 10:00am - 10:00pm (last order for dine-in at 9:30pm)\\\\n\\\\n**Pricings:**\\\\n\\\\n* Not provided in the text\\\\n\\\\n**Contact Information:**\\\\n\\\\n* Email: de8000minigolfcafe@gmail.com\\\\n* Phone: 012-555 8000\\\\n* Location: No. 8, Jalan Dr. Lim Chwee Leong, 11600 Jelutong, Penang\\\\n* Website: NA\\\\n* Social Media:\\\\n    * Facebook: D8 - De' 8000\\\\n    * Instagram: de_8000_\\\\n\\\\n**Terms and Conditions:**\\\\n\\\\n* Pay one price for access with no time limit for playing\\\\n* Contact the counter for information on gold membership benefits\\\"}\", \"price\": 40}], \"day2_summary\": \"Your second day in Penang is all about reaching new heights and exploring the island's magical side. Start your day with an exhilarating experience at The Top Penang, where you'll enjoy breathtaking views from the Rainbow Skywalk. Afterward, immerse yourselves in a world of illusions and wonder at Magic World Penang, capturing Instagram-worthy moments. Conclude your culinary journey with a delightful dinner at another one of Penang's renowned hawker centers.\", \"day2_itinerary\": [{\"title\": \"The Top Penang\", \"text\": \"Soar to new heights at The Top Penang, home to a variety of exciting attractions. Experience the thrill of walking on the Rainbow Skywalk, a glass-bottomed platform offering panoramic views of the city. Visit the Observatory Deck for more stunning vistas and capture Instagram-worthy moments. For an extra dose of adventure, try the Jurassic Research Centre or the 4D Adventure.\", \"inventory\": \"{\\\"Type\\\":\\\"activity\\\",\\\"Tags\\\":\\\"\\\",\\\"Title\\\":\\\"the top penang\\\",\\\"Description\\\":\\\"**Activities:**\\\\n\\\\n**TOP BIG 5**\\\\n\\\\n* Rainbow Skywalk\\\\n* Observatory Deck\\\\n* Sky Bridge\\\\n* Jurassic Research Centre\\\\n* 4D Adventure\\\\n\\\\n**TOP SUPER SAVER**\\\\n\\\\n* Rainbow Skywalk\\\\n* Observatory Deck\\\\n* Sky Bridge\\\\n* Jurassic Research Centre\\\\n* 4D Adventure\\\\n* Entopia by Penang Butterfly Farm\\\\n* Penang State Gallery & Museum\\\\n* Zip Zone Adventure Park\\\\n* TeddyVille Museum\\\\n* Upside Down Penang\\\\n* UFO-X\\\\n* Tech Dome\\\\n\\\\n**TOP FAMILY SUPER SAVER**\\\\n\\\\n* Rainbow Skywalk\\\\n* Observatory Deck\\\\n* Sky Bridge\\\\n* Jurassic Research Centre\\\\n* 4D Adventure\\\\n* Entopia by Penang Butterfly Farm\\\\n* Penang State Gallery & Museum\\\\n* Zip Zone Adventure Park\\\\n* TeddyVille Museum\\\\n* Upside Down Penang\\\\n* UFO-X\\\\n* Tech Dome\\\\n* Top Glove Gallery\\\\n\\\\n**Timings:**\\\\n\\\\nNA\\\\n\\\\n**Pricings:**\\\\n\\\\n**TOP BIG 5**\\\\n\\\\n* Adult: RM66\\\\n* Child: RM51\\\\n\\\\n**TOP SUPER SAVER**\\\\n\\\\n* Adult: RM88\\\\n* Child: RM58\\\\n\\\\n**TOP FAMILY SUPER SAVER**\\\\n\\\\n* Adult: RM128\\\\n* Child: RM118\\\\n\\\\n**Contact Information:**\\\\n\\\\n017-289 0366\\\\n\\\\n**Terms and Conditions:**\\\\n\\\\n* Valid until 30th September 2024\\\\n* Excludes Jungle Gym & GP Meta Kart (for TOP SUPER SAVER)\\\\n* Excludes GP Meta Kart (for TOP FAMILY SUPER SAVER)\\\"}\", \"price\": 66}, {\"title\": \"Magic World Penang\", \"text\": \"Step into a world of illusions and wonder at Magic World Penang. Explore a variety of interactive exhibits, from the 3D Upside Down Museum to the 3D Glow Museum. Capture Instagram-worthy moments as you interact with optical illusions and immerse yourselves in magical settings. With its diverse range of attractions, Magic World Penang offers something for everyone.\", \"inventory\": \"{\\\"Type\\\":\\\" entertainment\\\",\\\"Tags\\\":\\\"\\\",\\\"Title\\\":\\\"magic world penang\\\",\\\"Description\\\":\\\"**Magic World Penang**\\\\n\\\\n**Activities:**\\\\n\\\\n* 3D Upside Down Museum\\\\n* 3D Interactive Art Gallery\\\\n* 3D Glow Museum\\\\n* 9D VR Theater\\\\n* Love Lock Bridge\\\\n* Bubble Museum\\\\n* Jurassic Alive Interactive Dinosaur Museum\\\\n* Selfie With Celebrities @ Hologram Museum\\\\n* Dino Park Interactive Dinosaurs\\\\n* Time Travel Interactive Museum\\\\n* Zombie Outbreak Interactive Museum\\\\n* Ice Age Interactive Museum\\\\n* Safari Interactive Museum\\\\n* Marine Life Interactive Museum\\\\n* Egyptian Interactive Museum\\\\n* Glow In The Dark Interactive Museum\\\\n* Space Interactive Museum\\\\n* Miniatures Interactive Museum\\\\n* Dream World Interactive Museum\\\\n* Fun House Interactive Museum\\\\n* Horror House Interactive Museum\\\\n* Ocean Explorer Interactive Museum\\\\n* Rainbow Interactive Museum\\\\n* Upside Down Interactive Museum\\\\n\\\\n**Highlights:**\\\\n\\\\n* Full of mystery and magic\\\\n* Experience Augmented Reality (AR)\\\\n\\\\n**Pricing:**\\\\n\\\\n* NA\\\\n\\\\n**Timings:**\\\\n\\\\n* NA\\\\n\\\\n**Contact Information:**\\\\n\\\\n* +6-04-263 3193\\\\n* +6016-474 9152\\\\n* info.magicworldpg@gmail.com\\\\n\\\\n**Terms and Conditions:**\\\\n\\\\n* NA\\\\n\\\\n**Ice Cafe Penang**\\\\n\\\\n**Activities:**\\\\n\\\\n* Instagrammable cafe with cooling temperature\\\\n* Provides variety of food, drinks, desserts\\\\n\\\\n**Highlights:**\\\\n\\\\n* Cooling temperature\\\\n* Instagrammable\\\\n\\\\n**Pricing:**\\\\n\\\\n* NA\\\\n\\\\n**Timings:**\\\\n\\\\n* Mon - Sun: 10am - 7pm\\\\n* Last admission: 6.30pm\\\\n\\\\n**Contact Information:**\\\\n\\\\n* +6-042-262-1193\\\\n* info.icecafepeg@gmail.com\\\\n* 193 Lebuh Victoria, 10300 Georgetown, Penang\\\\n\\\\n**Terms and Conditions:**\\\\n\\\\n* NA\\\\n\\\\n**Trick Eye Museum Singapore**\\\\n\\\\n**Activities:**\\\\n\\\\n* Trick Eye Gallery\\\\n* 3D Live Art Gallery\\\\n* Hologram Gallery\\\\n* Augmented Reality (AR) Gallery\\\\n* Freezing Experience\\\\n* Love Gallery\\\\n* Safari Kingdom\\\\n* Upside Down Gallery\\\\n* Super Heroes Gallery\\\\n\\\\n**Highlights:**\\\\n\\\\n* Entrance to various interactive galleries with optical illusions and immersive experiences\\\\n\\\\n**Pricing:**\\\\n\\\\n* Adult: $28\\\\n* Child (3-12 years old): $20\\\\n* Senior (60 years old and above): $20\\\\n* Family Package (2 adults, 2 children): $98\\\\n\\\\n**Timings:**\\\\n\\\\n* Daily: 10:00 AM - 9:00 PM\\\\n\\\\n**Contact Information:**\\\\n\\\\n* Address: 7 Raffles Avenue, #01-09 Millenia Walk, Singapore 039802\\\\n* Phone: +65 6338 8887\\\\n* Email: [email protected]\\\\n\\\\n**Website:**\\\\n\\\\n* www.trickeyemuseum.com.sg\\\\n\\\\n**Terms and Conditions:**\\\\n\\\\n* NA\\\"}\", \"price\": 40}], \"day3_summary\": \"\", \"day3_itinerary\": []}, \"pricing\": {\"total_cost\": \"unavailable\", \"per_day_cost\": \"unavailable\", \"per_activity_cost\": \"unavailable\"}}\n",
      "\n"
     ]
    }
   ],
   "source": [
    "itinerary_payload = rag.generate_travel_itinerary(message=   message)"
   ]
  },
  {
   "cell_type": "code",
   "execution_count": 10,
   "metadata": {},
   "outputs": [
    {
     "data": {
      "text/plain": [
       "{'summary': \"Discover the magic of Penang, a foodie paradise with captivating attractions! Indulge in a culinary adventure, savoring diverse flavors from street food stalls to upscale restaurants. Explore enchanting attractions like mystical temples and vibrant street art, each telling a unique story. Immerse yourselves in the island's rich culture and create unforgettable memories.\",\n",
       " 'itinerary': {'day1_summary': \"Welcome to Penang, Malaysia! Your foodie adventure begins with a taste of local delights at the famous hawker stalls. After satisfying your taste buds, prepare to be amazed by the captivating Ghost Museum, where you'll encounter spooky tales and eerie exhibits. End your day with a delightful dinner at De' 8000 Mini Golf Cafe, enjoying a delicious meal followed by a round of mini golf.\",\n",
       "  'day1_itinerary': [{'title': 'Penang Hawker Stalls',\n",
       "    'text': \"Embark on a culinary journey through Penang's vibrant hawker scene. Explore bustling street stalls and immerse yourselves in a symphony of aromas and flavors. From savory Char Koay Teow to spicy Assam Laksa, each dish is a testament to Penang's rich culinary heritage. Indulge in local favorites like Nasi Kandar and savor the unique blend of spices that tantalize your taste buds.\",\n",
       "    'inventory': 'unavailable',\n",
       "    'price': 20},\n",
       "   {'title': 'Ghost Museum',\n",
       "    'text': \"Prepare for a spine-chilling adventure at the Ghost Museum, where spooky tales and eerie exhibits await. Step into a world of haunted lore as you encounter ghosts from around the world. Explore the museum's three floors, each with its own theme, and learn about the history and folklore behind these supernatural beings. With realistic scenes and immersive experiences, the Ghost Museum is sure to leave you with goosebumps.\",\n",
       "    'inventory': '{\"Type\":\"activity\",\"Tags\":\"\",\"Title\":\"ghost museum\",\"Description\":\"**Activities Description:**\\\\n\\\\n* **Ghost Museum:** Explore a 3-storey museum featuring ghosts from around the world.\\\\n* **Zombie Attack:** Experience the thrill of a zombie attack (specifics not provided).\\\\n* **Witch House:** Enter a haunted witch\\'s dwelling.\\\\n* **Halloween:** Immerse yourself in a Halloween-themed exhibit.\\\\n* **Japan:** Learn about Japanese ghosts.\\\\n* **Dracula:** Encounter the legendary vampire.\\\\n* **Pirate:** Witness the horrors of pirate hauntings.\\\\n* **Malaysia:** Discover local ghost stories.\\\\n* **China:** Explore Chinese ghost folklore.\\\\n* **Egypt:** Uncover ancient Egyptian spirits.\\\\n\\\\n**Highlights:**\\\\n\\\\n* Free costumes and props for photo opportunities.\\\\n* Free guided tours.\\\\n* Realistic scenes for an immersive experience.\\\\n* Educational journey into the history of ghosts.\\\\n\\\\n**Timings:**\\\\n\\\\n* Open Daily (10am - 7pm)\\\\n* Last Admission: 6.30pm\\\\n\\\\n**Pricings:**\\\\n\\\\n* Adult: RM18\\\\n* Child\\\\/OKU: RM12\\\\n* Student: RM15 (not specified if this includes OKU)\\\\n* Senior Citizen: RM12\\\\n* Child (under 12): RM10\\\\n* Combo Ticket (any 3 attractions): RM45\\\\n\\\\n**Contact Information:**\\\\n\\\\n* Address: 57, Lebuh Melayu, 10100 Georgetown, Pulau Pinang\\\\n* Tel: 04 - 261 2352\\\\n* Email: [email protected]\\\\n* Website: www.coolghostmuseum.com\\\\n* Social Media: @Ghost Museum Penang (Facebook and Instagram)\\\\n\\\\n**Terms and Conditions:**\\\\n\\\\n* Adult ticket includes 1 free beverage.\\\\n* Offer cannot be combined with other promotions.\"}',\n",
       "    'price': 18},\n",
       "   {'title': \"De' 8000 Mini Golf Cafe\",\n",
       "    'text': \"End your day with a unique dining and entertainment experience at De' 8000 Mini Golf Cafe. Indulge in a delightful meal from their halal menu, offering a variety of local and international dishes. Afterward, challenge yourselves to a round of mini golf on their 18-hole course. With various obstacles and challenges, it's the perfect way to unwind and have some fun after a day of exploring.\",\n",
       "    'inventory': '{\"Type\":\" dining, activity\",\"Tags\":\"\",\"Title\":\"de\\' 8000 mini golf cafe\",\"Description\":\"**Activities Descriptions and Highlights:**\\\\n\\\\n* 18-hole mini golf course with various obstacles\\\\n* Cafe offering halal food and groceries\\\\n* Groceria with various items\\\\n* Corporate team building activities\\\\n* Par-tee time for group fun\\\\n* Mini golf challenge for friendly competition\\\\n\\\\n**Timings:**\\\\n\\\\n* Monday - Sunday: 11:00am - 10:00pm\\\\n* Cafe: Daily 10:00am - 10:00pm (last order for dine-in at 9:30pm)\\\\n\\\\n**Pricings:**\\\\n\\\\n* Not provided in the text\\\\n\\\\n**Contact Information:**\\\\n\\\\n* Email: de8000minigolfcafe@gmail.com\\\\n* Phone: 012-555 8000\\\\n* Location: No. 8, Jalan Dr. Lim Chwee Leong, 11600 Jelutong, Penang\\\\n* Website: NA\\\\n* Social Media:\\\\n    * Facebook: D8 - De\\' 8000\\\\n    * Instagram: de_8000_\\\\n\\\\n**Terms and Conditions:**\\\\n\\\\n* Pay one price for access with no time limit for playing\\\\n* Contact the counter for information on gold membership benefits\"}',\n",
       "    'price': 40}],\n",
       "  'day2_summary': \"Your second day in Penang is all about reaching new heights and exploring the island's magical side. Start your day with an exhilarating experience at The Top Penang, where you'll enjoy breathtaking views from the Rainbow Skywalk. Afterward, immerse yourselves in a world of illusions and wonder at Magic World Penang, capturing Instagram-worthy moments. Conclude your culinary journey with a delightful dinner at another one of Penang's renowned hawker centers.\",\n",
       "  'day2_itinerary': [{'title': 'The Top Penang',\n",
       "    'text': 'Soar to new heights at The Top Penang, home to a variety of exciting attractions. Experience the thrill of walking on the Rainbow Skywalk, a glass-bottomed platform offering panoramic views of the city. Visit the Observatory Deck for more stunning vistas and capture Instagram-worthy moments. For an extra dose of adventure, try the Jurassic Research Centre or the 4D Adventure.',\n",
       "    'inventory': '{\"Type\":\"activity\",\"Tags\":\"\",\"Title\":\"the top penang\",\"Description\":\"**Activities:**\\\\n\\\\n**TOP BIG 5**\\\\n\\\\n* Rainbow Skywalk\\\\n* Observatory Deck\\\\n* Sky Bridge\\\\n* Jurassic Research Centre\\\\n* 4D Adventure\\\\n\\\\n**TOP SUPER SAVER**\\\\n\\\\n* Rainbow Skywalk\\\\n* Observatory Deck\\\\n* Sky Bridge\\\\n* Jurassic Research Centre\\\\n* 4D Adventure\\\\n* Entopia by Penang Butterfly Farm\\\\n* Penang State Gallery & Museum\\\\n* Zip Zone Adventure Park\\\\n* TeddyVille Museum\\\\n* Upside Down Penang\\\\n* UFO-X\\\\n* Tech Dome\\\\n\\\\n**TOP FAMILY SUPER SAVER**\\\\n\\\\n* Rainbow Skywalk\\\\n* Observatory Deck\\\\n* Sky Bridge\\\\n* Jurassic Research Centre\\\\n* 4D Adventure\\\\n* Entopia by Penang Butterfly Farm\\\\n* Penang State Gallery & Museum\\\\n* Zip Zone Adventure Park\\\\n* TeddyVille Museum\\\\n* Upside Down Penang\\\\n* UFO-X\\\\n* Tech Dome\\\\n* Top Glove Gallery\\\\n\\\\n**Timings:**\\\\n\\\\nNA\\\\n\\\\n**Pricings:**\\\\n\\\\n**TOP BIG 5**\\\\n\\\\n* Adult: RM66\\\\n* Child: RM51\\\\n\\\\n**TOP SUPER SAVER**\\\\n\\\\n* Adult: RM88\\\\n* Child: RM58\\\\n\\\\n**TOP FAMILY SUPER SAVER**\\\\n\\\\n* Adult: RM128\\\\n* Child: RM118\\\\n\\\\n**Contact Information:**\\\\n\\\\n017-289 0366\\\\n\\\\n**Terms and Conditions:**\\\\n\\\\n* Valid until 30th September 2024\\\\n* Excludes Jungle Gym & GP Meta Kart (for TOP SUPER SAVER)\\\\n* Excludes GP Meta Kart (for TOP FAMILY SUPER SAVER)\"}',\n",
       "    'price': 66},\n",
       "   {'title': 'Magic World Penang',\n",
       "    'text': 'Step into a world of illusions and wonder at Magic World Penang. Explore a variety of interactive exhibits, from the 3D Upside Down Museum to the 3D Glow Museum. Capture Instagram-worthy moments as you interact with optical illusions and immerse yourselves in magical settings. With its diverse range of attractions, Magic World Penang offers something for everyone.',\n",
       "    'inventory': '{\"Type\":\" entertainment\",\"Tags\":\"\",\"Title\":\"magic world penang\",\"Description\":\"**Magic World Penang**\\\\n\\\\n**Activities:**\\\\n\\\\n* 3D Upside Down Museum\\\\n* 3D Interactive Art Gallery\\\\n* 3D Glow Museum\\\\n* 9D VR Theater\\\\n* Love Lock Bridge\\\\n* Bubble Museum\\\\n* Jurassic Alive Interactive Dinosaur Museum\\\\n* Selfie With Celebrities @ Hologram Museum\\\\n* Dino Park Interactive Dinosaurs\\\\n* Time Travel Interactive Museum\\\\n* Zombie Outbreak Interactive Museum\\\\n* Ice Age Interactive Museum\\\\n* Safari Interactive Museum\\\\n* Marine Life Interactive Museum\\\\n* Egyptian Interactive Museum\\\\n* Glow In The Dark Interactive Museum\\\\n* Space Interactive Museum\\\\n* Miniatures Interactive Museum\\\\n* Dream World Interactive Museum\\\\n* Fun House Interactive Museum\\\\n* Horror House Interactive Museum\\\\n* Ocean Explorer Interactive Museum\\\\n* Rainbow Interactive Museum\\\\n* Upside Down Interactive Museum\\\\n\\\\n**Highlights:**\\\\n\\\\n* Full of mystery and magic\\\\n* Experience Augmented Reality (AR)\\\\n\\\\n**Pricing:**\\\\n\\\\n* NA\\\\n\\\\n**Timings:**\\\\n\\\\n* NA\\\\n\\\\n**Contact Information:**\\\\n\\\\n* +6-04-263 3193\\\\n* +6016-474 9152\\\\n* info.magicworldpg@gmail.com\\\\n\\\\n**Terms and Conditions:**\\\\n\\\\n* NA\\\\n\\\\n**Ice Cafe Penang**\\\\n\\\\n**Activities:**\\\\n\\\\n* Instagrammable cafe with cooling temperature\\\\n* Provides variety of food, drinks, desserts\\\\n\\\\n**Highlights:**\\\\n\\\\n* Cooling temperature\\\\n* Instagrammable\\\\n\\\\n**Pricing:**\\\\n\\\\n* NA\\\\n\\\\n**Timings:**\\\\n\\\\n* Mon - Sun: 10am - 7pm\\\\n* Last admission: 6.30pm\\\\n\\\\n**Contact Information:**\\\\n\\\\n* +6-042-262-1193\\\\n* info.icecafepeg@gmail.com\\\\n* 193 Lebuh Victoria, 10300 Georgetown, Penang\\\\n\\\\n**Terms and Conditions:**\\\\n\\\\n* NA\\\\n\\\\n**Trick Eye Museum Singapore**\\\\n\\\\n**Activities:**\\\\n\\\\n* Trick Eye Gallery\\\\n* 3D Live Art Gallery\\\\n* Hologram Gallery\\\\n* Augmented Reality (AR) Gallery\\\\n* Freezing Experience\\\\n* Love Gallery\\\\n* Safari Kingdom\\\\n* Upside Down Gallery\\\\n* Super Heroes Gallery\\\\n\\\\n**Highlights:**\\\\n\\\\n* Entrance to various interactive galleries with optical illusions and immersive experiences\\\\n\\\\n**Pricing:**\\\\n\\\\n* Adult: $28\\\\n* Child (3-12 years old): $20\\\\n* Senior (60 years old and above): $20\\\\n* Family Package (2 adults, 2 children): $98\\\\n\\\\n**Timings:**\\\\n\\\\n* Daily: 10:00 AM - 9:00 PM\\\\n\\\\n**Contact Information:**\\\\n\\\\n* Address: 7 Raffles Avenue, #01-09 Millenia Walk, Singapore 039802\\\\n* Phone: +65 6338 8887\\\\n* Email: [email protected]\\\\n\\\\n**Website:**\\\\n\\\\n* www.trickeyemuseum.com.sg\\\\n\\\\n**Terms and Conditions:**\\\\n\\\\n* NA\"}',\n",
       "    'price': 40}],\n",
       "  'day3_summary': '',\n",
       "  'day3_itinerary': []},\n",
       " 'pricing': {'total_cost': 'unavailable',\n",
       "  'per_day_cost': 'unavailable',\n",
       "  'per_activity_cost': 'unavailable'}}"
      ]
     },
     "execution_count": 10,
     "metadata": {},
     "output_type": "execute_result"
    }
   ],
   "source": [
    "import json\n",
    "output = json.loads(itinerary_payload[\"response\"].text)\n",
    "output"
   ]
  },
  {
   "cell_type": "code",
   "execution_count": 5,
   "metadata": {},
   "outputs": [
    {
     "name": "stdout",
     "output_type": "stream",
     "text": [
      "input token: total_tokens: 4346\n",
      "\n",
      "response token: total_tokens: 1886\n",
      "\n"
     ]
    }
   ],
   "source": [
    "# count number of tokens:\n",
    "print(f\"input token: {rag.model.count_tokens(itinerary[\"prompt\"])}\")\n",
    "print(f\"response token: {rag.model.count_tokens(itinerary[\"response\"].text)}\")"
   ]
  },
  {
   "cell_type": "markdown",
   "metadata": {},
   "source": [
    "# Bearer token"
   ]
  },
  {
   "cell_type": "code",
   "execution_count": 7,
   "metadata": {},
   "outputs": [
    {
     "name": "stdout",
     "output_type": "stream",
     "text": [
      "Collecting PyJWT\n",
      "  Downloading PyJWT-2.8.0-py3-none-any.whl.metadata (4.2 kB)\n",
      "Downloading PyJWT-2.8.0-py3-none-any.whl (22 kB)\n",
      "Installing collected packages: PyJWT\n",
      "Successfully installed PyJWT-2.8.0\n",
      "Note: you may need to restart the kernel to use updated packages.\n"
     ]
    }
   ],
   "source": [
    "pip install PyJWT\n"
   ]
  },
  {
   "cell_type": "code",
   "execution_count": 1,
   "metadata": {},
   "outputs": [],
   "source": [
    "import jwt\n",
    "\n",
    "def generate_token():\n",
    "    payload = {\"user_id\": 123}  # Customize this payload as needed\n",
    "    secret_key = \"your-secret-key\"  # Replace with your actual secret key\n",
    "    token = jwt.encode(payload, secret_key, algorithm=\"HS256\")\n",
    "    return token\n"
   ]
  },
  {
   "cell_type": "code",
   "execution_count": null,
   "metadata": {},
   "outputs": [],
   "source": []
  },
  {
   "cell_type": "markdown",
   "metadata": {},
   "source": []
  }
 ],
 "metadata": {
  "kernelspec": {
   "display_name": ".venv",
   "language": "python",
   "name": "python3"
  },
  "language_info": {
   "codemirror_mode": {
    "name": "ipython",
    "version": 3
   },
   "file_extension": ".py",
   "mimetype": "text/x-python",
   "name": "python",
   "nbconvert_exporter": "python",
   "pygments_lexer": "ipython3",
   "version": "3.12.2"
  }
 },
 "nbformat": 4,
 "nbformat_minor": 2
}
