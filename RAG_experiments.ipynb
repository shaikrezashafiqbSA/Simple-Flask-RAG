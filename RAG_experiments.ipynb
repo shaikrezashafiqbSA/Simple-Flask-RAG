{
 "cells": [
  {
   "cell_type": "code",
   "execution_count": 13,
   "metadata": {},
   "outputs": [
    {
     "name": "stdout",
     "output_type": "stream",
     "text": [
      "models/gemini-1.0-pro\n",
      "models/gemini-1.0-pro-001\n",
      "models/gemini-1.0-pro-latest\n",
      "models/gemini-1.0-pro-vision-latest\n",
      "models/gemini-1.5-flash-001\n",
      "models/gemini-1.5-flash-latest\n",
      "models/gemini-1.5-pro-001\n",
      "models/gemini-1.5-pro-latest\n",
      "models/gemini-pro\n",
      "models/gemini-pro-vision\n"
     ]
    },
    {
     "data": {
      "text/plain": [
       "total_tokens: 10"
      ]
     },
     "execution_count": 13,
     "metadata": {},
     "output_type": "execute_result"
    }
   ],
   "source": [
    "from settings import GEMINI_API_KEY\n",
    "import google.generativeai as genai\n",
    "genai.configure(api_key = GEMINI_API_KEY)\n",
    "\n",
    "for m in genai.list_models():\n",
    "    if 'generateContent' in m.supported_generation_methods:\n",
    "        print(m.name)\n",
    "\n",
    "model = genai.GenerativeModel('models/gemini-1.0-pro-latest')\n",
    "model.count_tokens(\"The quick brown fox jumps over the lazy dog.\")\n"
   ]
  },
  {
   "cell_type": "code",
   "execution_count": 12,
   "metadata": {},
   "outputs": [
    {
     "ename": "NotFound",
     "evalue": "404 models/text-embedding-001 is not found for API version v1beta, or is not supported for embedContent. Call ListModels to see the list of available models and their supported methods.",
     "output_type": "error",
     "traceback": [
      "\u001b[1;31m---------------------------------------------------------------------------\u001b[0m",
      "\u001b[1;31mNotFound\u001b[0m                                  Traceback (most recent call last)",
      "Cell \u001b[1;32mIn[12], line 3\u001b[0m\n\u001b[0;32m      1\u001b[0m text\u001b[38;5;241m=\u001b[39m \u001b[38;5;124m\"\u001b[39m\u001b[38;5;124mtestsetsetset\u001b[39m\u001b[38;5;124m\"\u001b[39m\n\u001b[0;32m      2\u001b[0m title \u001b[38;5;241m=\u001b[39m \u001b[38;5;124m\"\u001b[39m\u001b[38;5;124mtest\u001b[39m\u001b[38;5;124m\"\u001b[39m\n\u001b[1;32m----> 3\u001b[0m test \u001b[38;5;241m=\u001b[39m \u001b[43mgenai\u001b[49m\u001b[38;5;241;43m.\u001b[39;49m\u001b[43membed_content\u001b[49m\u001b[43m(\u001b[49m\u001b[43mmodel\u001b[49m\u001b[38;5;241;43m=\u001b[39;49m\u001b[38;5;124;43m'\u001b[39;49m\u001b[38;5;124;43mmodels/text-embedding-001\u001b[39;49m\u001b[38;5;124;43m'\u001b[39;49m\u001b[43m,\u001b[49m\u001b[43m \u001b[49m\n\u001b[0;32m      4\u001b[0m \u001b[43m                    \u001b[49m\u001b[43mcontent\u001b[49m\u001b[38;5;241;43m=\u001b[39;49m\u001b[43mtext\u001b[49m\u001b[43m,\u001b[49m\n\u001b[0;32m      5\u001b[0m \u001b[43m                    \u001b[49m\u001b[43mtask_type\u001b[49m\u001b[43m \u001b[49m\u001b[38;5;241;43m=\u001b[39;49m\u001b[43m \u001b[49m\u001b[38;5;124;43m\"\u001b[39;49m\u001b[38;5;124;43mretrieval_document\u001b[39;49m\u001b[38;5;124;43m\"\u001b[39;49m\u001b[43m,\u001b[49m\n\u001b[0;32m      6\u001b[0m \u001b[43m                    \u001b[49m\u001b[43mtitle\u001b[49m\u001b[43m \u001b[49m\u001b[38;5;241;43m=\u001b[39;49m\u001b[43m \u001b[49m\u001b[43mtitle\u001b[49m\u001b[43m)\u001b[49m\n",
      "File \u001b[1;32md:\\PycharmProjects\\smart-travels\\.venv\\Lib\\site-packages\\google\\generativeai\\embedding.py:182\u001b[0m, in \u001b[0;36membed_content\u001b[1;34m(model, content, task_type, title, client, request_options)\u001b[0m\n\u001b[0;32m    178\u001b[0m \u001b[38;5;28;01melse\u001b[39;00m:\n\u001b[0;32m    179\u001b[0m     embedding_request \u001b[38;5;241m=\u001b[39m glm\u001b[38;5;241m.\u001b[39mEmbedContentRequest(\n\u001b[0;32m    180\u001b[0m         model\u001b[38;5;241m=\u001b[39mmodel, content\u001b[38;5;241m=\u001b[39mcontent_types\u001b[38;5;241m.\u001b[39mto_content(content), task_type\u001b[38;5;241m=\u001b[39mtask_type, title\u001b[38;5;241m=\u001b[39mtitle\n\u001b[0;32m    181\u001b[0m     )\n\u001b[1;32m--> 182\u001b[0m     embedding_response \u001b[38;5;241m=\u001b[39m \u001b[43mclient\u001b[49m\u001b[38;5;241;43m.\u001b[39;49m\u001b[43membed_content\u001b[49m\u001b[43m(\u001b[49m\n\u001b[0;32m    183\u001b[0m \u001b[43m        \u001b[49m\u001b[43membedding_request\u001b[49m\u001b[43m,\u001b[49m\n\u001b[0;32m    184\u001b[0m \u001b[43m        \u001b[49m\u001b[38;5;241;43m*\u001b[39;49m\u001b[38;5;241;43m*\u001b[39;49m\u001b[43mrequest_options\u001b[49m\u001b[43m,\u001b[49m\n\u001b[0;32m    185\u001b[0m \u001b[43m    \u001b[49m\u001b[43m)\u001b[49m\n\u001b[0;32m    186\u001b[0m     embedding_dict \u001b[38;5;241m=\u001b[39m \u001b[38;5;28mtype\u001b[39m(embedding_response)\u001b[38;5;241m.\u001b[39mto_dict(embedding_response)\n\u001b[0;32m    187\u001b[0m     embedding_dict[\u001b[38;5;124m\"\u001b[39m\u001b[38;5;124membedding\u001b[39m\u001b[38;5;124m\"\u001b[39m] \u001b[38;5;241m=\u001b[39m embedding_dict[\u001b[38;5;124m\"\u001b[39m\u001b[38;5;124membedding\u001b[39m\u001b[38;5;124m\"\u001b[39m][\u001b[38;5;124m\"\u001b[39m\u001b[38;5;124mvalues\u001b[39m\u001b[38;5;124m\"\u001b[39m]\n",
      "File \u001b[1;32md:\\PycharmProjects\\smart-travels\\.venv\\Lib\\site-packages\\google\\ai\\generativelanguage_v1beta\\services\\generative_service\\client.py:1209\u001b[0m, in \u001b[0;36mGenerativeServiceClient.embed_content\u001b[1;34m(self, request, model, content, retry, timeout, metadata)\u001b[0m\n\u001b[0;32m   1206\u001b[0m \u001b[38;5;28mself\u001b[39m\u001b[38;5;241m.\u001b[39m_validate_universe_domain()\n\u001b[0;32m   1208\u001b[0m \u001b[38;5;66;03m# Send the request.\u001b[39;00m\n\u001b[1;32m-> 1209\u001b[0m response \u001b[38;5;241m=\u001b[39m \u001b[43mrpc\u001b[49m\u001b[43m(\u001b[49m\n\u001b[0;32m   1210\u001b[0m \u001b[43m    \u001b[49m\u001b[43mrequest\u001b[49m\u001b[43m,\u001b[49m\n\u001b[0;32m   1211\u001b[0m \u001b[43m    \u001b[49m\u001b[43mretry\u001b[49m\u001b[38;5;241;43m=\u001b[39;49m\u001b[43mretry\u001b[49m\u001b[43m,\u001b[49m\n\u001b[0;32m   1212\u001b[0m \u001b[43m    \u001b[49m\u001b[43mtimeout\u001b[49m\u001b[38;5;241;43m=\u001b[39;49m\u001b[43mtimeout\u001b[49m\u001b[43m,\u001b[49m\n\u001b[0;32m   1213\u001b[0m \u001b[43m    \u001b[49m\u001b[43mmetadata\u001b[49m\u001b[38;5;241;43m=\u001b[39;49m\u001b[43mmetadata\u001b[49m\u001b[43m,\u001b[49m\n\u001b[0;32m   1214\u001b[0m \u001b[43m\u001b[49m\u001b[43m)\u001b[49m\n\u001b[0;32m   1216\u001b[0m \u001b[38;5;66;03m# Done; return the response.\u001b[39;00m\n\u001b[0;32m   1217\u001b[0m \u001b[38;5;28;01mreturn\u001b[39;00m response\n",
      "File \u001b[1;32md:\\PycharmProjects\\smart-travels\\.venv\\Lib\\site-packages\\google\\api_core\\gapic_v1\\method.py:131\u001b[0m, in \u001b[0;36m_GapicCallable.__call__\u001b[1;34m(self, timeout, retry, compression, *args, **kwargs)\u001b[0m\n\u001b[0;32m    128\u001b[0m \u001b[38;5;28;01mif\u001b[39;00m \u001b[38;5;28mself\u001b[39m\u001b[38;5;241m.\u001b[39m_compression \u001b[38;5;129;01mis\u001b[39;00m \u001b[38;5;129;01mnot\u001b[39;00m \u001b[38;5;28;01mNone\u001b[39;00m:\n\u001b[0;32m    129\u001b[0m     kwargs[\u001b[38;5;124m\"\u001b[39m\u001b[38;5;124mcompression\u001b[39m\u001b[38;5;124m\"\u001b[39m] \u001b[38;5;241m=\u001b[39m compression\n\u001b[1;32m--> 131\u001b[0m \u001b[38;5;28;01mreturn\u001b[39;00m \u001b[43mwrapped_func\u001b[49m\u001b[43m(\u001b[49m\u001b[38;5;241;43m*\u001b[39;49m\u001b[43margs\u001b[49m\u001b[43m,\u001b[49m\u001b[43m \u001b[49m\u001b[38;5;241;43m*\u001b[39;49m\u001b[38;5;241;43m*\u001b[39;49m\u001b[43mkwargs\u001b[49m\u001b[43m)\u001b[49m\n",
      "File \u001b[1;32md:\\PycharmProjects\\smart-travels\\.venv\\Lib\\site-packages\\google\\api_core\\retry\\retry_unary.py:293\u001b[0m, in \u001b[0;36mRetry.__call__.<locals>.retry_wrapped_func\u001b[1;34m(*args, **kwargs)\u001b[0m\n\u001b[0;32m    289\u001b[0m target \u001b[38;5;241m=\u001b[39m functools\u001b[38;5;241m.\u001b[39mpartial(func, \u001b[38;5;241m*\u001b[39margs, \u001b[38;5;241m*\u001b[39m\u001b[38;5;241m*\u001b[39mkwargs)\n\u001b[0;32m    290\u001b[0m sleep_generator \u001b[38;5;241m=\u001b[39m exponential_sleep_generator(\n\u001b[0;32m    291\u001b[0m     \u001b[38;5;28mself\u001b[39m\u001b[38;5;241m.\u001b[39m_initial, \u001b[38;5;28mself\u001b[39m\u001b[38;5;241m.\u001b[39m_maximum, multiplier\u001b[38;5;241m=\u001b[39m\u001b[38;5;28mself\u001b[39m\u001b[38;5;241m.\u001b[39m_multiplier\n\u001b[0;32m    292\u001b[0m )\n\u001b[1;32m--> 293\u001b[0m \u001b[38;5;28;01mreturn\u001b[39;00m \u001b[43mretry_target\u001b[49m\u001b[43m(\u001b[49m\n\u001b[0;32m    294\u001b[0m \u001b[43m    \u001b[49m\u001b[43mtarget\u001b[49m\u001b[43m,\u001b[49m\n\u001b[0;32m    295\u001b[0m \u001b[43m    \u001b[49m\u001b[38;5;28;43mself\u001b[39;49m\u001b[38;5;241;43m.\u001b[39;49m\u001b[43m_predicate\u001b[49m\u001b[43m,\u001b[49m\n\u001b[0;32m    296\u001b[0m \u001b[43m    \u001b[49m\u001b[43msleep_generator\u001b[49m\u001b[43m,\u001b[49m\n\u001b[0;32m    297\u001b[0m \u001b[43m    \u001b[49m\u001b[43mtimeout\u001b[49m\u001b[38;5;241;43m=\u001b[39;49m\u001b[38;5;28;43mself\u001b[39;49m\u001b[38;5;241;43m.\u001b[39;49m\u001b[43m_timeout\u001b[49m\u001b[43m,\u001b[49m\n\u001b[0;32m    298\u001b[0m \u001b[43m    \u001b[49m\u001b[43mon_error\u001b[49m\u001b[38;5;241;43m=\u001b[39;49m\u001b[43mon_error\u001b[49m\u001b[43m,\u001b[49m\n\u001b[0;32m    299\u001b[0m \u001b[43m\u001b[49m\u001b[43m)\u001b[49m\n",
      "File \u001b[1;32md:\\PycharmProjects\\smart-travels\\.venv\\Lib\\site-packages\\google\\api_core\\retry\\retry_unary.py:153\u001b[0m, in \u001b[0;36mretry_target\u001b[1;34m(target, predicate, sleep_generator, timeout, on_error, exception_factory, **kwargs)\u001b[0m\n\u001b[0;32m    149\u001b[0m \u001b[38;5;66;03m# pylint: disable=broad-except\u001b[39;00m\n\u001b[0;32m    150\u001b[0m \u001b[38;5;66;03m# This function explicitly must deal with broad exceptions.\u001b[39;00m\n\u001b[0;32m    151\u001b[0m \u001b[38;5;28;01mexcept\u001b[39;00m \u001b[38;5;167;01mException\u001b[39;00m \u001b[38;5;28;01mas\u001b[39;00m exc:\n\u001b[0;32m    152\u001b[0m     \u001b[38;5;66;03m# defer to shared logic for handling errors\u001b[39;00m\n\u001b[1;32m--> 153\u001b[0m     \u001b[43m_retry_error_helper\u001b[49m\u001b[43m(\u001b[49m\n\u001b[0;32m    154\u001b[0m \u001b[43m        \u001b[49m\u001b[43mexc\u001b[49m\u001b[43m,\u001b[49m\n\u001b[0;32m    155\u001b[0m \u001b[43m        \u001b[49m\u001b[43mdeadline\u001b[49m\u001b[43m,\u001b[49m\n\u001b[0;32m    156\u001b[0m \u001b[43m        \u001b[49m\u001b[43msleep\u001b[49m\u001b[43m,\u001b[49m\n\u001b[0;32m    157\u001b[0m \u001b[43m        \u001b[49m\u001b[43merror_list\u001b[49m\u001b[43m,\u001b[49m\n\u001b[0;32m    158\u001b[0m \u001b[43m        \u001b[49m\u001b[43mpredicate\u001b[49m\u001b[43m,\u001b[49m\n\u001b[0;32m    159\u001b[0m \u001b[43m        \u001b[49m\u001b[43mon_error\u001b[49m\u001b[43m,\u001b[49m\n\u001b[0;32m    160\u001b[0m \u001b[43m        \u001b[49m\u001b[43mexception_factory\u001b[49m\u001b[43m,\u001b[49m\n\u001b[0;32m    161\u001b[0m \u001b[43m        \u001b[49m\u001b[43mtimeout\u001b[49m\u001b[43m,\u001b[49m\n\u001b[0;32m    162\u001b[0m \u001b[43m    \u001b[49m\u001b[43m)\u001b[49m\n\u001b[0;32m    163\u001b[0m     \u001b[38;5;66;03m# if exception not raised, sleep before next attempt\u001b[39;00m\n\u001b[0;32m    164\u001b[0m     time\u001b[38;5;241m.\u001b[39msleep(sleep)\n",
      "File \u001b[1;32md:\\PycharmProjects\\smart-travels\\.venv\\Lib\\site-packages\\google\\api_core\\retry\\retry_base.py:212\u001b[0m, in \u001b[0;36m_retry_error_helper\u001b[1;34m(exc, deadline, next_sleep, error_list, predicate_fn, on_error_fn, exc_factory_fn, original_timeout)\u001b[0m\n\u001b[0;32m    206\u001b[0m \u001b[38;5;28;01mif\u001b[39;00m \u001b[38;5;129;01mnot\u001b[39;00m predicate_fn(exc):\n\u001b[0;32m    207\u001b[0m     final_exc, source_exc \u001b[38;5;241m=\u001b[39m exc_factory_fn(\n\u001b[0;32m    208\u001b[0m         error_list,\n\u001b[0;32m    209\u001b[0m         RetryFailureReason\u001b[38;5;241m.\u001b[39mNON_RETRYABLE_ERROR,\n\u001b[0;32m    210\u001b[0m         original_timeout,\n\u001b[0;32m    211\u001b[0m     )\n\u001b[1;32m--> 212\u001b[0m     \u001b[38;5;28;01mraise\u001b[39;00m final_exc \u001b[38;5;28;01mfrom\u001b[39;00m \u001b[38;5;21;01msource_exc\u001b[39;00m\n\u001b[0;32m    213\u001b[0m \u001b[38;5;28;01mif\u001b[39;00m on_error_fn \u001b[38;5;129;01mis\u001b[39;00m \u001b[38;5;129;01mnot\u001b[39;00m \u001b[38;5;28;01mNone\u001b[39;00m:\n\u001b[0;32m    214\u001b[0m     on_error_fn(exc)\n",
      "File \u001b[1;32md:\\PycharmProjects\\smart-travels\\.venv\\Lib\\site-packages\\google\\api_core\\retry\\retry_unary.py:144\u001b[0m, in \u001b[0;36mretry_target\u001b[1;34m(target, predicate, sleep_generator, timeout, on_error, exception_factory, **kwargs)\u001b[0m\n\u001b[0;32m    142\u001b[0m \u001b[38;5;28;01mfor\u001b[39;00m sleep \u001b[38;5;129;01min\u001b[39;00m sleep_generator:\n\u001b[0;32m    143\u001b[0m     \u001b[38;5;28;01mtry\u001b[39;00m:\n\u001b[1;32m--> 144\u001b[0m         result \u001b[38;5;241m=\u001b[39m \u001b[43mtarget\u001b[49m\u001b[43m(\u001b[49m\u001b[43m)\u001b[49m\n\u001b[0;32m    145\u001b[0m         \u001b[38;5;28;01mif\u001b[39;00m inspect\u001b[38;5;241m.\u001b[39misawaitable(result):\n\u001b[0;32m    146\u001b[0m             warnings\u001b[38;5;241m.\u001b[39mwarn(_ASYNC_RETRY_WARNING)\n",
      "File \u001b[1;32md:\\PycharmProjects\\smart-travels\\.venv\\Lib\\site-packages\\google\\api_core\\timeout.py:120\u001b[0m, in \u001b[0;36mTimeToDeadlineTimeout.__call__.<locals>.func_with_timeout\u001b[1;34m(*args, **kwargs)\u001b[0m\n\u001b[0;32m    117\u001b[0m     \u001b[38;5;66;03m# Avoid setting negative timeout\u001b[39;00m\n\u001b[0;32m    118\u001b[0m     kwargs[\u001b[38;5;124m\"\u001b[39m\u001b[38;5;124mtimeout\u001b[39m\u001b[38;5;124m\"\u001b[39m] \u001b[38;5;241m=\u001b[39m \u001b[38;5;28mmax\u001b[39m(\u001b[38;5;241m0\u001b[39m, \u001b[38;5;28mself\u001b[39m\u001b[38;5;241m.\u001b[39m_timeout \u001b[38;5;241m-\u001b[39m time_since_first_attempt)\n\u001b[1;32m--> 120\u001b[0m \u001b[38;5;28;01mreturn\u001b[39;00m \u001b[43mfunc\u001b[49m\u001b[43m(\u001b[49m\u001b[38;5;241;43m*\u001b[39;49m\u001b[43margs\u001b[49m\u001b[43m,\u001b[49m\u001b[43m \u001b[49m\u001b[38;5;241;43m*\u001b[39;49m\u001b[38;5;241;43m*\u001b[39;49m\u001b[43mkwargs\u001b[49m\u001b[43m)\u001b[49m\n",
      "File \u001b[1;32md:\\PycharmProjects\\smart-travels\\.venv\\Lib\\site-packages\\google\\api_core\\grpc_helpers.py:78\u001b[0m, in \u001b[0;36m_wrap_unary_errors.<locals>.error_remapped_callable\u001b[1;34m(*args, **kwargs)\u001b[0m\n\u001b[0;32m     76\u001b[0m     \u001b[38;5;28;01mreturn\u001b[39;00m callable_(\u001b[38;5;241m*\u001b[39margs, \u001b[38;5;241m*\u001b[39m\u001b[38;5;241m*\u001b[39mkwargs)\n\u001b[0;32m     77\u001b[0m \u001b[38;5;28;01mexcept\u001b[39;00m grpc\u001b[38;5;241m.\u001b[39mRpcError \u001b[38;5;28;01mas\u001b[39;00m exc:\n\u001b[1;32m---> 78\u001b[0m     \u001b[38;5;28;01mraise\u001b[39;00m exceptions\u001b[38;5;241m.\u001b[39mfrom_grpc_error(exc) \u001b[38;5;28;01mfrom\u001b[39;00m \u001b[38;5;21;01mexc\u001b[39;00m\n",
      "\u001b[1;31mNotFound\u001b[0m: 404 models/text-embedding-001 is not found for API version v1beta, or is not supported for embedContent. Call ListModels to see the list of available models and their supported methods."
     ]
    }
   ],
   "source": [
    "text= \"testsetsetset\"\n",
    "title = \"test\"\n",
    "test = genai.embed_content(model='models/text-embedding-004', \n",
    "                    content=text,\n",
    "                    task_type = \"retrieval_document\",\n",
    "                    title = title)"
   ]
  },
  {
   "cell_type": "markdown",
   "metadata": {},
   "source": [
    "# 1) RAG outline:\n"
   ]
  },
  {
   "cell_type": "code",
   "execution_count": null,
   "metadata": {},
   "outputs": [],
   "source": []
  },
  {
   "cell_type": "code",
   "execution_count": 10,
   "metadata": {},
   "outputs": [
    {
     "name": "stderr",
     "output_type": "stream",
     "text": [
      "d:\\PycharmProjects\\smart-travels\\.venv\\Lib\\site-packages\\tqdm\\auto.py:21: TqdmWarning: IProgress not found. Please update jupyter and ipywidgets. See https://ipywidgets.readthedocs.io/en/stable/user_install.html\n",
      "  from .autonotebook import tqdm as notebook_tqdm\n"
     ]
    }
   ],
   "source": [
    "from RAG.traveller import RAG\n",
    "rag = RAG()\n",
    "\n",
    "SHEET_NAME = \"Master Database\" \n",
    "WORKSHEET_NAME = \"inventory_processed\"\n",
    "df = rag.get_df(sheet_name = SHEET_NAME, worksheet_name = WORKSHEET_NAME)"
   ]
  },
  {
   "cell_type": "code",
   "execution_count": 2,
   "metadata": {},
   "outputs": [],
   "source": [
    "df1 = rag.embed_df(df, title=\"Title\", text=\"Text\")"
   ]
  },
  {
   "cell_type": "code",
   "execution_count": 3,
   "metadata": {},
   "outputs": [
    {
     "data": {
      "text/html": [
       "<div>\n",
       "<style scoped>\n",
       "    .dataframe tbody tr th:only-of-type {\n",
       "        vertical-align: middle;\n",
       "    }\n",
       "\n",
       "    .dataframe tbody tr th {\n",
       "        vertical-align: top;\n",
       "    }\n",
       "\n",
       "    .dataframe thead th {\n",
       "        text-align: right;\n",
       "    }\n",
       "</style>\n",
       "<table border=\"1\" class=\"dataframe\">\n",
       "  <thead>\n",
       "    <tr style=\"text-align: right;\">\n",
       "      <th></th>\n",
       "      <th>Destination</th>\n",
       "      <th>Title</th>\n",
       "      <th>Text</th>\n",
       "      <th>Embeddings</th>\n",
       "    </tr>\n",
       "  </thead>\n",
       "  <tbody>\n",
       "    <tr>\n",
       "      <th>0</th>\n",
       "      <td>partners - putrajaya - cruise</td>\n",
       "      <td>cruise tasik putrajaya</td>\n",
       "      <td>Cruise Tasik Putrajaya\\nCruise beyond your im...</td>\n",
       "      <td>[0.02785702, 0.04049749, -0.038079727, -0.0661...</td>\n",
       "    </tr>\n",
       "    <tr>\n",
       "      <th>1</th>\n",
       "      <td>partners - malacca - attractions</td>\n",
       "      <td>menara taming sari</td>\n",
       "      <td>MENARA TAMING SARI\\nMELAKA\\n\\nTaming Sari Tow...</td>\n",
       "      <td>[0.04842721, 0.06566964, -0.001694597, -0.0012...</td>\n",
       "    </tr>\n",
       "    <tr>\n",
       "      <th>2</th>\n",
       "      <td>partners - malacca - attractions</td>\n",
       "      <td>melaka river cruise</td>\n",
       "      <td>MELAKA RIVER CRUISE\\nS.M.A. MELAKA\\n\\nwww.mel...</td>\n",
       "      <td>[0.060001522, 0.05154308, -0.019224696, -0.050...</td>\n",
       "    </tr>\n",
       "    <tr>\n",
       "      <th>3</th>\n",
       "      <td>partners - terengganu - accommodation</td>\n",
       "      <td>perhentian island resort</td>\n",
       "      <td>**Perhentian Island Resort**\\n\\nPulau Perhent...</td>\n",
       "      <td>[0.04545973, -0.003452046, -0.0065804133, -0.0...</td>\n",
       "    </tr>\n",
       "    <tr>\n",
       "      <th>4</th>\n",
       "      <td>partner - terengganu - tour package</td>\n",
       "      <td>ag holidays</td>\n",
       "      <td>Pakej Aktiviti\\nKem Pelajar &amp; IPT\\nSetu Adven...</td>\n",
       "      <td>[-0.002626957, -0.0129379155, -0.025428655, -0...</td>\n",
       "    </tr>\n",
       "    <tr>\n",
       "      <th>5</th>\n",
       "      <td>partners - terengganu - tour package</td>\n",
       "      <td>tenggol coral beach resort</td>\n",
       "      <td>Tenggol \\nCoral Beach \\nResort\\n\\n浮潜配套\\n配套包括：...</td>\n",
       "      <td>[0.057933476, 0.010546263, -0.009384707, -0.00...</td>\n",
       "    </tr>\n",
       "    <tr>\n",
       "      <th>6</th>\n",
       "      <td>partners - terengganu - accommodation</td>\n",
       "      <td>ag holidays</td>\n",
       "      <td>AG SUITES\\nKETENANGAN ITU MEMBAHAGIAKAN\\n011-...</td>\n",
       "      <td>[0.04481308, -0.001814087, 0.036361963, -0.020...</td>\n",
       "    </tr>\n",
       "    <tr>\n",
       "      <th>7</th>\n",
       "      <td>partners - johor - theme park</td>\n",
       "      <td>legoland</td>\n",
       "      <td>MATTA FAIR EXCLUSIVE \\nMitec 2C01\\n\\nPAY FOR ...</td>\n",
       "      <td>[0.019847477, 0.0076364363, 0.002201427, -0.03...</td>\n",
       "    </tr>\n",
       "    <tr>\n",
       "      <th>8</th>\n",
       "      <td>partners - johor - theme park</td>\n",
       "      <td>legoland</td>\n",
       "      <td>MATTA FAIR EXCLUSIVE \\nMitec 2C01\\n\\nPAY FOR ...</td>\n",
       "      <td>[0.01988468, 0.0057520024, 0.0025358577, -0.03...</td>\n",
       "    </tr>\n",
       "    <tr>\n",
       "      <th>9</th>\n",
       "      <td>partners - negeri sembilan - leisure</td>\n",
       "      <td>sky ladder pineapple farm</td>\n",
       "      <td>SkyLadder\\nPineapple Farm\\nNature. Explore. R...</td>\n",
       "      <td>[0.021492492, 0.026504407, -0.028603036, -0.00...</td>\n",
       "    </tr>\n",
       "    <tr>\n",
       "      <th>10</th>\n",
       "      <td>partners - negeri sembilan - accomodation &amp; re...</td>\n",
       "      <td>dataran segar city</td>\n",
       "      <td>WONDROUS\\nSTAY PACKAGE\\n\\nTasik Villa\\nIntern...</td>\n",
       "      <td>[0.014910541, -0.023930734, 0.014321615, -0.03...</td>\n",
       "    </tr>\n",
       "    <tr>\n",
       "      <th>11</th>\n",
       "      <td>partners - negeri sembilan - accomodation</td>\n",
       "      <td>tasik villa international resort port dickson</td>\n",
       "      <td>Tasiik Villa\\nInternational Resort\\nPort Dick...</td>\n",
       "      <td>[0.035173576, -0.0016962138, 0.020557813, -0.0...</td>\n",
       "    </tr>\n",
       "    <tr>\n",
       "      <th>12</th>\n",
       "      <td>partners - penang - museum</td>\n",
       "      <td>ghost museum</td>\n",
       "      <td>幽灵博物馆\\nCOOL GHOST MUSEUM\\n1ST AND ONLY IN MAL...</td>\n",
       "      <td>[-0.005583892, 0.054594845, -0.020913493, -0.0...</td>\n",
       "    </tr>\n",
       "    <tr>\n",
       "      <th>13</th>\n",
       "      <td>partners - penang - entertainment</td>\n",
       "      <td>the top penang</td>\n",
       "      <td>ARCH 2024 MITEC, KL\\n\\nThe TOP \\nPENANG\\nHigh...</td>\n",
       "      <td>[0.06559584, 0.023456864, -0.033938594, -0.029...</td>\n",
       "    </tr>\n",
       "    <tr>\n",
       "      <th>14</th>\n",
       "      <td>partners - penang - entertainment</td>\n",
       "      <td>magic world penang</td>\n",
       "      <td>[Image of a Magic World Penang sign with a ma...</td>\n",
       "      <td>[-0.0018990301, 0.030383885, -0.03832716, -0.0...</td>\n",
       "    </tr>\n",
       "    <tr>\n",
       "      <th>15</th>\n",
       "      <td>partners - penang - f&amp;b</td>\n",
       "      <td>de' 8000 mini golf cafe</td>\n",
       "      <td>De' 8000\\nMini Golf Cafe\\n1st in Malaysia\\n\\n...</td>\n",
       "      <td>[0.017887617, -0.010630016, 0.00758781, -0.075...</td>\n",
       "    </tr>\n",
       "    <tr>\n",
       "      <th>16</th>\n",
       "      <td>partners - penang - accomodation</td>\n",
       "      <td>raia inn penang</td>\n",
       "      <td>Raia Inn Penang\\n\\nJom Cuti Raia\\n\\nSpacious ...</td>\n",
       "      <td>[0.02844026, -0.011136843, 0.0031094996, -0.03...</td>\n",
       "    </tr>\n",
       "  </tbody>\n",
       "</table>\n",
       "</div>"
      ],
      "text/plain": [
       "                                          Destination  \\\n",
       "0                       partners - putrajaya - cruise   \n",
       "1                    partners - malacca - attractions   \n",
       "2                    partners - malacca - attractions   \n",
       "3               partners - terengganu - accommodation   \n",
       "4                 partner - terengganu - tour package   \n",
       "5                partners - terengganu - tour package   \n",
       "6               partners - terengganu - accommodation   \n",
       "7                       partners - johor - theme park   \n",
       "8                       partners - johor - theme park   \n",
       "9                partners - negeri sembilan - leisure   \n",
       "10  partners - negeri sembilan - accomodation & re...   \n",
       "11          partners - negeri sembilan - accomodation   \n",
       "12                         partners - penang - museum   \n",
       "13                  partners - penang - entertainment   \n",
       "14                  partners - penang - entertainment   \n",
       "15                            partners - penang - f&b   \n",
       "16                   partners - penang - accomodation   \n",
       "\n",
       "                                            Title  \\\n",
       "0                          cruise tasik putrajaya   \n",
       "1                              menara taming sari   \n",
       "2                             melaka river cruise   \n",
       "3                        perhentian island resort   \n",
       "4                                     ag holidays   \n",
       "5                      tenggol coral beach resort   \n",
       "6                                     ag holidays   \n",
       "7                                        legoland   \n",
       "8                                        legoland   \n",
       "9                       sky ladder pineapple farm   \n",
       "10                             dataran segar city   \n",
       "11  tasik villa international resort port dickson   \n",
       "12                                   ghost museum   \n",
       "13                                 the top penang   \n",
       "14                             magic world penang   \n",
       "15                        de' 8000 mini golf cafe   \n",
       "16                                raia inn penang   \n",
       "\n",
       "                                                 Text  \\\n",
       "0    Cruise Tasik Putrajaya\\nCruise beyond your im...   \n",
       "1    MENARA TAMING SARI\\nMELAKA\\n\\nTaming Sari Tow...   \n",
       "2    MELAKA RIVER CRUISE\\nS.M.A. MELAKA\\n\\nwww.mel...   \n",
       "3    **Perhentian Island Resort**\\n\\nPulau Perhent...   \n",
       "4    Pakej Aktiviti\\nKem Pelajar & IPT\\nSetu Adven...   \n",
       "5    Tenggol \\nCoral Beach \\nResort\\n\\n浮潜配套\\n配套包括：...   \n",
       "6    AG SUITES\\nKETENANGAN ITU MEMBAHAGIAKAN\\n011-...   \n",
       "7    MATTA FAIR EXCLUSIVE \\nMitec 2C01\\n\\nPAY FOR ...   \n",
       "8    MATTA FAIR EXCLUSIVE \\nMitec 2C01\\n\\nPAY FOR ...   \n",
       "9    SkyLadder\\nPineapple Farm\\nNature. Explore. R...   \n",
       "10   WONDROUS\\nSTAY PACKAGE\\n\\nTasik Villa\\nIntern...   \n",
       "11   Tasiik Villa\\nInternational Resort\\nPort Dick...   \n",
       "12   幽灵博物馆\\nCOOL GHOST MUSEUM\\n1ST AND ONLY IN MAL...   \n",
       "13   ARCH 2024 MITEC, KL\\n\\nThe TOP \\nPENANG\\nHigh...   \n",
       "14   [Image of a Magic World Penang sign with a ma...   \n",
       "15   De' 8000\\nMini Golf Cafe\\n1st in Malaysia\\n\\n...   \n",
       "16   Raia Inn Penang\\n\\nJom Cuti Raia\\n\\nSpacious ...   \n",
       "\n",
       "                                           Embeddings  \n",
       "0   [0.02785702, 0.04049749, -0.038079727, -0.0661...  \n",
       "1   [0.04842721, 0.06566964, -0.001694597, -0.0012...  \n",
       "2   [0.060001522, 0.05154308, -0.019224696, -0.050...  \n",
       "3   [0.04545973, -0.003452046, -0.0065804133, -0.0...  \n",
       "4   [-0.002626957, -0.0129379155, -0.025428655, -0...  \n",
       "5   [0.057933476, 0.010546263, -0.009384707, -0.00...  \n",
       "6   [0.04481308, -0.001814087, 0.036361963, -0.020...  \n",
       "7   [0.019847477, 0.0076364363, 0.002201427, -0.03...  \n",
       "8   [0.01988468, 0.0057520024, 0.0025358577, -0.03...  \n",
       "9   [0.021492492, 0.026504407, -0.028603036, -0.00...  \n",
       "10  [0.014910541, -0.023930734, 0.014321615, -0.03...  \n",
       "11  [0.035173576, -0.0016962138, 0.020557813, -0.0...  \n",
       "12  [-0.005583892, 0.054594845, -0.020913493, -0.0...  \n",
       "13  [0.06559584, 0.023456864, -0.033938594, -0.029...  \n",
       "14  [-0.0018990301, 0.030383885, -0.03832716, -0.0...  \n",
       "15  [0.017887617, -0.010630016, 0.00758781, -0.075...  \n",
       "16  [0.02844026, -0.011136843, 0.0031094996, -0.03...  "
      ]
     },
     "execution_count": 3,
     "metadata": {},
     "output_type": "execute_result"
    }
   ],
   "source": [
    "df1"
   ]
  },
  {
   "cell_type": "code",
   "execution_count": 5,
   "metadata": {},
   "outputs": [],
   "source": [
    "query_embedding = rag.embed_text(\"penang exciting place to visit\", task_type=\"retrieval_query\")"
   ]
  },
  {
   "cell_type": "code",
   "execution_count": 9,
   "metadata": {},
   "outputs": [],
   "source": [
    "import numpy as np\n",
    "import pandas as pd\n",
    "dataframe = df1\n",
    "topN = 2\n",
    "\n",
    "dot_products = np.dot(np.stack(dataframe['Embeddings']), query_embedding)\n",
    "idx = np.argsort(dot_products)[-topN:][::-1]\n",
    "\n",
    "# Create a DataFrame with passages and scores\n",
    "top_passages = pd.DataFrame({'Text': dataframe.iloc[idx]['Text'], 'Score': dot_products[idx]})"
   ]
  },
  {
   "cell_type": "code",
   "execution_count": null,
   "metadata": {},
   "outputs": [],
   "source": []
  },
  {
   "cell_type": "code",
   "execution_count": null,
   "metadata": {},
   "outputs": [],
   "source": []
  },
  {
   "cell_type": "code",
   "execution_count": 10,
   "metadata": {},
   "outputs": [
    {
     "data": {
      "text/html": [
       "<div>\n",
       "<style scoped>\n",
       "    .dataframe tbody tr th:only-of-type {\n",
       "        vertical-align: middle;\n",
       "    }\n",
       "\n",
       "    .dataframe tbody tr th {\n",
       "        vertical-align: top;\n",
       "    }\n",
       "\n",
       "    .dataframe thead th {\n",
       "        text-align: right;\n",
       "    }\n",
       "</style>\n",
       "<table border=\"1\" class=\"dataframe\">\n",
       "  <thead>\n",
       "    <tr style=\"text-align: right;\">\n",
       "      <th></th>\n",
       "      <th>Passage</th>\n",
       "      <th>Similarity Score</th>\n",
       "    </tr>\n",
       "  </thead>\n",
       "  <tbody>\n",
       "    <tr>\n",
       "      <th>0</th>\n",
       "      <td>AG SUITES\\nKETENANGAN ITU MEMBAHAGIAKAN\\n011-...</td>\n",
       "      <td>-0.024121</td>\n",
       "    </tr>\n",
       "    <tr>\n",
       "      <th>1</th>\n",
       "      <td>Tasiik Villa\\nInternational Resort\\nPort Dick...</td>\n",
       "      <td>-0.041005</td>\n",
       "    </tr>\n",
       "  </tbody>\n",
       "</table>\n",
       "</div>"
      ],
      "text/plain": [
       "                                             Passage  Similarity Score\n",
       "0   AG SUITES\\nKETENANGAN ITU MEMBAHAGIAKAN\\n011-...         -0.024121\n",
       "1   Tasiik Villa\\nInternational Resort\\nPort Dick...         -0.041005"
      ]
     },
     "execution_count": 10,
     "metadata": {},
     "output_type": "execute_result"
    }
   ],
   "source": [
    "top_passages.reset_index(drop=True).rename(columns={'Text': 'Passage', 'Score': 'Similarity Score'})"
   ]
  },
  {
   "cell_type": "code",
   "execution_count": 11,
   "metadata": {},
   "outputs": [
    {
     "data": {
      "text/html": [
       "<div>\n",
       "<style scoped>\n",
       "    .dataframe tbody tr th:only-of-type {\n",
       "        vertical-align: middle;\n",
       "    }\n",
       "\n",
       "    .dataframe tbody tr th {\n",
       "        vertical-align: top;\n",
       "    }\n",
       "\n",
       "    .dataframe thead th {\n",
       "        text-align: right;\n",
       "    }\n",
       "</style>\n",
       "<table border=\"1\" class=\"dataframe\">\n",
       "  <thead>\n",
       "    <tr style=\"text-align: right;\">\n",
       "      <th></th>\n",
       "      <th>Text</th>\n",
       "      <th>Score</th>\n",
       "    </tr>\n",
       "  </thead>\n",
       "  <tbody>\n",
       "    <tr>\n",
       "      <th>6</th>\n",
       "      <td>AG SUITES\\nKETENANGAN ITU MEMBAHAGIAKAN\\n011-...</td>\n",
       "      <td>-0.024121</td>\n",
       "    </tr>\n",
       "    <tr>\n",
       "      <th>11</th>\n",
       "      <td>Tasiik Villa\\nInternational Resort\\nPort Dick...</td>\n",
       "      <td>-0.041005</td>\n",
       "    </tr>\n",
       "  </tbody>\n",
       "</table>\n",
       "</div>"
      ],
      "text/plain": [
       "                                                 Text     Score\n",
       "6    AG SUITES\\nKETENANGAN ITU MEMBAHAGIAKAN\\n011-... -0.024121\n",
       "11   Tasiik Villa\\nInternational Resort\\nPort Dick... -0.041005"
      ]
     },
     "execution_count": 11,
     "metadata": {},
     "output_type": "execute_result"
    }
   ],
   "source": [
    "top_passages"
   ]
  },
  {
   "cell_type": "code",
   "execution_count": null,
   "metadata": {},
   "outputs": [],
   "source": []
  },
  {
   "cell_type": "code",
   "execution_count": null,
   "metadata": {},
   "outputs": [],
   "source": []
  },
  {
   "cell_type": "code",
   "execution_count": null,
   "metadata": {},
   "outputs": [],
   "source": []
  },
  {
   "cell_type": "markdown",
   "metadata": {},
   "source": [
    "## 2) Cohere RAG test"
   ]
  },
  {
   "cell_type": "code",
   "execution_count": 1,
   "metadata": {},
   "outputs": [],
   "source": [
    "from RAG.cohere_RAG import RAG\n",
    "query = \"Penang, 2 days, foodie\"\n",
    "rag = RAG()\n",
    "result, recommendations = rag.rag_pipeline(query = query, sheet_name = \"Master Database\", worksheet_name=\"inventory_processed\", reembed= False)"
   ]
  },
  {
   "cell_type": "code",
   "execution_count": 27,
   "metadata": {},
   "outputs": [
    {
     "name": "stdout",
     "output_type": "stream",
     "text": [
      "**Activities Description:**\n",
      "\n",
      "Enjoy a spacious room suitable for families. Immerse yourself in the local delights of Penang. Take a refreshing dip in the new splash pool.\n",
      "\n",
      "**Highlights:**\n",
      "\n",
      "* Spacious family-friendly rooms\n",
      "* Local culinary experiences\n",
      "* New splash pool\n",
      "\n",
      "**Timings:**\n",
      "\n",
      "NA\n",
      "\n",
      "**Pricings:**\n",
      "\n",
      "* RM158nett per night\n",
      "\n",
      "**Contact Information:**\n",
      "\n",
      "* Phone: 011-1739 8714\n",
      "* Website: www.raiahotels.com.my\n",
      "\n",
      "**Terms and Conditions:**\n",
      "\n",
      "* Prices include 8% service charge and 6% SST.\n",
      "* Buy now, stay later until 30th September 2024.\n",
      "* Surcharge of RM50 applicable for eve of public holidays and public holidays.\n"
     ]
    }
   ],
   "source": [
    "print(recommendations[0])"
   ]
  },
  {
   "cell_type": "code",
   "execution_count": null,
   "metadata": {},
   "outputs": [],
   "source": []
  },
  {
   "cell_type": "markdown",
   "metadata": {},
   "source": [
    "# 2) Traveller 2"
   ]
  },
  {
   "cell_type": "code",
   "execution_count": 11,
   "metadata": {},
   "outputs": [
    {
     "name": "stdout",
     "output_type": "stream",
     "text": [
      "Loading inventory...\n"
     ]
    }
   ],
   "source": [
    "import importlib\n",
    "\n",
    "from RAG import traveller\n",
    "importlib.reload(traveller)\n",
    "\n",
    "from RAG.traveller import traveller\n",
    "\n",
    "CREDENTIALS_FILE = 'smart-platform.json'\n",
    "SHEET_NAME = \"Master Database\" \n",
    "WORKSHEET_NAME = \"inventory_processed\"\n",
    "rag = traveller()\n",
    "print(\"Loading inventory...\")\n",
    "# df = rag.get_df(sheet_name=SHEET_NAME, worksheet_name=WORKSHEET_NAME)\n",
    "\n"
   ]
  },
  {
   "cell_type": "code",
   "execution_count": 12,
   "metadata": {},
   "outputs": [
    {
     "name": "stdout",
     "output_type": "stream",
     "text": [
      "Prompt: i want to go Legoland for 4 days, for 2 pax, foodie theme, for $10\n",
      "----> {'destination': 'Legoland', 'dates': 'NAN', 'duration': '4 days', 'number_of_pax': 2, 'filter': ['foodie'], 'budget': '$10'}\n",
      "Loading inventory...\n",
      "Filtering inventory...\n"
     ]
    }
   ],
   "source": [
    "import importlib\n",
    "\n",
    "from RAG import traveller\n",
    "importlib.reload(traveller)\n",
    "\n",
    "from RAG.traveller import traveller\n",
    "rag = traveller()\n",
    "message = {\n",
    "    \"prompt\": \"i want to go Legoland for 4 days, for 2 pax, foodie theme, for $10\"\n",
    "    #  \"destination\": \"terengganu\",\n",
    "    #  \"dates\": \"july\",\n",
    "    #  \"duration\": \"3 days\",\n",
    "    #  \"number_of_pax\": \"2\",\n",
    "    #  \"filter\": \"hidden gems\",\n",
    "    #  \"budget\": \"$1000\"\n",
    " }\n",
    "itinerary_payload = rag.generate_travel_itinerary(message=message)"
   ]
  },
  {
   "cell_type": "code",
   "execution_count": 10,
   "metadata": {},
   "outputs": [
    {
     "data": {
      "text/plain": [
       "{'itinerary': [{'activities': [{'description': '',\n",
       "     'inventory': '',\n",
       "     'price': '',\n",
       "     'time': '',\n",
       "     'title': ''},\n",
       "    {'description': '', 'inventory': '', 'price': '', 'time': '', 'title': ''},\n",
       "    {'description': '',\n",
       "     'inventory': '',\n",
       "     'price': '',\n",
       "     'time': '',\n",
       "     'title': ''}],\n",
       "   'day': '',\n",
       "   'description': '',\n",
       "   'title': ''},\n",
       "  {'activities': [{'description': '',\n",
       "     'inventory': '',\n",
       "     'price': '',\n",
       "     'time': '',\n",
       "     'title': ''},\n",
       "    {'description': '', 'inventory': '', 'price': '', 'time': '', 'title': ''},\n",
       "    {'description': '',\n",
       "     'inventory': '',\n",
       "     'price': '',\n",
       "     'time': '',\n",
       "     'title': ''}],\n",
       "   'day': '',\n",
       "   'description': '',\n",
       "   'title': ''}],\n",
       " 'pricing': {'total_cost': ''},\n",
       " 'summary': 'Sorry this destination is not covered in our inventory. Please choose another destination.'}"
      ]
     },
     "execution_count": 10,
     "metadata": {},
     "output_type": "execute_result"
    }
   ],
   "source": [
    "itinerary_payload[\"response\"]"
   ]
  },
  {
   "cell_type": "code",
   "execution_count": 9,
   "metadata": {},
   "outputs": [
    {
     "ename": "TypeError",
     "evalue": "the JSON object must be str, bytes or bytearray, not dict",
     "output_type": "error",
     "traceback": [
      "\u001b[1;31m---------------------------------------------------------------------------\u001b[0m",
      "\u001b[1;31mTypeError\u001b[0m                                 Traceback (most recent call last)",
      "Cell \u001b[1;32mIn[9], line 2\u001b[0m\n\u001b[0;32m      1\u001b[0m \u001b[38;5;28;01mimport\u001b[39;00m \u001b[38;5;21;01mjson\u001b[39;00m\n\u001b[1;32m----> 2\u001b[0m output \u001b[38;5;241m=\u001b[39m \u001b[43mjson\u001b[49m\u001b[38;5;241;43m.\u001b[39;49m\u001b[43mloads\u001b[49m\u001b[43m(\u001b[49m\u001b[43mitinerary_payload\u001b[49m\u001b[43m[\u001b[49m\u001b[38;5;124;43m\"\u001b[39;49m\u001b[38;5;124;43mresponse\u001b[39;49m\u001b[38;5;124;43m\"\u001b[39;49m\u001b[43m]\u001b[49m\u001b[43m)\u001b[49m\n\u001b[0;32m      3\u001b[0m output\n",
      "File \u001b[1;32m~\\AppData\\Local\\Programs\\Python\\Python312\\Lib\\json\\__init__.py:339\u001b[0m, in \u001b[0;36mloads\u001b[1;34m(s, cls, object_hook, parse_float, parse_int, parse_constant, object_pairs_hook, **kw)\u001b[0m\n\u001b[0;32m    337\u001b[0m \u001b[38;5;28;01melse\u001b[39;00m:\n\u001b[0;32m    338\u001b[0m     \u001b[38;5;28;01mif\u001b[39;00m \u001b[38;5;129;01mnot\u001b[39;00m \u001b[38;5;28misinstance\u001b[39m(s, (\u001b[38;5;28mbytes\u001b[39m, \u001b[38;5;28mbytearray\u001b[39m)):\n\u001b[1;32m--> 339\u001b[0m         \u001b[38;5;28;01mraise\u001b[39;00m \u001b[38;5;167;01mTypeError\u001b[39;00m(\u001b[38;5;124mf\u001b[39m\u001b[38;5;124m'\u001b[39m\u001b[38;5;124mthe JSON object must be str, bytes or bytearray, \u001b[39m\u001b[38;5;124m'\u001b[39m\n\u001b[0;32m    340\u001b[0m                         \u001b[38;5;124mf\u001b[39m\u001b[38;5;124m'\u001b[39m\u001b[38;5;124mnot \u001b[39m\u001b[38;5;132;01m{\u001b[39;00ms\u001b[38;5;241m.\u001b[39m\u001b[38;5;18m__class__\u001b[39m\u001b[38;5;241m.\u001b[39m\u001b[38;5;18m__name__\u001b[39m\u001b[38;5;132;01m}\u001b[39;00m\u001b[38;5;124m'\u001b[39m)\n\u001b[0;32m    341\u001b[0m     s \u001b[38;5;241m=\u001b[39m s\u001b[38;5;241m.\u001b[39mdecode(detect_encoding(s), \u001b[38;5;124m'\u001b[39m\u001b[38;5;124msurrogatepass\u001b[39m\u001b[38;5;124m'\u001b[39m)\n\u001b[0;32m    343\u001b[0m \u001b[38;5;28;01mif\u001b[39;00m (\u001b[38;5;28mcls\u001b[39m \u001b[38;5;129;01mis\u001b[39;00m \u001b[38;5;28;01mNone\u001b[39;00m \u001b[38;5;129;01mand\u001b[39;00m object_hook \u001b[38;5;129;01mis\u001b[39;00m \u001b[38;5;28;01mNone\u001b[39;00m \u001b[38;5;129;01mand\u001b[39;00m\n\u001b[0;32m    344\u001b[0m         parse_int \u001b[38;5;129;01mis\u001b[39;00m \u001b[38;5;28;01mNone\u001b[39;00m \u001b[38;5;129;01mand\u001b[39;00m parse_float \u001b[38;5;129;01mis\u001b[39;00m \u001b[38;5;28;01mNone\u001b[39;00m \u001b[38;5;129;01mand\u001b[39;00m\n\u001b[0;32m    345\u001b[0m         parse_constant \u001b[38;5;129;01mis\u001b[39;00m \u001b[38;5;28;01mNone\u001b[39;00m \u001b[38;5;129;01mand\u001b[39;00m object_pairs_hook \u001b[38;5;129;01mis\u001b[39;00m \u001b[38;5;28;01mNone\u001b[39;00m \u001b[38;5;129;01mand\u001b[39;00m \u001b[38;5;129;01mnot\u001b[39;00m kw):\n",
      "\u001b[1;31mTypeError\u001b[0m: the JSON object must be str, bytes or bytearray, not dict"
     ]
    }
   ],
   "source": [
    "import json\n",
    "output = json.loads(itinerary_payload[\"response\"])\n",
    "output"
   ]
  },
  {
   "cell_type": "code",
   "execution_count": 7,
   "metadata": {},
   "outputs": [
    {
     "name": "stdout",
     "output_type": "stream",
     "text": [
      "input token: total_tokens: 3213\n",
      "\n",
      "response token: total_tokens: 1005\n",
      "\n"
     ]
    }
   ],
   "source": [
    "# count number of tokens:\n",
    "print(f\"input token: {rag.model.count_tokens(itinerary_payload[\"prompt\"])}\")\n",
    "print(f\"response token: {rag.model.count_tokens(itinerary_payload[\"response\"].text)}\")"
   ]
  },
  {
   "cell_type": "code",
   "execution_count": 15,
   "metadata": {},
   "outputs": [],
   "source": [
    "x={'summary': \"Prepare to be enchanted by Penang, a destination that tantalizes the palate, captivates the senses, and sparks the imagination! As a foodie, you'll embark on a gastronomic adventure through bustling street markets and charming cafes, savoring the rich flavors of Malaysian, Chinese, and Indian cuisines. The island's attractions will leave you spellbound, from the vibrant street art scene and historic temples to the lush botanical gardens and colonial architecture. And for a touch of magic, delve into the world of illusion and wonder at the captivating Magic World Penang, where interactive exhibits and mind-bending illusions await.\",\n",
    " 'itinerary': [{'day': 'day 1',\n",
    "   'title': 'A Foodie Adventure Through Georgetown',\n",
    "   'description': \"Start your day with a delectable breakfast at one of Penang's many hawker centers, where you can sample local favorites such as nasi lemak, char koay teow, and roti canai. After breakfast, embark on a journey through the heart of Georgetown, a UNESCO World Heritage Site, exploring the city's rich history and vibrant culture through its captivating street art. Discover hidden alleyways adorned with murals and sculptures, each telling a unique story of Penang's past and present.  Enjoy a delightful lunch at a traditional Nyonya restaurant, where you'll be treated to a symphony of flavors from the Peranakan cuisine, a unique blend of Chinese and Malay influences.  As the day progresses, immerse yourselves in the enchanting world of Magic World Penang. Prepare to be amazed by a collection of interactive exhibits, optical illusions, and mind-bending displays that will leave you questioning reality. End your evening with a delightful dinner at one of Penang's many hawker centers, savoring the flavors of local delicacies while enjoying the lively atmosphere.\",\n",
    "   'daily_itinerary': [{'time': 'morning',\n",
    "     'title': 'Georgetown Street Art',\n",
    "     'description': \"Embark on a self-guided walking tour through the colorful streets of Georgetown, discovering captivating murals and sculptures that depict the city's rich history, culture, and everyday life. Let the art lead you through hidden alleyways and bustling streets, each turn revealing a new and exciting masterpiece.\",\n",
    "     'inventory': 'unavailable',\n",
    "     'price': 'free (walking tour)'},\n",
    "    {'time': 'afternoon',\n",
    "     'title': 'Magic World Penang',\n",
    "     'description': 'Step into a world of illusion and wonder at Magic World Penang. Let your imagination run wild as you explore a collection of interactive exhibits, optical illusions, and mind-bending displays that will leave you questioning reality. Capture unforgettable photos and create lasting memories as you immerse yourselves in this captivating world.',\n",
    "     'inventory': 'VendorID: 13',\n",
    "     'price': 'unavailable'}]},\n",
    "  {'day': 'day 2',\n",
    "   'title': 'A Scenic Escape and Culinary Delights',\n",
    "   'description': \"Embark on a scenic adventure to Penang Hill, a cool and breezy retreat offering breathtaking panoramic views of the island. Take a leisurely ride on the funicular train, ascending through lush rainforest and enjoying glimpses of exotic flora and fauna. At the top, marvel at the stunning vistas of Georgetown, the Penang Bridge, and the mainland in the distance. Capture unforgettable photos and soak in the refreshing mountain air. In the afternoon, tantalize your taste buds with a delightful culinary experience. Choose from a variety of dining options, from casual cafes to fine-dining restaurants, each offering a unique perspective on Penang's diverse cuisine. Indulge in fresh seafood, savor the flavors of local delicacies, or treat yourselves to international fare while enjoying the picturesque surroundings.\",\n",
    "   'daily_itinerary': [{'time': 'morning',\n",
    "     'title': 'Penang Hill',\n",
    "     'description': 'Escape the city bustle and ascend Penang Hill, a cool and breezy retreat offering breathtaking panoramic views of Georgetown, the Penang Bridge, and the mainland. Choose to hike up amidst lush rainforest or take a leisurely ride on the funicular train, enjoying glimpses of exotic flora and fauna along the way. At the top, capture unforgettable photos, soak in the refreshing mountain air, and explore the various attractions, including The Habitat Penang Hill, a world-class eco-tourism site.',\n",
    "     'inventory': 'unavailable',\n",
    "     'price': 'Funicular Train: Adult RM30 (round trip), Child RM15 (round trip)'},\n",
    "    {'time': 'afternoon',\n",
    "     'title': \"De' 8000 Mini Golf Cafe\",\n",
    "     'description': \"Challenge yourselves to a fun-filled mini-golf adventure at De' 8000 Mini Golf Cafe. Putt your way through 18 challenging holes, each with unique obstacles and themes, and enjoy some friendly competition. Afterward, relax and refuel at the cafe, which offers a variety of halal food and beverages, making it a perfect spot to unwind after a day of exploration.\",\n",
    "     'inventory': 'VendorID: 14',\n",
    "     'price': 'unavailable'}]}],\n",
    " 'pricing': {'total_cost': 'unavailable',\n",
    "  'per_day_cost': 'unavailable',\n",
    "  'per_activity_cost': 'unavailable'}}"
   ]
  },
  {
   "cell_type": "code",
   "execution_count": 18,
   "metadata": {},
   "outputs": [
    {
     "data": {
      "text/plain": [
       "{'day': 'day 2',\n",
       " 'title': 'A Scenic Escape and Culinary Delights',\n",
       " 'description': \"Embark on a scenic adventure to Penang Hill, a cool and breezy retreat offering breathtaking panoramic views of the island. Take a leisurely ride on the funicular train, ascending through lush rainforest and enjoying glimpses of exotic flora and fauna. At the top, marvel at the stunning vistas of Georgetown, the Penang Bridge, and the mainland in the distance. Capture unforgettable photos and soak in the refreshing mountain air. In the afternoon, tantalize your taste buds with a delightful culinary experience. Choose from a variety of dining options, from casual cafes to fine-dining restaurants, each offering a unique perspective on Penang's diverse cuisine. Indulge in fresh seafood, savor the flavors of local delicacies, or treat yourselves to international fare while enjoying the picturesque surroundings.\",\n",
       " 'daily_itinerary': [{'time': 'morning',\n",
       "   'title': 'Penang Hill',\n",
       "   'description': 'Escape the city bustle and ascend Penang Hill, a cool and breezy retreat offering breathtaking panoramic views of Georgetown, the Penang Bridge, and the mainland. Choose to hike up amidst lush rainforest or take a leisurely ride on the funicular train, enjoying glimpses of exotic flora and fauna along the way. At the top, capture unforgettable photos, soak in the refreshing mountain air, and explore the various attractions, including The Habitat Penang Hill, a world-class eco-tourism site.',\n",
       "   'inventory': 'unavailable',\n",
       "   'price': 'Funicular Train: Adult RM30 (round trip), Child RM15 (round trip)'},\n",
       "  {'time': 'afternoon',\n",
       "   'title': \"De' 8000 Mini Golf Cafe\",\n",
       "   'description': \"Challenge yourselves to a fun-filled mini-golf adventure at De' 8000 Mini Golf Cafe. Putt your way through 18 challenging holes, each with unique obstacles and themes, and enjoy some friendly competition. Afterward, relax and refuel at the cafe, which offers a variety of halal food and beverages, making it a perfect spot to unwind after a day of exploration.\",\n",
       "   'inventory': 'VendorID: 14',\n",
       "   'price': 'unavailable'}]}"
      ]
     },
     "execution_count": 18,
     "metadata": {},
     "output_type": "execute_result"
    }
   ],
   "source": [
    "x[\"itinerary\"][1]"
   ]
  },
  {
   "cell_type": "code",
   "execution_count": 13,
   "metadata": {},
   "outputs": [],
   "source": [
    "import json\n",
    "xj = json.loads(x)"
   ]
  },
  {
   "cell_type": "code",
   "execution_count": 1,
   "metadata": {},
   "outputs": [
    {
     "name": "stderr",
     "output_type": "stream",
     "text": [
      "d:\\PycharmProjects\\smart-travels\\.venv\\Lib\\site-packages\\tqdm\\auto.py:21: TqdmWarning: IProgress not found. Please update jupyter and ipywidgets. See https://ipywidgets.readthedocs.io/en/stable/user_install.html\n",
      "  from .autonotebook import tqdm as notebook_tqdm\n"
     ]
    },
    {
     "ename": "TypeError",
     "evalue": "Message must be initialized with a dict: google.ai.generativelanguage.v1beta.GenerationConfig",
     "output_type": "error",
     "traceback": [
      "\u001b[1;31m---------------------------------------------------------------------------\u001b[0m",
      "\u001b[1;31mTypeError\u001b[0m                                 Traceback (most recent call last)",
      "Cell \u001b[1;32mIn[1], line 66\u001b[0m\n\u001b[0;32m     59\u001b[0m prompt \u001b[38;5;241m=\u001b[39m \u001b[38;5;124mf\u001b[39m\u001b[38;5;124m\"\"\"\u001b[39m\u001b[38;5;124mGenerate a detailed travel itinerary for Kelantan, Malaysia for a 3-day trip.\u001b[39m\n\u001b[0;32m     60\u001b[0m \u001b[38;5;124mFollow the JSON schema strictly and fill in all required fields.\u001b[39m\n\u001b[0;32m     61\u001b[0m \u001b[38;5;124m<JSONSchema>\u001b[39m\u001b[38;5;132;01m{\u001b[39;00mjson\u001b[38;5;241m.\u001b[39mdumps(jsonSchema)\u001b[38;5;132;01m}\u001b[39;00m\u001b[38;5;124m</JSONSchema>\u001b[39m\u001b[38;5;124m\"\"\"\u001b[39m\n\u001b[0;32m     63\u001b[0m genai\u001b[38;5;241m.\u001b[39mconfigure(api_key\u001b[38;5;241m=\u001b[39mapiKey)\n\u001b[0;32m     64\u001b[0m model \u001b[38;5;241m=\u001b[39m genai\u001b[38;5;241m.\u001b[39mGenerativeModel(\n\u001b[0;32m     65\u001b[0m     model_name\u001b[38;5;241m=\u001b[39m\u001b[38;5;124m\"\u001b[39m\u001b[38;5;124mgemini-1.5-pro-latest\u001b[39m\u001b[38;5;124m\"\u001b[39m,\n\u001b[1;32m---> 66\u001b[0m     generation_config\u001b[38;5;241m=\u001b[39m\u001b[43mglm\u001b[49m\u001b[38;5;241;43m.\u001b[39;49m\u001b[43mGenerationConfig\u001b[49m\u001b[43m(\u001b[49m\u001b[43mresponse_mime_type\u001b[49m\u001b[38;5;241;43m=\u001b[39;49m\u001b[38;5;124;43m\"\u001b[39;49m\u001b[38;5;124;43mapplication/json\u001b[39;49m\u001b[38;5;124;43m\"\u001b[39;49m\u001b[43m,\u001b[49m\u001b[43mresponse_schema\u001b[49m\u001b[38;5;241;43m=\u001b[39;49m\u001b[38;5;124;43m\"\u001b[39;49m\u001b[38;5;124;43mapplication/json\u001b[39;49m\u001b[38;5;124;43m\"\u001b[39;49m\u001b[43m,\u001b[49m\u001b[43m)\u001b[49m,\n\u001b[0;32m     67\u001b[0m )\n\u001b[0;32m     68\u001b[0m response \u001b[38;5;241m=\u001b[39m model\u001b[38;5;241m.\u001b[39mgenerate_content(prompt)\n\u001b[0;32m     69\u001b[0m \u001b[38;5;28mprint\u001b[39m(response\u001b[38;5;241m.\u001b[39mtext)\n",
      "File \u001b[1;32md:\\PycharmProjects\\smart-travels\\.venv\\Lib\\site-packages\\proto\\message.py:615\u001b[0m, in \u001b[0;36mMessage.__init__\u001b[1;34m(self, mapping, ignore_unknown_fields, **kwargs)\u001b[0m\n\u001b[0;32m    612\u001b[0m         params[key] \u001b[38;5;241m=\u001b[39m pb_value\n\u001b[0;32m    614\u001b[0m \u001b[38;5;66;03m# Create the internal protocol buffer.\u001b[39;00m\n\u001b[1;32m--> 615\u001b[0m \u001b[38;5;28msuper\u001b[39m()\u001b[38;5;241m.\u001b[39m\u001b[38;5;21m__setattr__\u001b[39m(\u001b[38;5;124m\"\u001b[39m\u001b[38;5;124m_pb\u001b[39m\u001b[38;5;124m\"\u001b[39m, \u001b[38;5;28;43mself\u001b[39;49m\u001b[38;5;241;43m.\u001b[39;49m\u001b[43m_meta\u001b[49m\u001b[38;5;241;43m.\u001b[39;49m\u001b[43mpb\u001b[49m\u001b[43m(\u001b[49m\u001b[38;5;241;43m*\u001b[39;49m\u001b[38;5;241;43m*\u001b[39;49m\u001b[43mparams\u001b[49m\u001b[43m)\u001b[49m)\n",
      "\u001b[1;31mTypeError\u001b[0m: Message must be initialized with a dict: google.ai.generativelanguage.v1beta.GenerationConfig"
     ]
    }
   ],
   "source": [
    "import google.generativeai as genai\n",
    "import google.ai.generativelanguage as glm\n",
    "import json\n",
    "from settings import GEMINI_API_KEY  # Ensure you have your API key set up\n",
    "\n",
    "apiKey = GEMINI_API_KEY  # Please set your API key.\n",
    "\n",
    "# Define the JSON schema that aligns with your desired output structure\n",
    "jsonSchema = {\n",
    "    \"title\": \"Travel Itinerary\",\n",
    "    \"type\": \"object\",\n",
    "    \"properties\": {\n",
    "        \"summary\": {\"type\": \"string\"},\n",
    "        \"itinerary\": {\n",
    "            \"type\": \"object\",\n",
    "            \"properties\": {\n",
    "                \"day1_summary\": {\"type\": \"string\"},\n",
    "                \"day1_itinerary\": {\n",
    "                    \"type\": \"array\",\n",
    "                    \"items\": {\n",
    "                        \"type\": \"object\",\n",
    "                        \"properties\": {\n",
    "                            \"title\": {\"type\": \"string\"},\n",
    "                            \"text\": {\"type\": \"string\"},\n",
    "                            \"inventory\": {\"type\": \"string\"},  # 'available!' or 'unavailable!'\n",
    "                            \"price\": {\"type\": \"number\"}\n",
    "                        }\n",
    "                    }\n",
    "                },\n",
    "                \"day2_summary\": {\"type\": \"string\"},\n",
    "                \"day2_itinerary\": {\n",
    "                    \"type\": \"array\", \n",
    "                    \"items\": {\n",
    "                        \"type\": \"object\",\n",
    "                        \"properties\": {\n",
    "                            \"title\": {\"type\": \"string\"},\n",
    "                            \"text\": {\"type\": \"string\"},\n",
    "                            \"inventory\": {\"type\": \"string\"},\n",
    "                            \"price\": {\"type\": \"number\"}\n",
    "                        }\n",
    "                    }\n",
    "                }\n",
    "            }\n",
    "        },\n",
    "        \"pricing\": {\n",
    "            \"type\": \"object\",\n",
    "            \"properties\": {\n",
    "                \"total_cost\": {\"type\": \"number\"},  \n",
    "                \"per_day_cost\": {\"type\": \"number\"},\n",
    "                \"per_activity_cost\": {\"type\": \"string\"}  \n",
    "            }\n",
    "        }\n",
    "    },\n",
    "    \"required\": [\"summary\", \"itinerary\", \"pricing\"]  # Ensure all sections are present\n",
    "}\n",
    "\n",
    "\n",
    "# Construct your prompt with the schema embedded\n",
    "prompt = f\"\"\"Generate a detailed travel itinerary for Kelantan, Malaysia for a 3-day trip.\n",
    "Follow the JSON schema strictly and fill in all required fields.\n",
    "<JSONSchema>{json.dumps(jsonSchema)}</JSONSchema>\"\"\"\n",
    "\n",
    "genai.configure(api_key=apiKey)\n",
    "model = genai.GenerativeModel(\n",
    "    model_name=\"gemini-1.5-pro-latest\",\n",
    "    generation_config=glm.GenerationConfig(response_mime_type=\"application/json\",response_schema=\"application/json\",),\n",
    ")\n",
    "response = model.generate_content(prompt)\n",
    "print(response.text)\n"
   ]
  },
  {
   "cell_type": "code",
   "execution_count": 21,
   "metadata": {},
   "outputs": [],
   "source": [
    "import json\n",
    "x = json.loads(response.text)"
   ]
  },
  {
   "cell_type": "code",
   "execution_count": 22,
   "metadata": {},
   "outputs": [
    {
     "data": {
      "text/plain": [
       "{'summary': 'Explore the cultural heart of Malaysia with this 3-day Kelantan itinerary. Discover historical landmarks, immerse yourself in local life at vibrant markets, and savor delicious Malay cuisine.',\n",
       " 'itinerary': {'day1_summary': 'Arrival in Kota Bharu and cultural immersion',\n",
       "  'day1_itinerary': [{'title': 'Morning: Arrival and Check-in',\n",
       "    'text': 'Arrive at Sultan Ismail Petra Airport (KBR) and check in to your hotel in Kota Bharu. ',\n",
       "    'inventory': 'Flight Ticket, Hotel Booking',\n",
       "    'price': 50},\n",
       "   {'title': 'Afternoon: Cultural Heritage Tour',\n",
       "    'text': \"Visit the Kelantan State Museum to delve into the region's history and artistry. Then, explore the ornate architecture of the Istana Jahar and the Grand Mosque.\",\n",
       "    'inventory': 'Museum Ticket, Transportation',\n",
       "    'price': 30},\n",
       "   {'title': 'Evening: Pasar Siti Khadijah & Dinner',\n",
       "    'text': 'Experience the bustling atmosphere of Pasar Siti Khadijah, a market primarily run by women, and enjoy a delicious dinner of local Kelantanese cuisine.',\n",
       "    'inventory': 'Food & Drinks',\n",
       "    'price': 20}],\n",
       "  'day2_summary': 'Journey through nature and history',\n",
       "  'day2_itinerary': [{'title': 'Morning: Craft Villages',\n",
       "    'text': 'Visit the renowned craft villages of Kota Bharu, such as Kampung Kraftangan and Kampung Laut, to witness traditional batik making, songket weaving, and silverware crafting.',\n",
       "    'inventory': 'Transportation',\n",
       "    'price': 30},\n",
       "   {'title': 'Afternoon: Beach Relaxation',\n",
       "    'text': \"Head to Pantai Cahaya Bulan (PCB) or Pantai Irama for an afternoon of relaxation on Kelantan's beautiful beaches.\",\n",
       "    'inventory': 'Beach Essentials',\n",
       "    'price': 15},\n",
       "   {'title': 'Evening: Departure',\n",
       "    'text': 'Enjoy a final dinner in Kelantan before heading to the airport for your departure.',\n",
       "    'inventory': 'Food & Drinks, Transportation',\n",
       "    'price': 35}]},\n",
       " 'pricing': {'total_cost': 250,\n",
       "  'per_day_cost': 83.33,\n",
       "  'per_activity_cost': 'Varies'}}"
      ]
     },
     "execution_count": 22,
     "metadata": {},
     "output_type": "execute_result"
    }
   ],
   "source": [
    "x"
   ]
  },
  {
   "cell_type": "code",
   "execution_count": 15,
   "metadata": {},
   "outputs": [
    {
     "name": "stdout",
     "output_type": "stream",
     "text": [
      "[{\"recipe_name\": \"Chocolate Chip Cookies\", \"materials\": [{\"material\": \"Flour\", \"amount\": 250, \"cost\": 2.0}, {\"material\": \"Sugar\", \"amount\": 150, \"cost\": 1.5}, {\"material\": \"Chocolate Chips\", \"amount\": 200, \"cost\": 3.5}]}, {\"recipe_name\": \"Peanut Butter Cookies\", \"materials\": [{\"material\": \"Flour\", \"amount\": 200, \"cost\": 1.8}, {\"material\": \"Peanut Butter\", \"amount\": 250, \"cost\": 4.0}, {\"material\": \"Sugar\", \"amount\": 180, \"cost\": 1.7}]}, {\"recipe_name\": \"Oatmeal Raisin Cookies\", \"materials\": [{\"material\": \"Flour\", \"amount\": 220, \"cost\": 2.1}, {\"material\": \"Oats\", \"amount\": 150, \"cost\": 1.2}, {\"material\": \"Raisins\", \"amount\": 100, \"cost\": 2.8}]}, {\"recipe_name\": \"Sugar Cookies\", \"materials\": [{\"material\": \"Flour\", \"amount\": 280, \"cost\": 2.4}, {\"material\": \"Sugar\", \"amount\": 200, \"cost\": 2.2}, {\"material\": \"Butter\", \"amount\": 150, \"cost\": 3.0}]}, {\"recipe_name\": \"Snickerdoodle Cookies\", \"materials\": [{\"material\": \"Flour\", \"amount\": 260, \"cost\": 2.2}, {\"material\": \"Sugar\", \"amount\": 180, \"cost\": 1.9}, {\"material\": \"Cinnamon\", \"amount\": 50, \"cost\": 1.0}]}]\n",
      "\n"
     ]
    }
   ],
   "source": [
    "import google.generativeai as genai\n",
    "import google.ai.generativelanguage as glm\n",
    "import json\n",
    "\n",
    "from settings import GEMINI_API_KEY  # Ensure you have your API key set up\n",
    "\n",
    "apiKey = GEMINI_API_KEY  # Please set your API key.\n",
    "\n",
    "\n",
    "jsonSchema = {\n",
    "    \"title\": \"5 popular cookie recipes\",\n",
    "    \"description\": \"List 5 popular cookie recipes by including the following properties.\",\n",
    "    \"type\": \"array\",\n",
    "    \"items\": {\n",
    "        \"type\": \"object\",\n",
    "        \"properties\": {\n",
    "            \"recipe_name\": {\"description\": \"Names of recipe.\", \"type\": \"string\"},\n",
    "            \"materials\": {\n",
    "                \"description\": \"Requirement materials for running the recipe.\",\n",
    "                \"type\": \"array\",\n",
    "                \"items\": {\n",
    "                    \"type\": \"object\",\n",
    "                    \"properties\": {\n",
    "                        \"material\": {\n",
    "                            \"description\": \"Requirement material for running the recipe.\",\n",
    "                            \"type\": \"string\",\n",
    "                        },\n",
    "                        \"amount\": {\n",
    "                            \"description\": \"Requirement amount of material for running the recipe. Unit is grams.\",\n",
    "                            \"type\": \"number\",\n",
    "                        },\n",
    "                        \"cost\": {\n",
    "                            \"description\": \"Cost of requirement material for running the recipe. Unit is dollar.\",\n",
    "                            \"type\": \"number\",\n",
    "                        },\n",
    "                    },\n",
    "                    \"required\": [\"material\", \"material\", \"cost\"],\n",
    "                    \"additionalProperties\": False,\n",
    "                },\n",
    "            },\n",
    "        },\n",
    "        \"additionalProperties\": False,\n",
    "    },\n",
    "}\n",
    "\n",
    "prompt = f\"Follow JSON schema.<JSONSchema>{json.dumps(jsonSchema)}</JSONSchema>\"\n",
    "genai.configure(api_key=apiKey)\n",
    "model = genai.GenerativeModel(\n",
    "    model_name=\"gemini-1.5-pro-latest\",\n",
    "    generation_config={  # Modified section\n",
    "        \"response_mime_type\": \"application/json\",\n",
    "    },\n",
    ")\n",
    "response = model.generate_content(prompt)\n",
    "print(response.text)"
   ]
  },
  {
   "cell_type": "code",
   "execution_count": 6,
   "metadata": {},
   "outputs": [
    {
     "data": {
      "text/plain": [
       "response_mime_type: \"application/json\""
      ]
     },
     "execution_count": 6,
     "metadata": {},
     "output_type": "execute_result"
    }
   ],
   "source": [
    "import google.ai.generativelanguage as glm\n",
    "glm.GenerationConfig(response_mime_type=\"application/json\")"
   ]
  },
  {
   "cell_type": "code",
   "execution_count": null,
   "metadata": {},
   "outputs": [],
   "source": []
  },
  {
   "cell_type": "code",
   "execution_count": null,
   "metadata": {},
   "outputs": [],
   "source": []
  },
  {
   "cell_type": "markdown",
   "metadata": {},
   "source": [
    "ETL 2"
   ]
  },
  {
   "cell_type": "code",
   "execution_count": null,
   "metadata": {},
   "outputs": [],
   "source": [
    "from settings import GEMINI_API_KEY1\n",
    "from data.ingest import GoogleDriveExtractor\n",
    "\n",
    "extractor = GoogleDriveExtractor(\n",
    "    credentials_file=\"smart-platform.json\", \n",
    "    sheet_name=\"Master Database\",\n",
    "    worksheet_name=\"inventory\", \n",
    "    gemini_api_key=GEMINI_API_KEY1\n",
    ")"
   ]
  }
 ],
 "metadata": {
  "kernelspec": {
   "display_name": ".venv",
   "language": "python",
   "name": "python3"
  },
  "language_info": {
   "codemirror_mode": {
    "name": "ipython",
    "version": 3
   },
   "file_extension": ".py",
   "mimetype": "text/x-python",
   "name": "python",
   "nbconvert_exporter": "python",
   "pygments_lexer": "ipython3",
   "version": "3.12.2"
  }
 },
 "nbformat": 4,
 "nbformat_minor": 2
}
