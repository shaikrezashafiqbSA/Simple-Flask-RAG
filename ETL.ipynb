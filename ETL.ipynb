{
 "cells": [
  {
   "cell_type": "markdown",
   "metadata": {},
   "source": [
    "# 1) ETL: Load pdfs using gemini OCR"
   ]
  },
  {
   "cell_type": "code",
   "execution_count": null,
   "metadata": {},
   "outputs": [],
   "source": [
    "pip install -r requirements.txt"
   ]
  },
  {
   "cell_type": "code",
   "execution_count": 2,
   "metadata": {},
   "outputs": [],
   "source": [
    "from settings import GEMINI_API_KEY\n",
    "from data.ingest import GoogleDriveExtractor\n",
    "\n",
    "extractor = GoogleDriveExtractor(\n",
    "    credentials_file=\"smart-platform.json\", \n",
    "    sheet_name=\"Master Database\",\n",
    "    worksheet_name=\"inventory\", \n",
    "    gemini_api_key=GEMINI_API_KEY \n",
    ")\n"
   ]
  },
  {
   "cell_type": "code",
   "execution_count": 3,
   "metadata": {},
   "outputs": [
    {
     "name": "stdout",
     "output_type": "stream",
     "text": [
      "Folder Name: 01 Malacca (Shaz), Share Link: https://drive.google.com/drive/folders/1nstotWI9LYvUamNw-NSew-jnVDD7VAaH, Item Count: 2\n",
      "Folder Name: 17 Others, Share Link: https://drive.google.com/drive/folders/1pRG5W1oJEc8Ify3XQ0iWY1NXM-63FzhN, Item Count: 7\n",
      "Folder Name: 16 Umrah (Norra & Zul), Share Link: https://drive.google.com/drive/folders/1AQW3PViswZN18QRPTAhAdgrt9fxi6xsq, Item Count: 16\n",
      "Folder Name: 15 Perak (Malena), Share Link: https://drive.google.com/drive/folders/1Ne8NVDgbbvDvn4OKnzW3bQDl6g-y6Llx, Item Count: 3\n",
      "Folder Name: 14 Perlis (Noey), Share Link: https://drive.google.com/drive/folders/1GlEZiVla7ZQk1u8EcOVCM84nu_hXDwVk, Item Count: 9\n",
      "Folder Name: 13 Kedah (Noey), Share Link: https://drive.google.com/drive/folders/1eEu1iI23EAVTAjlzFGM3sF5XY1NIAAZF, Item Count: 18\n",
      "Folder Name: 12 Kelantan (Noey), Share Link: https://drive.google.com/drive/folders/1ohGD8AgMID2IdT3oo3bU_QZQatM6eC0x, Item Count: 1\n",
      "Folder Name: 11 Sabah (Zul), Share Link: https://drive.google.com/drive/folders/1_F3dWedZ4v15HZZwlmWxWtUVMPT-rMki, Item Count: 18\n",
      "Folder Name: 10 Sarawak (Norra), Share Link: https://drive.google.com/drive/folders/1jjLefPWa4xTp4WKwkx7CTKzj2b-hI8SN, Item Count: 6\n",
      "Folder Name: 09 Pahang ( Izzah) , Share Link: https://drive.google.com/drive/folders/1xY8JEm9bWmUy83bMZgi2pQlehjpQE_D-, Item Count: 14\n",
      "Folder Name: 08 Putrajaya (Izzah), Share Link: https://drive.google.com/drive/folders/1QQgknTQ8p9BEEOSnLWhsMWo5Dow2B_qv, Item Count: 1\n",
      "Folder Name: 07 Penang (Izzah), Share Link: https://drive.google.com/drive/folders/1ZmZg9Y-Irphr5hBeGNYPdaUdDYlPcUrX, Item Count: 5\n",
      "Folder Name: 06 Negeri Sembilan (Anies), Share Link: https://drive.google.com/drive/folders/1IYmwA194hmGB9v4yvbfG8ybH4p_t2jsz, Item Count: 3\n",
      "Folder Name: 05 Kuala Lumpur (Anies), Share Link: https://drive.google.com/drive/folders/1QeOs0LswGdEGMaEBRfWKAx9X2zZJfZk0, Item Count: 6\n",
      "Folder Name: 04 Johor (Anies), Share Link: https://drive.google.com/drive/folders/11h9zIUN9MU9m8MyEkIJzp-dAjjSNyyUp, Item Count: 2\n",
      "Folder Name: 03 Terengganu (Shaz), Share Link: https://drive.google.com/drive/folders/1HS2_3Xr9XlLuUliC9Zlito6vM9lc-o85, Item Count: 10\n",
      "Folder Name: 02 Selangor (Shaz), Share Link: https://drive.google.com/drive/folders/1uD7SEGQ5Y2o6oXMp-s53kKnKXXsVSD-X, Item Count: 11\n"
     ]
    }
   ],
   "source": [
    "folder_details_dict = extractor.view_folder_details(folder_link=\"https://drive.google.com/drive/folders/103epRgaKBSrXuLI7dhnfVLPs4d3bj94o?usp=drive_link\",\n",
    "                              credentials_file = \"smart-platform.json\")"
   ]
  },
  {
   "cell_type": "code",
   "execution_count": null,
   "metadata": {},
   "outputs": [],
   "source": [
    "folder_link= \"https://drive.google.com/drive/folders/1uD7SEGQ5Y2o6oXMp-s53kKnKXXsVSD-X\"\n",
    "extractor.run_ETL(folder_link)"
   ]
  },
  {
   "cell_type": "code",
   "execution_count": 1,
   "metadata": {},
   "outputs": [],
   "source": [
    "# # restarted from sabah\n",
    "# # folder_link = folder_details_dict['10 Sarawak (Norra)']+'?usp=drive_link'\n",
    "# for folder_name in list(folder_details_dict.keys()):\n",
    "#     print(f\"=====> {folder_name}\")\n",
    "#     folder_link = folder_details_dict[folder_name]+'?usp=drive_link'\n",
    "#     print(folder_link)\n",
    "#     extractor.run_ETL(folder_link)\n"
   ]
  },
  {
   "cell_type": "code",
   "execution_count": null,
   "metadata": {},
   "outputs": [],
   "source": []
  }
 ],
 "metadata": {
  "kernelspec": {
   "display_name": ".venv",
   "language": "python",
   "name": "python3"
  },
  "language_info": {
   "codemirror_mode": {
    "name": "ipython",
    "version": 3
   },
   "file_extension": ".py",
   "mimetype": "text/x-python",
   "name": "python",
   "nbconvert_exporter": "python",
   "pygments_lexer": "ipython3",
   "version": "3.12.2"
  }
 },
 "nbformat": 4,
 "nbformat_minor": 2
}
